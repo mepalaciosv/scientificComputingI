{
 "cells": [
  {
   "cell_type": "markdown",
   "id": "aa1e4ab3-36fb-462d-8a1f-d235534e4e82",
   "metadata": {},
   "source": [
    "# Sympy\n",
    "\n",
    "SymPy is a Python library made for symbolic mathematics. It allows us to make exact (not approximate) symbolic calculations for mathematical objects such as:\n",
    "\n",
    "- Algebraic expressions and solutions\n",
    "- Limits, derivatives and integrals\n",
    "- Partial differential equations\n",
    "- Matrices\n",
    "- Taylor and Fourier series\n",
    "\n",
    "A tipical SymPy block of code starts like this:"
   ]
  },
  {
   "cell_type": "code",
   "execution_count": null,
   "id": "ed7c946b-0d08-4202-a5f7-eb915ff24c3e",
   "metadata": {},
   "outputs": [],
   "source": [
    "import sympy as sp\n",
    "\n",
    "# If we don't use this, the code will render in pure ASCII characters without natural display\n",
    "sp.init_printing(use_unicode = True)"
   ]
  },
  {
   "cell_type": "markdown",
   "id": "d99a06c9-9540-4f34-8dbc-777930c726ba",
   "metadata": {},
   "source": [
    "After that, we can start using it in contexts like:"
   ]
  },
  {
   "cell_type": "markdown",
   "id": "69c4291d-41ac-4f52-9441-907a2d114e1a",
   "metadata": {},
   "source": [
    "## 1. Polynomials"
   ]
  },
  {
   "cell_type": "code",
   "execution_count": 11,
   "id": "4cd2da70-8adb-4c1b-a69c-b4f0173c29e5",
   "metadata": {},
   "outputs": [
    {
     "data": {
      "image/png": "[encoded data removed]",
      "text/latex": [
       "$\\displaystyle \\left(x + y\\right)^{2}$"
      ],
      "text/plain": [
       "       2\n",
       "(x + y) "
      ]
     },
     "execution_count": 11,
     "metadata": {},
     "output_type": "execute_result"
    }
   ],
   "source": [
    "x, y = sp.symbols(\"x y\") # This variables will be SymPy symbolic objects instead of numbers\n",
    "z = (x + y)**2 # We can define algebraic expressions using symbols\n",
    "z"
   ]
  },
  {
   "cell_type": "markdown",
   "id": "b821aee8-f8a2-4973-9f20-37c8781f6828",
   "metadata": {},
   "source": [
    "We can expand this expressions like this, that is, performing distribution, power rules and other properties to obtain a result as a sum of monomials. If the expression is already expanded, it will remain as it is."
   ]
  },
  {
   "cell_type": "code",
   "execution_count": 5,
   "id": "0f53b50d-6657-4a98-b20e-38696fb8a7c1",
   "metadata": {},
   "outputs": [
    {
     "data": {
      "image/png": "[encoded data removed]",
      "text/latex": [
       "$\\displaystyle x^{2} + 2 x y + y^{2}$"
      ],
      "text/plain": [
       " 2            2\n",
       "x  + 2⋅x⋅y + y "
      ]
     },
     "execution_count": 5,
     "metadata": {},
     "output_type": "execute_result"
    }
   ],
   "source": [
    "sp.expand(z)"
   ]
  },
  {
   "cell_type": "markdown",
   "id": "f837ccf8-173f-4555-8f26-9a4e7debdedc",
   "metadata": {},
   "source": [
    "This process can even do other kinds of functions if we use the right flags:"
   ]
  },
  {
   "cell_type": "code",
   "execution_count": 8,
   "id": "2e25c0a5-3dca-43f2-9ee3-7e7f9f9e3bd2",
   "metadata": {},
   "outputs": [
    {
     "data": {
      "image/png": "[encoded data removed]",
      "text/latex": [
       "$\\displaystyle 2 \\sin{\\left(x \\right)} \\cos{\\left(x \\right)}$"
      ],
      "text/plain": [
       "2⋅sin(x)⋅cos(x)"
      ]
     },
     "execution_count": 8,
     "metadata": {},
     "output_type": "execute_result"
    }
   ],
   "source": [
    "from sympy import sin # This sin is not the same as math's or NumPy's\n",
    "\n",
    "z = sin(x + x)\n",
    "sp.expand(z, trig = True)"
   ]
  },
  {
   "cell_type": "markdown",
   "id": "fd0fe787-2a10-4a24-a8eb-6a21b25e5fc7",
   "metadata": {},
   "source": [
    "We can do the opposite process to obtain factored expressions:"
   ]
  },
  {
   "cell_type": "code",
   "execution_count": 12,
   "id": "9350f4a2-f5a9-4e7e-99ef-6ffd1097efb8",
   "metadata": {},
   "outputs": [
    {
     "data": {
      "image/png": "[encoded data removed]",
      "text/latex": [
       "$\\displaystyle \\left(x - y\\right)^{3}$"
      ],
      "text/plain": [
       "       3\n",
       "(x - y) "
      ]
     },
     "execution_count": 12,
     "metadata": {},
     "output_type": "execute_result"
    }
   ],
   "source": [
    "w = x**3 - 3*x**2 * y-3 *x* y**2 - y**3 + 6*x * y**2\n",
    "sp.factor(w)"
   ]
  },
  {
   "cell_type": "markdown",
   "id": "92e37d1d-ca8a-4c12-bd23-fc77b974c5bc",
   "metadata": {},
   "source": [
    "`collect` is useful when one wants to find the coefficients of a polynomial."
   ]
  },
  {
   "cell_type": "code",
   "execution_count": 8,
   "id": "9f06b8ac-4359-4fc2-a6c0-ba65ac29dc4f",
   "metadata": {},
   "outputs": [
    {
     "data": {
      "image/png": "[encoded data removed]",
      "text/latex": [
       "$\\displaystyle c + x^{2} \\left(a + b\\right) + x \\left(a - b\\right)$"
      ],
      "text/plain": [
       "     2                    \n",
       "c + x ⋅(a + b) + x⋅(a - b)"
      ]
     },
     "execution_count": 8,
     "metadata": {},
     "output_type": "execute_result"
    }
   ],
   "source": [
    "a, b, c = sp.symbols(\"a b c\")\n",
    "sp.collect(a*x**2 + b*x**2 + a*x - b*x + c, x)"
   ]
  },
  {
   "cell_type": "markdown",
   "id": "115be9ed-346d-49ff-94a3-88063a6742bf",
   "metadata": {},
   "source": [
    "### Polynomial roots\n",
    "Finding roots of polynomials is easy for polynomials of degree 1 and 2. For 3rd and 4th grade the formulas are really cumbersome, and for degree higher than 5 it is impossible to find a general formula. `sympy` can find roots for polynomials of degree 4 or lower."
   ]
  },
  {
   "cell_type": "code",
   "execution_count": 9,
   "id": "fead710f-ece2-4b80-a624-7c4f5a1e6140",
   "metadata": {},
   "outputs": [
    {
     "data": {
      "image/png": "[encoded data removed]",
      "text/latex": [
       "$\\displaystyle \\left[ 1\\right]$"
      ],
      "text/plain": [
       "[1]"
      ]
     },
     "execution_count": 9,
     "metadata": {},
     "output_type": "execute_result"
    }
   ],
   "source": [
    "sp.solve(x**2 - 2*x + 1, x)"
   ]
  },
  {
   "cell_type": "code",
   "execution_count": 10,
   "id": "83e30192-f493-4d4a-bd56-f2450dda3645",
   "metadata": {},
   "outputs": [
    {
     "data": {
      "image/png": "[encoded data removed]",
      "text/latex": [
       "$\\displaystyle \\left[ - i, \\  i\\right]$"
      ],
      "text/plain": [
       "[-ⅈ, ⅈ]"
      ]
     },
     "execution_count": 10,
     "metadata": {},
     "output_type": "execute_result"
    }
   ],
   "source": [
    "sp.solve(x**2 + 1, x)"
   ]
  },
  {
   "cell_type": "code",
   "execution_count": 11,
   "id": "f1192617-29d5-4a6b-863a-0b140bed8a81",
   "metadata": {},
   "outputs": [
    {
     "data": {
      "image/png": "[encoded data removed]",
      "text/latex": [
       "$\\displaystyle \\left[ -1, \\  \\frac{1}{2} - \\frac{\\sqrt{51} i}{6}, \\  \\frac{1}{2} + \\frac{\\sqrt{51} i}{6}\\right]$"
      ],
      "text/plain": [
       "⎡    1   √51⋅ⅈ  1   √51⋅ⅈ⎤\n",
       "⎢-1, ─ - ─────, ─ + ─────⎥\n",
       "⎣    2     6    2     6  ⎦"
      ]
     },
     "execution_count": 11,
     "metadata": {},
     "output_type": "execute_result"
    }
   ],
   "source": [
    "sp.solve(3*x**3 + 2*x + 5, x)"
   ]
  },
  {
   "cell_type": "code",
   "execution_count": 12,
   "id": "2ea7d310-4de2-4e4c-86ff-58bfc8cf0c41",
   "metadata": {},
   "outputs": [
    {
     "data": {
      "image/png": "[encoded data removed]",
      "text/latex": [
       "$\\displaystyle \\left[ - \\frac{3}{4} - \\frac{\\sqrt{- \\frac{4}{3 \\sqrt[3]{- \\frac{9}{8} + \\frac{\\sqrt{8097}}{72}}} + 2 \\sqrt[3]{- \\frac{9}{8} + \\frac{\\sqrt{8097}}{72}} + \\frac{9}{4}}}{2} + \\frac{\\sqrt{- 2 \\sqrt[3]{- \\frac{9}{8} + \\frac{\\sqrt{8097}}{72}} + \\frac{4}{3 \\sqrt[3]{- \\frac{9}{8} + \\frac{\\sqrt{8097}}{72}}} + \\frac{9}{2} + \\frac{27}{4 \\sqrt{- \\frac{4}{3 \\sqrt[3]{- \\frac{9}{8} + \\frac{\\sqrt{8097}}{72}}} + 2 \\sqrt[3]{- \\frac{9}{8} + \\frac{\\sqrt{8097}}{72}} + \\frac{9}{4}}}}}{2}, \\  - \\frac{3}{4} + \\frac{\\sqrt{- \\frac{4}{3 \\sqrt[3]{- \\frac{9}{8} + \\frac{\\sqrt{8097}}{72}}} + 2 \\sqrt[3]{- \\frac{9}{8} + \\frac{\\sqrt{8097}}{72}} + \\frac{9}{4}}}{2} - \\frac{\\sqrt{- \\frac{27}{4 \\sqrt{- \\frac{4}{3 \\sqrt[3]{- \\frac{9}{8} + \\frac{\\sqrt{8097}}{72}}} + 2 \\sqrt[3]{- \\frac{9}{8} + \\frac{\\sqrt{8097}}{72}} + \\frac{9}{4}}} - 2 \\sqrt[3]{- \\frac{9}{8} + \\frac{\\sqrt{8097}}{72}} + \\frac{4}{3 \\sqrt[3]{- \\frac{9}{8} + \\frac{\\sqrt{8097}}{72}}} + \\frac{9}{2}}}{2}, \\  - \\frac{3}{4} + \\frac{\\sqrt{- \\frac{4}{3 \\sqrt[3]{- \\frac{9}{8} + \\frac{\\sqrt{8097}}{72}}} + 2 \\sqrt[3]{- \\frac{9}{8} + \\frac{\\sqrt{8097}}{72}} + \\frac{9}{4}}}{2} + \\frac{\\sqrt{- \\frac{27}{4 \\sqrt{- \\frac{4}{3 \\sqrt[3]{- \\frac{9}{8} + \\frac{\\sqrt{8097}}{72}}} + 2 \\sqrt[3]{- \\frac{9}{8} + \\frac{\\sqrt{8097}}{72}} + \\frac{9}{4}}} - 2 \\sqrt[3]{- \\frac{9}{8} + \\frac{\\sqrt{8097}}{72}} + \\frac{4}{3 \\sqrt[3]{- \\frac{9}{8} + \\frac{\\sqrt{8097}}{72}}} + \\frac{9}{2}}}{2}, \\  - \\frac{\\sqrt{- 2 \\sqrt[3]{- \\frac{9}{8} + \\frac{\\sqrt{8097}}{72}} + \\frac{4}{3 \\sqrt[3]{- \\frac{9}{8} + \\frac{\\sqrt{8097}}{72}}} + \\frac{9}{2} + \\frac{27}{4 \\sqrt{- \\frac{4}{3 \\sqrt[3]{- \\frac{9}{8} + \\frac{\\sqrt{8097}}{72}}} + 2 \\sqrt[3]{- \\frac{9}{8} + \\frac{\\sqrt{8097}}{72}} + \\frac{9}{4}}}}}{2} - \\frac{3}{4} - \\frac{\\sqrt{- \\frac{4}{3 \\sqrt[3]{- \\frac{9}{8} + \\frac{\\sqrt{8097}}{72}}} + 2 \\sqrt[3]{- \\frac{9}{8} + \\frac{\\sqrt{8097}}{72}} + \\frac{9}{4}}}{2}\\right]$"
      ],
      "text/plain": [
       "⎡                                                                              ↪\n",
       "⎢                                                                              ↪\n",
       "⎢                                                                            ╱ ↪\n",
       "⎢                                                                           ╱  ↪\n",
       "⎢              _________________________________________________           ╱   ↪\n",
       "⎢             ╱                               _____________               ╱    ↪\n",
       "⎢            ╱             4                 ╱   9   √8097    9          ╱     ↪\n",
       "⎢           ╱   - ─────────────────── + 2⋅3 ╱  - ─ + ─────  + ─         ╱      ↪\n",
       "⎢          ╱            _____________     ╲╱     8    72      4        ╱       ↪\n",
       "⎢         ╱            ╱   9   √8097                                  ╱        ↪\n",
       "⎢        ╱        3⋅3 ╱  - ─ + ─────                                 ╱         ↪\n",
       "⎢  3   ╲╱           ╲╱     8    72                                 ╲╱          ↪\n",
       "⎢- ─ - ───────────────────────────────────────────────────────── + ─────────── ↪\n",
       "⎣  4                               2                                           ↪\n",
       "\n",
       "↪  ___________________________________________________________________________ ↪\n",
       "↪ ╱         _____________                                                      ↪\n",
       "↪          ╱   9   √8097             4            9                            ↪\n",
       "↪   - 2⋅3 ╱  - ─ + ─────  + ─────────────────── + ─ + ──────────────────────── ↪\n",
       "↪       ╲╱     8    72            _____________   2             ______________ ↪\n",
       "↪                                ╱   9   √8097                 ╱               ↪\n",
       "↪                           3⋅3 ╱  - ─ + ─────                ╱             4  ↪\n",
       "↪                             ╲╱     8    72          4⋅     ╱   - ─────────── ↪\n",
       "↪                                                           ╱            _____ ↪\n",
       "↪                                                          ╱            ╱   9  ↪\n",
       "↪                                                         ╱        3⋅3 ╱  - ─  ↪\n",
       "↪                                                       ╲╱           ╲╱     8  ↪\n",
       "↪ ──────────────────────────────────────────────────────────────────────────── ↪\n",
       "↪                                                   2                          ↪\n",
       "\n",
       "↪ ____________________________________                                         ↪\n",
       "↪                                                                              ↪\n",
       "↪     27                                                                       ↪\n",
       "↪ ───────────────────────────────────                                          ↪\n",
       "↪ ___________________________________                 ________________________ ↪\n",
       "↪                  _____________                     ╱                         ↪\n",
       "↪                 ╱   9   √8097    9                ╱             4            ↪\n",
       "↪ ──────── + 2⋅3 ╱  - ─ + ─────  + ─               ╱   - ─────────────────── + ↪\n",
       "↪ ________     ╲╱     8    72      4              ╱            _____________   ↪\n",
       "↪   √8097                                        ╱            ╱   9   √8097    ↪\n",
       "↪ + ─────                                       ╱        3⋅3 ╱  - ─ + ─────    ↪\n",
       "↪    72                                   3   ╲╱           ╲╱     8    72      ↪\n",
       "↪ ────────────────────────────────────, - ─ + ──────────────────────────────── ↪\n",
       "↪                                         4                               2    ↪\n",
       "\n",
       "↪                                         ____________________________________ ↪\n",
       "↪                                        ╱                                     ↪\n",
       "↪                                       ╱                                27    ↪\n",
       "↪                                      ╱   - ───────────────────────────────── ↪\n",
       "↪ _________________________           ╱                _______________________ ↪\n",
       "↪        _____________               ╱                ╱                        ↪\n",
       "↪       ╱   9   √8097    9          ╱                ╱             4           ↪\n",
       "↪  2⋅3 ╱  - ─ + ─────  + ─         ╱         4⋅     ╱   - ───────────────────  ↪\n",
       "↪    ╲╱     8    72      4        ╱                ╱            _____________  ↪\n",
       "↪                                ╱                ╱            ╱   9   √8097   ↪\n",
       "↪                               ╱                ╱        3⋅3 ╱  - ─ + ─────   ↪\n",
       "↪                             ╲╱               ╲╱           ╲╱     8    72     ↪\n",
       "↪ ───────────────────────── - ──────────────────────────────────────────────── ↪\n",
       "↪                                                                              ↪\n",
       "\n",
       "↪ ___________________________________________________________________________  ↪\n",
       "↪                                    _____________                             ↪\n",
       "↪                                   ╱   9   √8097             4            9   ↪\n",
       "↪ ────────────────────────── - 2⋅3 ╱  - ─ + ─────  + ─────────────────── + ─   ↪\n",
       "↪ __________________________     ╲╱     8    72            _____________   2   ↪\n",
       "↪         _____________                                   ╱   9   √8097        ↪\n",
       "↪        ╱   9   √8097    9                          3⋅3 ╱  - ─ + ─────        ↪\n",
       "↪ + 2⋅3 ╱  - ─ + ─────  + ─                            ╲╱     8    72          ↪\n",
       "↪     ╲╱     8    72      4                                                    ↪\n",
       "↪                                                                              ↪\n",
       "↪                                                                              ↪\n",
       "↪                                                                              ↪\n",
       "↪ ───────────────────────────────────────────────────────────────────────────, ↪\n",
       "↪              2                                                               ↪\n",
       "\n",
       "↪                                                                              ↪\n",
       "↪                                                                              ↪\n",
       "↪                                                                              ↪\n",
       "↪                                                                              ↪\n",
       "↪                _________________________________________________           ╱ ↪\n",
       "↪               ╱                               _____________               ╱  ↪\n",
       "↪              ╱             4                 ╱   9   √8097    9          ╱   ↪\n",
       "↪             ╱   - ─────────────────── + 2⋅3 ╱  - ─ + ─────  + ─         ╱    ↪\n",
       "↪            ╱            _____________     ╲╱     8    72      4        ╱     ↪\n",
       "↪           ╱            ╱   9   √8097                                  ╱      ↪\n",
       "↪          ╱        3⋅3 ╱  - ─ + ─────                                 ╱       ↪\n",
       "↪    3   ╲╱           ╲╱     8    72                                 ╲╱        ↪\n",
       "↪  - ─ + ───────────────────────────────────────────────────────── + ───────── ↪\n",
       "↪    4                               2                                         ↪\n",
       "\n",
       "↪    _________________________________________________________________________ ↪\n",
       "↪   ╱                                                                       __ ↪\n",
       "↪  ╱                                27                                     ╱   ↪\n",
       "↪ ╱   - ─────────────────────────────────────────────────────────── - 2⋅3 ╱  - ↪\n",
       "↪                 _________________________________________________     ╲╱     ↪\n",
       "↪                ╱                               _____________                 ↪\n",
       "↪               ╱             4                 ╱   9   √8097    9             ↪\n",
       "↪       4⋅     ╱   - ─────────────────── + 2⋅3 ╱  - ─ + ─────  + ─             ↪\n",
       "↪             ╱            _____________     ╲╱     8    72      4             ↪\n",
       "↪            ╱            ╱   9   √8097                                        ↪\n",
       "↪           ╱        3⋅3 ╱  - ─ + ─────                                        ↪\n",
       "↪         ╲╱           ╲╱     8    72                                          ↪\n",
       "↪ ──────────────────────────────────────────────────────────────────────────── ↪\n",
       "↪                                                     2                        ↪\n",
       "\n",
       "↪ ______________________________________                ______________________ ↪\n",
       "↪ ___________                                          ╱         _____________ ↪\n",
       "↪  9   √8097             4            9               ╱         ╱   9   √8097  ↪\n",
       "↪  ─ + ─────  + ─────────────────── + ─              ╱   - 2⋅3 ╱  - ─ + ─────  ↪\n",
       "↪  8    72            _____________   2             ╱        ╲╱     8    72    ↪\n",
       "↪                    ╱   9   √8097                 ╱                           ↪\n",
       "↪               3⋅3 ╱  - ─ + ─────                ╱                            ↪\n",
       "↪                 ╲╱     8    72                 ╱                             ↪\n",
       "↪                                               ╱                              ↪\n",
       "↪                                              ╱                               ↪\n",
       "↪                                             ╱                                ↪\n",
       "↪                                           ╲╱                                 ↪\n",
       "↪ ──────────────────────────────────────, - ────────────────────────────────── ↪\n",
       "↪                                                                              ↪\n",
       "\n",
       "↪ ____________________________________________________________________________ ↪\n",
       "↪                                                                              ↪\n",
       "↪             4            9                               27                  ↪\n",
       "↪  + ─────────────────── + ─ + ─────────────────────────────────────────────── ↪\n",
       "↪          _____________   2             _____________________________________ ↪\n",
       "↪         ╱   9   √8097                 ╱                               ______ ↪\n",
       "↪    3⋅3 ╱  - ─ + ─────                ╱             4                 ╱   9   ↪\n",
       "↪      ╲╱     8    72          4⋅     ╱   - ─────────────────── + 2⋅3 ╱  - ─ + ↪\n",
       "↪                                    ╱            _____________     ╲╱     8   ↪\n",
       "↪                                   ╱            ╱   9   √8097                 ↪\n",
       "↪                                  ╱        3⋅3 ╱  - ─ + ─────                 ↪\n",
       "↪                                ╲╱           ╲╱     8    72                   ↪\n",
       "↪ ──────────────────────────────────────────────────────────────────────────── ↪\n",
       "↪                            2                                                 ↪\n",
       "\n",
       "↪ _____________                                                                ↪\n",
       "↪                                                                              ↪\n",
       "↪                                                                              ↪\n",
       "↪ ────────────                                                                 ↪\n",
       "↪ ____________                ________________________________________________ ↪\n",
       "↪ _______                    ╱                               _____________     ↪\n",
       "↪  √8097    9               ╱             4                 ╱   9   √8097    9 ↪\n",
       "↪  ─────  + ─              ╱   - ─────────────────── + 2⋅3 ╱  - ─ + ─────  + ─ ↪\n",
       "↪   72      4             ╱            _____________     ╲╱     8    72      4 ↪\n",
       "↪                        ╱            ╱   9   √8097                            ↪\n",
       "↪                       ╱        3⋅3 ╱  - ─ + ─────                            ↪\n",
       "↪                 3   ╲╱           ╲╱     8    72                              ↪\n",
       "↪ ───────────── - ─ - ──────────────────────────────────────────────────────── ↪\n",
       "↪                 4                               2                            ↪\n",
       "\n",
       "↪  ⎤\n",
       "↪  ⎥\n",
       "↪  ⎥\n",
       "↪  ⎥\n",
       "↪ _⎥\n",
       "↪  ⎥\n",
       "↪  ⎥\n",
       "↪  ⎥\n",
       "↪  ⎥\n",
       "↪  ⎥\n",
       "↪  ⎥\n",
       "↪  ⎥\n",
       "↪ ─⎥\n",
       "↪  ⎦"
      ]
     },
     "execution_count": 12,
     "metadata": {},
     "output_type": "execute_result"
    }
   ],
   "source": [
    "sp.solve(x**4 + 3*x**3 - 2, x)"
   ]
  },
  {
   "cell_type": "markdown",
   "id": "31ff36f0",
   "metadata": {},
   "source": [
    "Check what happens for polynomials with degree greater than 5:"
   ]
  },
  {
   "cell_type": "code",
   "execution_count": 13,
   "id": "50055525-6efa-48f3-bcb4-4d939f2a96c1",
   "metadata": {},
   "outputs": [
    {
     "data": {
      "image/png": "[encoded data removed]",
      "text/latex": [
       "$\\displaystyle \\left[ \\operatorname{CRootOf} {\\left(x^{6} - x^{4} + 3 x^{3} - 2, 0\\right)}, \\  \\operatorname{CRootOf} {\\left(x^{6} - x^{4} + 3 x^{3} - 2, 1\\right)}, \\  \\operatorname{CRootOf} {\\left(x^{6} - x^{4} + 3 x^{3} - 2, 2\\right)}, \\  \\operatorname{CRootOf} {\\left(x^{6} - x^{4} + 3 x^{3} - 2, 3\\right)}, \\  \\operatorname{CRootOf} {\\left(x^{6} - x^{4} + 3 x^{3} - 2, 4\\right)}, \\  \\operatorname{CRootOf} {\\left(x^{6} - x^{4} + 3 x^{3} - 2, 5\\right)}\\right]$"
      ],
      "text/plain": [
       "⎡       ⎛ 6    4      3       ⎞         ⎛ 6    4      3       ⎞         ⎛ 6    ↪\n",
       "⎣CRootOf⎝x  - x  + 3⋅x  - 2, 0⎠, CRootOf⎝x  - x  + 3⋅x  - 2, 1⎠, CRootOf⎝x  -  ↪\n",
       "\n",
       "↪  4      3       ⎞         ⎛ 6    4      3       ⎞         ⎛ 6    4      3    ↪\n",
       "↪ x  + 3⋅x  - 2, 2⎠, CRootOf⎝x  - x  + 3⋅x  - 2, 3⎠, CRootOf⎝x  - x  + 3⋅x  -  ↪\n",
       "\n",
       "↪     ⎞         ⎛ 6    4      3       ⎞⎤\n",
       "↪ 2, 4⎠, CRootOf⎝x  - x  + 3⋅x  - 2, 5⎠⎦"
      ]
     },
     "execution_count": 13,
     "metadata": {},
     "output_type": "execute_result"
    }
   ],
   "source": [
    "sp.solve(x**6 - x**4 + 3*x**3 - 2, x)"
   ]
  },
  {
   "cell_type": "markdown",
   "id": "96ab6316-a146-49dc-85e6-e3c55803e48d",
   "metadata": {},
   "source": [
    "To find numerical roots, we can use `numpy` (or `scipy`)"
   ]
  },
  {
   "cell_type": "code",
   "execution_count": 14,
   "id": "fab8ad14-d813-4ba6-b8ae-b0d08a7c5a9d",
   "metadata": {},
   "outputs": [],
   "source": [
    "import numpy.polynomial.polynomial as poly"
   ]
  },
  {
   "cell_type": "code",
   "execution_count": 15,
   "id": "9a5d253f-4869-4da4-aad4-afd77912030e",
   "metadata": {},
   "outputs": [
    {
     "data": {
      "text/plain": [
       "array([-0.68213911-1.05600261j, -0.68213911+1.05600261j,\n",
       "       -0.58042709+0.j        ,  0.41182793-0.5626706j ,\n",
       "        0.41182793+0.5626706j ,  1.12104943+0.j        ])"
      ]
     },
     "execution_count": 15,
     "metadata": {},
     "output_type": "execute_result"
    }
   ],
   "source": [
    "poly.polyroots([1, 0, -1, 3, 0, 0, -2])"
   ]
  },
  {
   "cell_type": "markdown",
   "id": "76489c08-5e67-4c5b-8209-5c124c108f15",
   "metadata": {},
   "source": [
    "`solve` can face other kinds of equations."
   ]
  },
  {
   "cell_type": "code",
   "execution_count": 16,
   "id": "432e7441-7c88-4e69-952e-105d3af189af",
   "metadata": {},
   "outputs": [
    {
     "data": {
      "image/png": "[encoded data removed]",
      "text/latex": [
       "$\\displaystyle \\left[ 0, \\  \\pi\\right]$"
      ],
      "text/plain": [
       "[0, π]"
      ]
     },
     "execution_count": 16,
     "metadata": {},
     "output_type": "execute_result"
    }
   ],
   "source": [
    "sp.solve(sp.sin(x), x)"
   ]
  },
  {
   "cell_type": "code",
   "execution_count": 17,
   "id": "b1413180-f679-4399-ba6c-d5bcc660ae13",
   "metadata": {},
   "outputs": [
    {
     "data": {
      "image/png": "[encoded data removed]",
      "text/latex": [
       "$\\displaystyle \\left[ - \\frac{\\sqrt{5}}{5}, \\  \\frac{\\sqrt{5}}{5}\\right]$"
      ],
      "text/plain": [
       "⎡-√5   √5⎤\n",
       "⎢────, ──⎥\n",
       "⎣ 5    5 ⎦"
      ]
     },
     "execution_count": 17,
     "metadata": {},
     "output_type": "execute_result"
    }
   ],
   "source": [
    "sp.solve(1 / (1*x**2) - 5, x)"
   ]
  },
  {
   "cell_type": "markdown",
   "id": "98f48376-a79d-4acb-975c-ee3e0741f3ae",
   "metadata": {},
   "source": [
    "### Fractions"
   ]
  },
  {
   "cell_type": "code",
   "execution_count": 19,
   "id": "35878ac7-c21e-4bce-a975-79f2d8f1c021",
   "metadata": {},
   "outputs": [
    {
     "data": {
      "image/png": "[encoded data removed]",
      "text/latex": [
       "$\\displaystyle \\frac{x}{y} + \\frac{\\Sigma}{\\Omega}$"
      ],
      "text/plain": [
       "x   \\Sigma\n",
       "─ + ──────\n",
       "y   \\Omega"
      ]
     },
     "execution_count": 19,
     "metadata": {},
     "output_type": "execute_result"
    }
   ],
   "source": [
    "a, b = sp.symbols(\"\\\\Sigma \\\\Omega\") #LaTeX friendly\n",
    "z = x / y + a / b\n",
    "z"
   ]
  },
  {
   "cell_type": "code",
   "execution_count": 20,
   "id": "1b492a97-0522-4b60-8b74-ac2be417e97d",
   "metadata": {},
   "outputs": [
    {
     "data": {
      "text/plain": [
       "'\\\\frac{x}{y} + \\\\frac{\\\\Sigma}{\\\\Omega}'"
      ]
     },
     "execution_count": 20,
     "metadata": {},
     "output_type": "execute_result"
    }
   ],
   "source": [
    "sp.latex(z)"
   ]
  },
  {
   "cell_type": "code",
   "execution_count": 21,
   "id": "9e13b7f5-c357-4983-9d7d-3dc605723475",
   "metadata": {},
   "outputs": [
    {
     "data": {
      "image/png": "[encoded data removed]",
      "text/latex": [
       "$\\displaystyle \\left( \\Omega x + \\Sigma y, \\  \\Omega y\\right)$"
      ],
      "text/plain": [
       "(\\Omega⋅x + \\Sigma⋅y, \\Omega⋅y)"
      ]
     },
     "execution_count": 21,
     "metadata": {},
     "output_type": "execute_result"
    }
   ],
   "source": [
    "sp.fraction(sp.together(z))"
   ]
  },
  {
   "cell_type": "markdown",
   "id": "27097d6e-4035-4528-be80-81f111c81151",
   "metadata": {},
   "source": [
    "### Limits"
   ]
  },
  {
   "cell_type": "code",
   "execution_count": 22,
   "id": "5d16fb14-2271-484b-a3d7-eb674641694c",
   "metadata": {},
   "outputs": [],
   "source": [
    "x = sp.symbols(\"x\")"
   ]
  },
  {
   "cell_type": "code",
   "execution_count": 23,
   "id": "58010b82-07fa-4b48-948c-ede34ce7811d",
   "metadata": {},
   "outputs": [
    {
     "data": {
      "image/png": "[encoded data removed]",
      "text/latex": [
       "$\\displaystyle \\infty$"
      ],
      "text/plain": [
       "∞"
      ]
     },
     "execution_count": 23,
     "metadata": {},
     "output_type": "execute_result"
    }
   ],
   "source": [
    "sp.limit(sp.exp(x) / x, x, sp.oo)"
   ]
  },
  {
   "cell_type": "code",
   "execution_count": 24,
   "id": "699283bf-969b-4bf8-a838-51378215c371",
   "metadata": {},
   "outputs": [
    {
     "data": {
      "image/png": "[encoded data removed]",
      "text/latex": [
       "$\\displaystyle 1$"
      ],
      "text/plain": [
       "1"
      ]
     },
     "execution_count": 24,
     "metadata": {},
     "output_type": "execute_result"
    }
   ],
   "source": [
    "sp.limit(sp.sin(x) / x, x, 0)"
   ]
  },
  {
   "cell_type": "code",
   "execution_count": 25,
   "id": "01eeb1be-bdf5-441c-9225-6003852cd7a6",
   "metadata": {},
   "outputs": [
    {
     "data": {
      "image/png": "[encoded data removed]",
      "text/latex": [
       "$\\displaystyle \\frac{- 2 \\log{\\left(2 \\right)} + \\log{\\left(5 \\right)}}{- \\log{\\left(2 \\right)} + \\log{\\left(3 \\right)}}$"
      ],
      "text/plain": [
       "-2⋅log(2) + log(5)\n",
       "──────────────────\n",
       " -log(2) + log(3) "
      ]
     },
     "execution_count": 25,
     "metadata": {},
     "output_type": "execute_result"
    }
   ],
   "source": [
    "#Ref: https://math.stackexchange.com/questions/347078/weird-calculus-limit\n",
    "sp.limit((5**x - 4**x) / (3**x - 2**x), x, 0)"
   ]
  },
  {
   "cell_type": "code",
   "execution_count": 26,
   "id": "3c8ec8cf-ca8c-4d9e-9b2e-f7367a0174fe",
   "metadata": {},
   "outputs": [
    {
     "data": {
      "image/png": "[encoded data removed]",
      "text/latex": [
       "$\\displaystyle e$"
      ],
      "text/plain": [
       "ℯ"
      ]
     },
     "execution_count": 26,
     "metadata": {},
     "output_type": "execute_result"
    }
   ],
   "source": [
    "sp.limit((1 + 1/x)**x, x, sp.oo)"
   ]
  },
  {
   "cell_type": "markdown",
   "id": "aa784a1f-3fdf-4c6a-8c94-67777bc17842",
   "metadata": {},
   "source": [
    "### Derivatives"
   ]
  },
  {
   "cell_type": "code",
   "execution_count": 27,
   "id": "ebf8057d-1ec9-4801-b954-fea0ba05500d",
   "metadata": {},
   "outputs": [
    {
     "data": {
      "image/png": "[encoded data removed]",
      "text/latex": [
       "$\\displaystyle e^{x} \\sin^{2}{\\left(x \\right)} + 2 e^{x} \\sin{\\left(x \\right)} \\cos{\\left(x \\right)}$"
      ],
      "text/plain": [
       " x    2         x              \n",
       "ℯ ⋅sin (x) + 2⋅ℯ ⋅sin(x)⋅cos(x)"
      ]
     },
     "execution_count": 27,
     "metadata": {},
     "output_type": "execute_result"
    }
   ],
   "source": [
    "sp.diff(sp.sin(x)**2 * sp.exp(x), x)"
   ]
  },
  {
   "cell_type": "code",
   "execution_count": 28,
   "id": "5aa7e38b-c87b-47bd-a592-8974d5660045",
   "metadata": {},
   "outputs": [
    {
     "data": {
      "image/png": "[encoded data removed]",
      "text/latex": [
       "$\\displaystyle e^{0.5 \\pi}$"
      ],
      "text/plain": [
       " 0.5⋅π\n",
       "ℯ     "
      ]
     },
     "execution_count": 28,
     "metadata": {},
     "output_type": "execute_result"
    }
   ],
   "source": [
    "a = sp.diff(sp.sin(x)**2 * sp.exp(x), x)\n",
    "a.replace(x, sp.pi/2.)"
   ]
  },
  {
   "cell_type": "markdown",
   "id": "969f6b12-ddea-438e-b625-efd8ec6dcb86",
   "metadata": {},
   "source": [
    "### Integrals"
   ]
  },
  {
   "cell_type": "code",
   "execution_count": 29,
   "id": "bd134ff3-5e39-4725-9c41-0981a70564d3",
   "metadata": {},
   "outputs": [
    {
     "data": {
      "image/png": "[encoded data removed]",
      "text/latex": [
       "$\\displaystyle \\frac{x^{6}}{6}$"
      ],
      "text/plain": [
       " 6\n",
       "x \n",
       "──\n",
       "6 "
      ]
     },
     "execution_count": 29,
     "metadata": {},
     "output_type": "execute_result"
    }
   ],
   "source": [
    "sp.integrate(x**5, x)"
   ]
  },
  {
   "cell_type": "code",
   "execution_count": 31,
   "id": "18f714e4-be9b-4c92-9a66-eb42a4859a28",
   "metadata": {},
   "outputs": [
    {
     "data": {
      "image/png": "[encoded data removed]",
      "text/latex": [
       "$\\displaystyle \\int \\sqrt{\\tan{\\left(x \\right)}}\\, dx$"
      ],
      "text/plain": [
       "⌠              \n",
       "⎮   ________   \n",
       "⎮ ╲╱ tan(x)  dx\n",
       "⌡              "
      ]
     },
     "execution_count": 31,
     "metadata": {},
     "output_type": "execute_result"
    }
   ],
   "source": [
    "sp.integrate(sp.sqrt(sp.tan(x)), x)"
   ]
  },
  {
   "cell_type": "code",
   "execution_count": 34,
   "id": "6ee864dc-db30-4aaa-acd9-632c1691f4bf",
   "metadata": {},
   "outputs": [
    {
     "data": {
      "image/png": "[encoded data removed]",
      "text/latex": [
       "$\\displaystyle \\int\\limits_{0}^{0.125 \\pi} \\sqrt{\\tan{\\left(x \\right)}}\\, dx$"
      ],
      "text/plain": [
       "0.125⋅π              \n",
       "   ⌠                 \n",
       "   ⎮      ________   \n",
       "   ⎮    ╲╱ tan(x)  dx\n",
       "   ⌡                 \n",
       "   0                 "
      ]
     },
     "execution_count": 34,
     "metadata": {},
     "output_type": "execute_result"
    }
   ],
   "source": [
    "sp.integrate(sp.sqrt(sp.tan(x)), (x, 0, sp.pi/8.))"
   ]
  },
  {
   "cell_type": "code",
   "execution_count": 32,
   "id": "a2ad458b-812e-42a2-a05e-eff5bbb3aa4c",
   "metadata": {},
   "outputs": [
    {
     "data": {
      "image/png": "[encoded data removed]",
      "text/latex": [
       "$\\displaystyle \\sqrt{\\pi}$"
      ],
      "text/plain": [
       "√π"
      ]
     },
     "execution_count": 32,
     "metadata": {},
     "output_type": "execute_result"
    }
   ],
   "source": [
    "sp.integrate(sp.exp(-x**2), (x,-sp.oo, sp.oo))"
   ]
  },
  {
   "cell_type": "markdown",
   "id": "c0c36508-9d84-41e7-bdc3-ef075f796074",
   "metadata": {},
   "source": [
    "### Ordinary Differential Equations"
   ]
  },
  {
   "cell_type": "code",
   "execution_count": 35,
   "id": "3d2a33a7-4a31-4149-9d0b-ca54bd65bb39",
   "metadata": {},
   "outputs": [],
   "source": [
    "f = sp.Function(\"f\")"
   ]
  },
  {
   "cell_type": "markdown",
   "id": "5030aea0-07c8-4aff-aba5-ebe7ecc65632",
   "metadata": {},
   "source": [
    "Let us solve $$f''(x)+f(x)=0$$"
   ]
  },
  {
   "cell_type": "code",
   "execution_count": 36,
   "id": "edb2a558-e8a9-48ad-bc77-dd3ce7a27230",
   "metadata": {},
   "outputs": [
    {
     "data": {
      "image/png": "[encoded data removed]",
      "text/latex": [
       "$\\displaystyle f{\\left(x \\right)} = C_{1} \\sin{\\left(x \\right)} + C_{2} \\cos{\\left(x \\right)}$"
      ],
      "text/plain": [
       "f(x) = C₁⋅sin(x) + C₂⋅cos(x)"
      ]
     },
     "execution_count": 36,
     "metadata": {},
     "output_type": "execute_result"
    }
   ],
   "source": [
    "sp.dsolve(f(x).diff(x,x) + f(x), f(x))"
   ]
  },
  {
   "cell_type": "markdown",
   "id": "f5d8da28-aadc-4d3c-bfec-4e6ca4b555a0",
   "metadata": {},
   "source": [
    "Now let us solve $$f''(x)-f(x)=e^x$$"
   ]
  },
  {
   "cell_type": "code",
   "execution_count": 37,
   "id": "b442273c-c471-48da-b3ef-aba37f294da9",
   "metadata": {},
   "outputs": [
    {
     "data": {
      "image/png": "[encoded data removed]",
      "text/latex": [
       "$\\displaystyle f{\\left(x \\right)} = C_{2} e^{- x} + \\left(C_{1} + \\frac{x}{2}\\right) e^{x}$"
      ],
      "text/plain": [
       "           -x   ⎛     x⎞  x\n",
       "f(x) = C₂⋅ℯ   + ⎜C₁ + ─⎟⋅ℯ \n",
       "                ⎝     2⎠   "
      ]
     },
     "execution_count": 37,
     "metadata": {},
     "output_type": "execute_result"
    }
   ],
   "source": [
    "sp.dsolve(f(x).diff(x,x) - f(x) - sp.exp(x), f(x))"
   ]
  },
  {
   "cell_type": "markdown",
   "id": "20d73d7e-20cb-4e04-b2f8-bea2064b5b4b",
   "metadata": {},
   "source": [
    "### Partial Differential Equations"
   ]
  },
  {
   "cell_type": "code",
   "execution_count": 38,
   "id": "1eb4272e-e6a7-4bbb-8580-13f4dd4965b6",
   "metadata": {},
   "outputs": [
    {
     "data": {
      "image/png": "[encoded data removed]",
      "text/latex": [
       "$\\displaystyle \\frac{\\partial}{\\partial x} f{\\left(x,y \\right)} + \\frac{\\partial}{\\partial y} f{\\left(x,y \\right)}$"
      ],
      "text/plain": [
       "∂             ∂          \n",
       "──(f(x, y)) + ──(f(x, y))\n",
       "∂x            ∂y         "
      ]
     },
     "execution_count": 38,
     "metadata": {},
     "output_type": "execute_result"
    }
   ],
   "source": [
    "f = sp.Function('f')\n",
    "u = f(x, y)\n",
    "ux = u.diff(x)\n",
    "uy = u.diff(y)\n",
    "equation = ux + uy\n",
    "equation"
   ]
  },
  {
   "cell_type": "code",
   "execution_count": 39,
   "id": "5347682b-d405-4d04-a121-24d719855bdf",
   "metadata": {},
   "outputs": [
    {
     "data": {
      "image/png": "[encoded data removed]",
      "text/latex": [
       "$\\displaystyle f{\\left(x,y \\right)} = F{\\left(x - y \\right)}$"
      ],
      "text/plain": [
       "f(x, y) = F(x - y)"
      ]
     },
     "execution_count": 39,
     "metadata": {},
     "output_type": "execute_result"
    }
   ],
   "source": [
    "m = sp.pdsolve(equation)\n",
    "m"
   ]
  },
  {
   "cell_type": "markdown",
   "id": "c25bd6e5-2c46-4336-b174-3b7b4558a90c",
   "metadata": {},
   "source": [
    "### Matrices"
   ]
  },
  {
   "cell_type": "code",
   "execution_count": 40,
   "id": "29846a34-0bb7-4d8c-924b-2869e95a5cce",
   "metadata": {},
   "outputs": [
    {
     "data": {
      "image/png": "[encoded data removed]",
      "text/latex": [
       "$\\displaystyle \\left\\{ \\frac{a}{2} + \\frac{d}{2} - \\frac{\\sqrt{a^{2} - 2 a d + 4 b c + d^{2}}}{2} : 1, \\  \\frac{a}{2} + \\frac{d}{2} + \\frac{\\sqrt{a^{2} - 2 a d + 4 b c + d^{2}}}{2} : 1\\right\\}$"
      ],
      "text/plain": [
       "⎧           _________________________                _________________________ ↪\n",
       "⎪          ╱  2                    2                ╱  2                    2  ↪\n",
       "⎨a   d   ╲╱  a  - 2⋅a⋅d + 4⋅b⋅c + d       a   d   ╲╱  a  - 2⋅a⋅d + 4⋅b⋅c + d   ↪\n",
       "⎪─ + ─ - ────────────────────────────: 1, ─ + ─ + ──────────────────────────── ↪\n",
       "⎩2   2                2                   2   2                2               ↪\n",
       "\n",
       "↪    ⎫\n",
       "↪    ⎪\n",
       "↪    ⎬\n",
       "↪ : 1⎪\n",
       "↪    ⎭"
      ]
     },
     "execution_count": 40,
     "metadata": {},
     "output_type": "execute_result"
    }
   ],
   "source": [
    "a, b, c, d = sp.symbols(\"a b c d\")\n",
    "m = sp.Matrix([[a,b], [c,d]])\n",
    "m.eigenvals()"
   ]
  },
  {
   "cell_type": "markdown",
   "id": "bea55a7e-46d3-4524-99f4-fec6aafe00de",
   "metadata": {},
   "source": [
    "### Series\n",
    "#### Taylor Series"
   ]
  },
  {
   "cell_type": "code",
   "execution_count": 41,
   "id": "632677a8-75d6-40f8-a323-4ad5b068abb7",
   "metadata": {},
   "outputs": [
    {
     "data": {
      "image/png": "[encoded data removed]",
      "text/latex": [
       "$\\displaystyle x - \\frac{x^{3}}{6} + \\frac{x^{5}}{120} - \\frac{x^{7}}{5040} + \\frac{x^{9}}{362880} + O\\left(x^{10}\\right)$"
      ],
      "text/plain": [
       "     3    5      7       9           \n",
       "    x    x      x       x       ⎛ 10⎞\n",
       "x - ── + ─── - ──── + ────── + O⎝x  ⎠\n",
       "    6    120   5040   362880         "
      ]
     },
     "execution_count": 41,
     "metadata": {},
     "output_type": "execute_result"
    }
   ],
   "source": [
    "f = sp.sin(x)\n",
    "\n",
    "# Compute the Taylor series expansion around x = 0 (Maclaurin series)\n",
    "taylor_series = f.series(x, 0, 10)  # Taylor expansion up to the 9th degree\n",
    "taylor_series"
   ]
  },
  {
   "cell_type": "code",
   "execution_count": 42,
   "id": "5f6e0394-9e46-4846-85a8-8be71c9d2fac",
   "metadata": {},
   "outputs": [
    {
     "data": {
      "image/png": "[encoded data removed]",
      "text/latex": [
       "$\\displaystyle x - \\frac{x^{3}}{6} + \\frac{x^{5}}{120} - \\frac{x^{7}}{5040} + \\frac{x^{9}}{362880} + O\\left(x^{10}\\right)$"
      ],
      "text/plain": [
       "     3    5      7       9           \n",
       "    x    x      x       x       ⎛ 10⎞\n",
       "x - ── + ─── - ──── + ────── + O⎝x  ⎠\n",
       "    6    120   5040   362880         "
      ]
     },
     "execution_count": 42,
     "metadata": {},
     "output_type": "execute_result"
    }
   ],
   "source": [
    "taylor_series.simplify()"
   ]
  },
  {
   "cell_type": "code",
   "execution_count": 43,
   "id": "6972955b-8460-4f5b-a449-03333ff5f03d",
   "metadata": {},
   "outputs": [],
   "source": [
    "# Convert the symbolic series expression to a numerical function\n",
    "taylor_series_function = sp.lambdify(x, taylor_series.removeO())  # Removing the order term O(x^n)\n",
    "sin_function = sp.lambdify(x, f)"
   ]
  },
  {
   "cell_type": "code",
   "execution_count": 44,
   "id": "bb516192-46ca-4d8f-892d-3c8b89b8dd59",
   "metadata": {},
   "outputs": [
    {
     "data": {
      "image/png": "[encoded data removed]",
      "text/latex": [
       "$\\displaystyle -0.0176064366566883$"
      ],
      "text/plain": [
       "np.float64(-0.017606436656688346)"
      ]
     },
     "execution_count": 44,
     "metadata": {},
     "output_type": "execute_result"
    }
   ],
   "source": [
    "sin_function(3.1592)"
   ]
  },
  {
   "cell_type": "markdown",
   "id": "daab422d-9059-4113-bd89-423dae29cb80",
   "metadata": {},
   "source": [
    "#### Fourier Series"
   ]
  },
  {
   "cell_type": "code",
   "execution_count": 46,
   "id": "56cb1a6f-0646-4f2d-845f-d25466f485e3",
   "metadata": {},
   "outputs": [
    {
     "data": {
      "image/png": "[encoded data removed]",
      "text/latex": [
       "$\\displaystyle 2 \\sin{\\left(x \\right)} - \\sin{\\left(2 x \\right)} + \\frac{2 \\sin{\\left(3 x \\right)}}{3} - \\frac{\\sin{\\left(4 x \\right)}}{2} + \\frac{2 \\sin{\\left(5 x \\right)}}{5} - \\frac{\\sin{\\left(6 x \\right)}}{3}$"
      ],
      "text/plain": [
       "                      2⋅sin(3⋅x)   sin(4⋅x)   2⋅sin(5⋅x)   sin(6⋅x)\n",
       "2⋅sin(x) - sin(2⋅x) + ────────── - ──────── + ────────── - ────────\n",
       "                          3           2           5           3    "
      ]
     },
     "execution_count": 46,
     "metadata": {},
     "output_type": "execute_result"
    }
   ],
   "source": [
    "# Define the function f(x) = x in the range (-π, π)\n",
    "f = x\n",
    "\n",
    "# Compute the Fourier series up to the 6th term\n",
    "fourier_series = sp.fourier_series(f, (x, -sp.pi, sp.pi))\n",
    "fourier_series.truncate(6)"
   ]
  },
  {
   "cell_type": "markdown",
   "id": "a879a3ec-5534-406b-9b96-bc140d7f477c",
   "metadata": {},
   "source": [
    "- Plot this fourier series against the original function."
   ]
  },
  {
   "cell_type": "markdown",
   "id": "d9ad7ea0-6c87-47b5-a0fd-4de8e2977d04",
   "metadata": {},
   "source": [
    "### Geometry"
   ]
  },
  {
   "cell_type": "code",
   "execution_count": 47,
   "id": "82873c38-d331-4242-af86-f501850998dd",
   "metadata": {},
   "outputs": [
    {
     "data": {
      "image/png": "[encoded data removed]",
      "text/latex": [
       "$\\displaystyle \\left[ \\left( - \\frac{1}{4} + \\frac{\\sqrt{7}}{4}, \\  \\frac{1}{4} + \\frac{\\sqrt{7}}{4}\\right), \\  \\left( - \\frac{\\sqrt{7}}{4} - \\frac{1}{4}, \\  \\frac{1}{4} - \\frac{\\sqrt{7}}{4}\\right)\\right]$"
      ],
      "text/plain": [
       "⎡⎛  1   √7  1   √7⎞  ⎛  √7   1  1   √7⎞⎤\n",
       "⎢⎜- ─ + ──, ─ + ──⎟, ⎜- ── - ─, ─ - ──⎟⎥\n",
       "⎣⎝  4   4   4   4 ⎠  ⎝  4    4  4   4 ⎠⎦"
      ]
     },
     "execution_count": 47,
     "metadata": {},
     "output_type": "execute_result"
    }
   ],
   "source": [
    "# Define the equation of the circle: x^2 + y^2 = 1\n",
    "circle_eq = sp.Eq(x**2 + y**2, 1)\n",
    "\n",
    "# Define the equation of a line: y = x + 1/2\n",
    "line_eq = sp.Eq(y, x + sp.Rational(1, 2))\n",
    "\n",
    "# Solve the system of equations (circle and line)\n",
    "intersection_points = sp.solve([circle_eq, line_eq], (x, y))\n",
    "intersection_points"
   ]
  },
  {
   "cell_type": "markdown",
   "id": "45dc5429-ab1f-4af6-b7f7-2eca8f7bfa38",
   "metadata": {},
   "source": [
    "### Command Line Interface\n",
    "If you use\n",
    "```python\n",
    "from sympy import init_printing\n",
    "from sympy import init_session\n",
    "init_session(quiet = True) \n",
    "```\n",
    "You can print math equations in ascii as console output."
   ]
  },
  {
   "cell_type": "markdown",
   "id": "d281696e",
   "metadata": {},
   "source": []
  }
 ],
 "metadata": {
  "kernelspec": {
   "display_name": "Python 3 (ipykernel)",
   "language": "python",
   "name": "python3"
  },
  "language_info": {
   "codemirror_mode": {
    "name": "ipython",
    "version": 3
   },
   "file_extension": ".py",
   "mimetype": "text/x-python",
   "name": "python",
   "nbconvert_exporter": "python",
   "pygments_lexer": "ipython3",
   "version": "3.13.5"
  }
 },
 "nbformat": 4,
 "nbformat_minor": 5
}
