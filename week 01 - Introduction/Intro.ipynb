{
 "cells": [
  {
   "cell_type": "markdown",
   "id": "8b73fea2-473e-40a3-a051-4282fc6a7b5d",
   "metadata": {},
   "source": [
    "### Different Cell Types"
   ]
  },
  {
   "cell_type": "code",
   "execution_count": null,
   "id": "2503fce3-305f-4ffb-a193-aed8aeb3e566",
   "metadata": {},
   "outputs": [],
   "source": []
  },
  {
   "cell_type": "markdown",
   "id": "23e9c8dc-544b-43f3-affb-4a42ee71e180",
   "metadata": {},
   "source": [
    "### Primitive Data Types"
   ]
  },
  {
   "cell_type": "code",
   "execution_count": 3,
   "id": "3dddc9d4-3d41-4212-b119-5721abca734a",
   "metadata": {},
   "outputs": [
    {
     "name": "stdout",
     "output_type": "stream",
     "text": [
      "<class 'int'> <class 'float'> <class 'str'> <class 'bool'>\n"
     ]
    }
   ],
   "source": [
    "a=2\n",
    "b=3.\n",
    "c=\"Hola\"\n",
    "d=False\n",
    "print(type(a),type(b),type(c),type(d))"
   ]
  },
  {
   "cell_type": "markdown",
   "id": "ec6eb3b7-b5aa-443b-9d6d-dfbecd84dd0c",
   "metadata": {},
   "source": [
    "### Elemental Operations"
   ]
  },
  {
   "cell_type": "code",
   "execution_count": 4,
   "id": "68483032-8e86-4e49-b7df-62623befc980",
   "metadata": {},
   "outputs": [
    {
     "name": "stdout",
     "output_type": "stream",
     "text": [
      "5.0\n",
      "0.6666666666666666\n",
      "0.6666666666666666\n",
      "8\n",
      "2.0\n",
      "Hola Mundo\n",
      "HolaHolaHola\n",
      "True\n"
     ]
    }
   ],
   "source": [
    "print(a+b)\n",
    "print(a/b)\n",
    "print(a/3)\n",
    "print(a**3)\n",
    "print(a%b)\n",
    "print(c+\" Mundo\")\n",
    "print(c*3)\n",
    "print(not(d))"
   ]
  },
  {
   "cell_type": "markdown",
   "id": "639a4b9c-f248-4497-900c-3acf4ff4d523",
   "metadata": {},
   "source": [
    "### Comments\n",
    "Tool to leave information to the readers of your code (probably notes for your future self) that will not be executed."
   ]
  },
  {
   "cell_type": "code",
   "execution_count": 5,
   "id": "9e852c96-ea58-4a13-86a5-9dc53f35a0b2",
   "metadata": {},
   "outputs": [
    {
     "name": "stdout",
     "output_type": "stream",
     "text": [
      "This will be executed\n"
     ]
    }
   ],
   "source": [
    "# One line comment\n",
    "\n",
    "\"\"\"\n",
    "Comment of an arbitrary number of\n",
    "lines.\n",
    "\"\"\"\n",
    "print(\"This will be executed\")"
   ]
  },
  {
   "cell_type": "markdown",
   "id": "1ed0d7f6-df81-43cb-93e0-513a569daee5",
   "metadata": {},
   "source": [
    "### Arrays\n",
    "#### Lists"
   ]
  },
  {
   "cell_type": "code",
   "execution_count": 6,
   "id": "29c38643-8593-49af-b746-bac54b5d52fc",
   "metadata": {},
   "outputs": [
    {
     "name": "stdout",
     "output_type": "stream",
     "text": [
      "[2, 3.0, 'Hola', False]\n",
      "[[1, 2], [3, 4]]\n"
     ]
    }
   ],
   "source": [
    "lista=[a,b,c,d]\n",
    "print(lista)\n",
    "matrix=[[1,2],[3,4]]\n",
    "print(matrix)"
   ]
  },
  {
   "cell_type": "code",
   "execution_count": 7,
   "id": "1c731a95-0aae-4451-a395-23457a2c697a",
   "metadata": {},
   "outputs": [
    {
     "name": "stdout",
     "output_type": "stream",
     "text": [
      "These are the methods of the list class\n",
      "['__add__', '__class__', '__class_getitem__', '__contains__', '__delattr__', '__delitem__', '__dir__', '__eq__', '__format__', '__ge__', '__getattribute__', '__getitem__', '__getstate__', '__gt__', '__iadd__', '__imul__', '__init__', '__init_subclass__', '__iter__', '__le__', '__len__', '__lt__', '__mul__', '__ne__', '__new__', '__reduce__', '__reduce_ex__', '__repr__', '__reversed__', '__rmul__', '__setattr__', '__setitem__', '__sizeof__', '__str__', '__subclasshook__', 'append', 'clear', 'copy', 'count', 'extend', 'index', 'insert', 'pop', 'remove', 'reverse', 'sort']\n",
      "\n",
      "To know the usage of a given method, \n",
      "write help(<object_name>.<method_name>).\n"
     ]
    }
   ],
   "source": [
    "print(\"These are the methods of the list class\")\n",
    "print([method for method in dir(matrix) if callable(getattr(matrix, method))])\n",
    "print(\"\\n\"+\"To know the usage of a given method, \\nwrite help(<object_name>.<method_name>).\")"
   ]
  },
  {
   "cell_type": "markdown",
   "id": "f80c3976-fc55-49d4-a030-542d6a8e5363",
   "metadata": {},
   "source": [
    "Let us practice a bit."
   ]
  },
  {
   "cell_type": "code",
   "execution_count": 18,
   "id": "93c96030-7dc0-472f-a7b9-58651864e038",
   "metadata": {},
   "outputs": [],
   "source": [
    "lista.append(51)"
   ]
  },
  {
   "cell_type": "code",
   "execution_count": 14,
   "id": "c127c68f-63e4-496c-ae2a-075d2df6fef2",
   "metadata": {},
   "outputs": [
    {
     "data": {
      "text/plain": [
       "3.0"
      ]
     },
     "execution_count": 14,
     "metadata": {},
     "output_type": "execute_result"
    }
   ],
   "source": [
    "lista.pop(1)"
   ]
  },
  {
   "cell_type": "code",
   "execution_count": 24,
   "id": "21bff645-d3b5-4db4-908d-be4bff5535f2",
   "metadata": {},
   "outputs": [
    {
     "ename": "ValueError",
     "evalue": "list.remove(x): x not in list",
     "output_type": "error",
     "traceback": [
      "\u001b[0;31m---------------------------------------------------------------------------\u001b[0m",
      "\u001b[0;31mValueError\u001b[0m                                Traceback (most recent call last)",
      "Cell \u001b[0;32mIn[24], line 1\u001b[0m\n\u001b[0;32m----> 1\u001b[0m \u001b[43mlista\u001b[49m\u001b[38;5;241;43m.\u001b[39;49m\u001b[43mremove\u001b[49m\u001b[43m(\u001b[49m\u001b[38;5;241;43m51\u001b[39;49m\u001b[43m)\u001b[49m\n",
      "\u001b[0;31mValueError\u001b[0m: list.remove(x): x not in list"
     ]
    }
   ],
   "source": [
    "lista.remove(51)"
   ]
  },
  {
   "cell_type": "code",
   "execution_count": 25,
   "id": "4d64e833-815f-44eb-b72b-db43ce815b12",
   "metadata": {},
   "outputs": [
    {
     "data": {
      "text/plain": [
       "[2, 'Hola']"
      ]
     },
     "execution_count": 25,
     "metadata": {},
     "output_type": "execute_result"
    }
   ],
   "source": [
    "lista"
   ]
  },
  {
   "cell_type": "code",
   "execution_count": 28,
   "id": "0950ead3-9dbb-4708-ac79-192ecb986257",
   "metadata": {},
   "outputs": [
    {
     "data": {
      "text/plain": [
       "'Hola'"
      ]
     },
     "execution_count": 28,
     "metadata": {},
     "output_type": "execute_result"
    }
   ],
   "source": [
    "lista[1]"
   ]
  },
  {
   "cell_type": "code",
   "execution_count": 29,
   "id": "aafcca03-71c4-4bbb-9e19-b880067bc413",
   "metadata": {},
   "outputs": [
    {
     "data": {
      "text/plain": [
       "2"
      ]
     },
     "execution_count": 29,
     "metadata": {},
     "output_type": "execute_result"
    }
   ],
   "source": [
    "matrix[0].pop(1)"
   ]
  },
  {
   "cell_type": "code",
   "execution_count": 30,
   "id": "ec0058a9-64ec-41a8-b375-7c4398b5a7ab",
   "metadata": {},
   "outputs": [
    {
     "data": {
      "text/plain": [
       "[[1], [3, 4]]"
      ]
     },
     "execution_count": 30,
     "metadata": {},
     "output_type": "execute_result"
    }
   ],
   "source": [
    "matrix"
   ]
  },
  {
   "cell_type": "code",
   "execution_count": 34,
   "id": "9615a1eb-8530-40e2-af0c-bc0ea41165c9",
   "metadata": {},
   "outputs": [],
   "source": [
    "matrix.insert(1, \"tomate\")"
   ]
  },
  {
   "cell_type": "code",
   "execution_count": 35,
   "id": "9f1069d2-cde4-426b-8c2f-000034a3cd20",
   "metadata": {},
   "outputs": [
    {
     "data": {
      "text/plain": [
       "['Mundo', 'tomate', [1], [3, 4]]"
      ]
     },
     "execution_count": 35,
     "metadata": {},
     "output_type": "execute_result"
    }
   ],
   "source": [
    "matrix"
   ]
  },
  {
   "cell_type": "code",
   "execution_count": 42,
   "id": "0aee7da6-4a19-4682-90cb-d7de82d55370",
   "metadata": {},
   "outputs": [],
   "source": [
    "matrix2 = matrix.copy()"
   ]
  },
  {
   "cell_type": "code",
   "execution_count": 44,
   "id": "f37ffacf-798b-4b37-b159-1d119dcec948",
   "metadata": {},
   "outputs": [],
   "source": [
    "matrix2.append(True)"
   ]
  },
  {
   "cell_type": "code",
   "execution_count": 45,
   "id": "9e078a0b-30b6-44f3-9f2e-7a7603ec3cc5",
   "metadata": {},
   "outputs": [
    {
     "data": {
      "text/plain": [
       "['Mundo', 'tomate', [1], [3, 4], True, True]"
      ]
     },
     "execution_count": 45,
     "metadata": {},
     "output_type": "execute_result"
    }
   ],
   "source": [
    "matrix2"
   ]
  },
  {
   "cell_type": "code",
   "execution_count": 47,
   "id": "0eb1f675-4cd8-4450-a8e7-9fcd899b6e07",
   "metadata": {},
   "outputs": [
    {
     "data": {
      "text/plain": [
       "[7, 9, 11, 13, 5]"
      ]
     },
     "execution_count": 47,
     "metadata": {},
     "output_type": "execute_result"
    }
   ],
   "source": [
    "l1 = [1,2,3,4,5]\n",
    "l2 = [6,7,8,9,0]\n",
    "[x + y for x, y in zip(l1, l2)]"
   ]
  },
  {
   "cell_type": "code",
   "execution_count": 55,
   "id": "e3683697-afd5-4fef-b86a-aae1b23007b5",
   "metadata": {},
   "outputs": [
    {
     "data": {
      "text/plain": [
       "[1, 3, 5]"
      ]
     },
     "execution_count": 55,
     "metadata": {},
     "output_type": "execute_result"
    }
   ],
   "source": [
    "l1[0::2]"
   ]
  },
  {
   "cell_type": "code",
   "execution_count": 58,
   "id": "bebc10ef-e6e5-4c60-90e0-d4e9e208cce6",
   "metadata": {},
   "outputs": [],
   "source": [
    "l1[0] = True"
   ]
  },
  {
   "cell_type": "code",
   "execution_count": 59,
   "id": "bc7a9e4c-bce1-4475-b384-73ce3d5deefb",
   "metadata": {},
   "outputs": [
    {
     "data": {
      "text/plain": [
       "[True, 2, 3, 4, 5]"
      ]
     },
     "execution_count": 59,
     "metadata": {},
     "output_type": "execute_result"
    }
   ],
   "source": [
    "l1"
   ]
  },
  {
   "cell_type": "markdown",
   "id": "01f06485-7e4b-4c34-a960-41f5c4c287b3",
   "metadata": {},
   "source": [
    "#### Tuples\n",
    "These are inmutable lists."
   ]
  },
  {
   "cell_type": "code",
   "execution_count": 61,
   "id": "1bd0b733-b4eb-4eb8-b10f-4d74e004c17a",
   "metadata": {},
   "outputs": [
    {
     "ename": "TypeError",
     "evalue": "'tuple' object does not support item assignment",
     "output_type": "error",
     "traceback": [
      "\u001b[0;31m---------------------------------------------------------------------------\u001b[0m",
      "\u001b[0;31mTypeError\u001b[0m                                 Traceback (most recent call last)",
      "Cell \u001b[0;32mIn[61], line 2\u001b[0m\n\u001b[1;32m      1\u001b[0m tupla\u001b[38;5;241m=\u001b[39m(\u001b[38;5;241m1\u001b[39m,\u001b[38;5;241m2\u001b[39m,\u001b[38;5;241m3\u001b[39m)\n\u001b[0;32m----> 2\u001b[0m \u001b[43mtupla\u001b[49m\u001b[43m[\u001b[49m\u001b[38;5;241;43m0\u001b[39;49m\u001b[43m]\u001b[49m \u001b[38;5;241m=\u001b[39m \u001b[38;5;241m2\u001b[39m\n",
      "\u001b[0;31mTypeError\u001b[0m: 'tuple' object does not support item assignment"
     ]
    }
   ],
   "source": [
    "tupla=(1,2,3)\n",
    "tupla[0] = 2"
   ]
  },
  {
   "cell_type": "markdown",
   "id": "3ee042fe-f683-4532-862f-f46d902a0fde",
   "metadata": {},
   "source": [
    "#### Sets\n",
    "Usual definition of mathematical sets."
   ]
  },
  {
   "cell_type": "code",
   "execution_count": 62,
   "id": "206fa89c-24bd-48c1-853e-1b2df61b7fcb",
   "metadata": {},
   "outputs": [
    {
     "name": "stdout",
     "output_type": "stream",
     "text": [
      "{1, 2, 3}\n",
      "{1, 2, 3, 4}\n"
     ]
    }
   ],
   "source": [
    "conjunto={1,2,3,3}\n",
    "print(conjunto)\n",
    "print(conjunto.union({2,3,4}))"
   ]
  },
  {
   "cell_type": "code",
   "execution_count": 63,
   "id": "060eb6a8-cc09-4b31-bde3-2bbeff8b5a3e",
   "metadata": {},
   "outputs": [
    {
     "name": "stdout",
     "output_type": "stream",
     "text": [
      "['__and__', '__class__', '__class_getitem__', '__contains__', '__delattr__', '__dir__', '__eq__', '__format__', '__ge__', '__getattribute__', '__getstate__', '__gt__', '__iand__', '__init__', '__init_subclass__', '__ior__', '__isub__', '__iter__', '__ixor__', '__le__', '__len__', '__lt__', '__ne__', '__new__', '__or__', '__rand__', '__reduce__', '__reduce_ex__', '__repr__', '__ror__', '__rsub__', '__rxor__', '__setattr__', '__sizeof__', '__str__', '__sub__', '__subclasshook__', '__xor__', 'add', 'clear', 'copy', 'difference', 'difference_update', 'discard', 'intersection', 'intersection_update', 'isdisjoint', 'issubset', 'issuperset', 'pop', 'remove', 'symmetric_difference', 'symmetric_difference_update', 'union', 'update']\n"
     ]
    }
   ],
   "source": [
    "print([method for method in dir(conjunto) if callable(getattr(conjunto, method))])"
   ]
  },
  {
   "cell_type": "code",
   "execution_count": 69,
   "id": "fd3f1d3a-a613-4f0b-9a3c-0e5a9f259b65",
   "metadata": {},
   "outputs": [],
   "source": [
    "conjunto.update({3,4,5}, {5,6,7})"
   ]
  },
  {
   "cell_type": "code",
   "execution_count": 70,
   "id": "aef5c515-0660-4c3f-9f19-13a9620579a3",
   "metadata": {},
   "outputs": [
    {
     "data": {
      "text/plain": [
       "{1, 2, 3, 4, 5, 6, 7}"
      ]
     },
     "execution_count": 70,
     "metadata": {},
     "output_type": "execute_result"
    }
   ],
   "source": [
    "conjunto"
   ]
  },
  {
   "cell_type": "markdown",
   "id": "37522943-0190-44a8-8bb3-6c8d1f0288f7",
   "metadata": {},
   "source": [
    "Let us practice a bit."
   ]
  },
  {
   "cell_type": "markdown",
   "id": "f7431c9f-fa98-4a2b-b266-0033a5337c79",
   "metadata": {},
   "source": [
    "### Dictionaries\n",
    "These are lists indexed by strings, instead of natural numbers."
   ]
  },
  {
   "cell_type": "code",
   "execution_count": 73,
   "id": "0caf3886-e463-45e6-97b2-36387400e381",
   "metadata": {},
   "outputs": [
    {
     "ename": "KeyError",
     "evalue": "0",
     "output_type": "error",
     "traceback": [
      "\u001b[0;31m---------------------------------------------------------------------------\u001b[0m",
      "\u001b[0;31mKeyError\u001b[0m                                  Traceback (most recent call last)",
      "Cell \u001b[0;32mIn[73], line 2\u001b[0m\n\u001b[1;32m      1\u001b[0m diccionario\u001b[38;5;241m=\u001b[39m{\u001b[38;5;124m\"\u001b[39m\u001b[38;5;124muno\u001b[39m\u001b[38;5;124m\"\u001b[39m:\u001b[38;5;241m1\u001b[39m, \u001b[38;5;124m\"\u001b[39m\u001b[38;5;124mnombre\u001b[39m\u001b[38;5;124m\"\u001b[39m:\u001b[38;5;124m\"\u001b[39m\u001b[38;5;124mAlex\u001b[39m\u001b[38;5;124m\"\u001b[39m, \u001b[38;5;124m\"\u001b[39m\u001b[38;5;124mEstudiantes\u001b[39m\u001b[38;5;124m\"\u001b[39m:[\u001b[38;5;124m\"\u001b[39m\u001b[38;5;124mPython\u001b[39m\u001b[38;5;124m\"\u001b[39m, \u001b[38;5;124m\"\u001b[39m\u001b[38;5;124mNada\u001b[39m\u001b[38;5;124m\"\u001b[39m]}\n\u001b[0;32m----> 2\u001b[0m \u001b[38;5;28mprint\u001b[39m(\u001b[43mdiccionario\u001b[49m\u001b[43m[\u001b[49m\u001b[38;5;241;43m0\u001b[39;49m\u001b[43m]\u001b[49m)\n",
      "\u001b[0;31mKeyError\u001b[0m: 0"
     ]
    }
   ],
   "source": [
    "diccionario={\"uno\":1, \"nombre\":\"Alex\", \"Estudiantes\":[\"Python\", \"Nada\"]}\n",
    "print(diccionario[0])"
   ]
  },
  {
   "cell_type": "code",
   "execution_count": 74,
   "id": "4df1cb35-c101-44e7-b817-8c44a128c650",
   "metadata": {},
   "outputs": [
    {
     "name": "stdout",
     "output_type": "stream",
     "text": [
      "1\n",
      "Alex\n",
      "['Python', 'Nada']\n"
     ]
    }
   ],
   "source": [
    "print(diccionario[\"uno\"])\n",
    "print(diccionario[\"nombre\"])\n",
    "print(diccionario[\"Estudiantes\"])"
   ]
  },
  {
   "cell_type": "markdown",
   "id": "9ce8ede7-2364-4f50-9770-ecc2c5b4e7a0",
   "metadata": {},
   "source": [
    "Let us practice a bit."
   ]
  },
  {
   "cell_type": "code",
   "execution_count": 75,
   "id": "e9fa4691-beaf-485b-813c-67bae4a9f42c",
   "metadata": {},
   "outputs": [
    {
     "data": {
      "text/plain": [
       "dict_keys(['uno', 'nombre', 'Estudiantes'])"
      ]
     },
     "execution_count": 75,
     "metadata": {},
     "output_type": "execute_result"
    }
   ],
   "source": [
    "diccionario.keys()"
   ]
  },
  {
   "cell_type": "code",
   "execution_count": 77,
   "id": "6fbcaa65-3468-46c9-8452-e127fc9b5fdb",
   "metadata": {},
   "outputs": [],
   "source": [
    "diccionario[\"new\"] = True"
   ]
  },
  {
   "cell_type": "code",
   "execution_count": 79,
   "id": "242c286c-ae5b-4ffd-8153-13c94ea75640",
   "metadata": {},
   "outputs": [
    {
     "data": {
      "text/plain": [
       "True"
      ]
     },
     "execution_count": 79,
     "metadata": {},
     "output_type": "execute_result"
    }
   ],
   "source": [
    "diccionario.pop(\"new\")"
   ]
  },
  {
   "cell_type": "code",
   "execution_count": 80,
   "id": "38016607-e600-45fa-b6a4-836c2d50e1db",
   "metadata": {},
   "outputs": [
    {
     "data": {
      "text/plain": [
       "{'uno': 1, 'nombre': 'Alex', 'Estudiantes': ['Python', 'Nada']}"
      ]
     },
     "execution_count": 80,
     "metadata": {},
     "output_type": "execute_result"
    }
   ],
   "source": [
    "diccionario"
   ]
  },
  {
   "cell_type": "markdown",
   "id": "521aacf3-2930-424c-a3e1-b739358df9c4",
   "metadata": {},
   "source": [
    "### Cycles"
   ]
  },
  {
   "cell_type": "code",
   "execution_count": 87,
   "id": "e42b37bd-7437-46e8-9172-a1cb3b8e1329",
   "metadata": {},
   "outputs": [
    {
     "name": "stdout",
     "output_type": "stream",
     "text": [
      "-2 1 4 7 :D\n"
     ]
    }
   ],
   "source": [
    "for x in range(-2, 10, 3):\n",
    "    print(x, end = \" \")\n",
    "print(\":D\")"
   ]
  },
  {
   "cell_type": "code",
   "execution_count": 88,
   "id": "c75448c1-d7b1-4260-8d0b-0c459748a642",
   "metadata": {},
   "outputs": [
    {
     "name": "stdout",
     "output_type": "stream",
     "text": [
      "0 1 2 3 4 5 6 7 8 9 "
     ]
    }
   ],
   "source": [
    "count=0\n",
    "while (count<10):\n",
    "    print(count, end = \" \")\n",
    "    count += 1"
   ]
  },
  {
   "cell_type": "code",
   "execution_count": 92,
   "id": "3892e5d0-08c2-402b-b8b9-026eb5fa326c",
   "metadata": {},
   "outputs": [
    {
     "name": "stdout",
     "output_type": "stream",
     "text": [
      "1, -2, 3, \n",
      "\n",
      "-2\n"
     ]
    }
   ],
   "source": [
    "for x in [1, -2, 3]:\n",
    "    print(x, end = \", \")\n",
    "print(\"\\n\")\n",
    "l = [1, -2, 3]\n",
    "print(l[int(len(l)/2)])\n",
    "del x"
   ]
  },
  {
   "cell_type": "code",
   "execution_count": 98,
   "id": "8e504295-25f1-4b6d-93d8-c1ecc5ef0797",
   "metadata": {},
   "outputs": [],
   "source": [
    "l.reverse()"
   ]
  },
  {
   "cell_type": "code",
   "execution_count": 100,
   "id": "1e47dc76-6b36-4981-b16d-f10361f1d466",
   "metadata": {},
   "outputs": [
    {
     "data": {
      "text/plain": [
       "[1, -2, 3]"
      ]
     },
     "execution_count": 100,
     "metadata": {},
     "output_type": "execute_result"
    }
   ],
   "source": [
    "l[::-1]"
   ]
  },
  {
   "cell_type": "code",
   "execution_count": 101,
   "id": "9daf1342-37e1-414c-8e93-fe85623f4ad5",
   "metadata": {},
   "outputs": [],
   "source": [
    "l.sort()"
   ]
  },
  {
   "cell_type": "code",
   "execution_count": 103,
   "id": "019973a1-7307-4de8-881e-3b2007064a88",
   "metadata": {},
   "outputs": [
    {
     "data": {
      "text/plain": [
       "[0, 2, 4, 6, 8, 10, 12, 14, 16, 18]"
      ]
     },
     "execution_count": 103,
     "metadata": {},
     "output_type": "execute_result"
    }
   ],
   "source": [
    "# List comprehension\n",
    "[x for x in range(0, 20) if x%2 == 0]"
   ]
  },
  {
   "cell_type": "code",
   "execution_count": 108,
   "id": "1b660bea-6f79-484f-8e19-c6738a325872",
   "metadata": {},
   "outputs": [
    {
     "name": "stdout",
     "output_type": "stream",
     "text": [
      "1 Hola\n",
      "2 Mundo\n",
      "3 en Python\n"
     ]
    }
   ],
   "source": [
    "for ii, string in enumerate([\"Hola\", \"Mundo\", \"en Python\"], start=1):\n",
    "    print(ii, string)"
   ]
  },
  {
   "cell_type": "code",
   "execution_count": 105,
   "id": "f820bc57-be02-4939-b2f3-f7d97350a123",
   "metadata": {},
   "outputs": [
    {
     "name": "stdout",
     "output_type": "stream",
     "text": [
      "2 3\n"
     ]
    }
   ],
   "source": [
    "a,b = [2,3]\n",
    "print(a,b)"
   ]
  },
  {
   "cell_type": "code",
   "execution_count": 109,
   "id": "4c032134-f55a-481d-ace5-b79629a4a897",
   "metadata": {},
   "outputs": [
    {
     "name": "stdout",
     "output_type": "stream",
     "text": [
      "0 10\n",
      "1 11\n",
      "2 12\n",
      "3 13\n",
      "4 14\n",
      "5 15\n",
      "6 16\n",
      "7 17\n",
      "8 18\n",
      "9 19\n"
     ]
    }
   ],
   "source": [
    "for ii, jj in zip(range(10), range(10,20)):\n",
    "    print(ii, jj)"
   ]
  },
  {
   "cell_type": "markdown",
   "id": "679b852d-3c58-435e-819f-9811a862ca2f",
   "metadata": {},
   "source": [
    "### Receive Data\n",
    "To receive user data, we use the method `input`, which retrieves the data as a string."
   ]
  },
  {
   "cell_type": "code",
   "execution_count": 118,
   "id": "d814c4fb-ee32-47d1-aa85-14a387090bcb",
   "metadata": {},
   "outputs": [
    {
     "name": "stdin",
     "output_type": "stream",
     "text": [
      "Provide a numerical value >  2\n"
     ]
    },
    {
     "name": "stdout",
     "output_type": "stream",
     "text": [
      "<class 'float'>\n",
      "524288.0\r"
     ]
    }
   ],
   "source": [
    "m=float(input(\"Provide a numerical value > \"))\n",
    "print(type(m))\n",
    "for n in range(0,20):\n",
    "    print(m**n, end=\"\\r\") "
   ]
  },
  {
   "cell_type": "markdown",
   "id": "4face7ec-d401-4feb-b456-188f73115975",
   "metadata": {},
   "source": [
    "### Functions\n",
    "Sometimes it is useful to abstract code sections performing specific functions in order to use it later on. On the other hand, modularizing your code is a good practice to keep it simple and find bugs faster. This is the main taks of a function, defined as follows\n",
    "```python\n",
    "def funcName(param1, param2):\n",
    "    \"\"\"\n",
    "    This is the code documentation. One generally writes\n",
    "    the input and output of the function, and what the\n",
    "    function does.\n",
    "\n",
    "    Input\n",
    "    =====\n",
    "    - param1\n",
    "    - param2\n",
    "\n",
    "    Output\n",
    "    =====\n",
    "    - something\n",
    "    \"\"\"\n",
    "    something = param1 + param2\n",
    "    # return is a reserved word specifying\n",
    "    # what is going to be returned.\n",
    "    return something\n",
    "```"
   ]
  },
  {
   "cell_type": "code",
   "execution_count": 124,
   "id": "cd222c5d-edc9-452c-975d-1a68d1973bb6",
   "metadata": {},
   "outputs": [],
   "source": [
    "def contarRepeticiones(lista, elemento):\n",
    "    \"\"\"\n",
    "    This function counts the times an element appears in\n",
    "    a given list.\n",
    "    \"\"\"\n",
    "    count = 0\n",
    "    for x in lista:\n",
    "        if x == elemento:\n",
    "            count += 1\n",
    "    return count"
   ]
  },
  {
   "cell_type": "code",
   "execution_count": 129,
   "id": "bcc104e2-958c-452d-87cc-eccfd68bc383",
   "metadata": {},
   "outputs": [
    {
     "data": {
      "text/plain": [
       "2"
      ]
     },
     "execution_count": 129,
     "metadata": {},
     "output_type": "execute_result"
    }
   ],
   "source": [
    "contarRepeticiones(l, 3)"
   ]
  },
  {
   "cell_type": "code",
   "execution_count": 130,
   "id": "ffa1d544-3503-4656-bd1a-13486432905b",
   "metadata": {},
   "outputs": [
    {
     "data": {
      "text/plain": [
       "2"
      ]
     },
     "execution_count": 130,
     "metadata": {},
     "output_type": "execute_result"
    }
   ],
   "source": [
    "l.count(3)"
   ]
  },
  {
   "cell_type": "code",
   "execution_count": 133,
   "id": "27412a8f-6df2-4b0c-9ffd-790b29a60696",
   "metadata": {},
   "outputs": [],
   "source": [
    "def nFibonacci(a, b, n, *args):\n",
    "    \"\"\"\n",
    "    This function retrieves the n-th Fibonacci number, \n",
    "    having in mind that F_0 = a, F_1 = b.\n",
    "    \"\"\"\n",
    "    if n == 0:\n",
    "        return a\n",
    "    elif n == 1:\n",
    "        return b\n",
    "    else:\n",
    "        for ii in range(n):\n",
    "            c = b\n",
    "            b = a + b\n",
    "            a = c\n",
    "        return c"
   ]
  },
  {
   "cell_type": "code",
   "execution_count": 146,
   "id": "b005a328-1a38-4133-8dbb-3de20dbe4a62",
   "metadata": {},
   "outputs": [],
   "source": [
    "def func(*args, **kwargs):\n",
    "    print(sum(args))\n",
    "    print(kwargs)"
   ]
  },
  {
   "cell_type": "code",
   "execution_count": 148,
   "id": "5ad56262-da9a-44ae-8330-061006839d0e",
   "metadata": {},
   "outputs": [
    {
     "name": "stdout",
     "output_type": "stream",
     "text": [
      "10\n",
      "{'test': 'Hola'}\n"
     ]
    }
   ],
   "source": [
    "func(2,3,4,1, test=\"Hola\")"
   ]
  },
  {
   "cell_type": "markdown",
   "id": "251b0818-04c5-4b34-a5a6-d65e518e7bc6",
   "metadata": {},
   "source": [
    "### Exception Handling\n",
    "Sometimes one desires to perform some actions when an error occurs. This can be done with a try/except in the following way\n",
    "```python\n",
    "try:\n",
    "    # Here we put a code susceptible to fail\n",
    "except:\n",
    "    # If an error rises, execution will not stop,\n",
    "    # but rather the instructions inside the except\n",
    "    # will be executed \n",
    "```"
   ]
  },
  {
   "cell_type": "code",
   "execution_count": 157,
   "id": "45745299-8a3e-4657-8973-e4823f960fbc",
   "metadata": {},
   "outputs": [
    {
     "name": "stdin",
     "output_type": "stream",
     "text": [
      "Provide a fraction (a/b) >  4/8\n"
     ]
    },
    {
     "name": "stdout",
     "output_type": "stream",
     "text": [
      "0.5\n"
     ]
    }
   ],
   "source": [
    "a = input(\"Provide a fraction (a/b) > \")\n",
    "l = [int(x) for x in a.split(\"/\")]\n",
    "print(l[0]/l[1])"
   ]
  },
  {
   "cell_type": "code",
   "execution_count": 159,
   "id": "5152252d-12f3-4280-b1a2-a977e7496642",
   "metadata": {},
   "outputs": [
    {
     "name": "stdin",
     "output_type": "stream",
     "text": [
      ">  g\n"
     ]
    },
    {
     "ename": "ValueError",
     "evalue": "invalid literal for int() with base 10: 'g'",
     "output_type": "error",
     "traceback": [
      "\u001b[0;31m---------------------------------------------------------------------------\u001b[0m",
      "\u001b[0;31mValueError\u001b[0m                                Traceback (most recent call last)",
      "Cell \u001b[0;32mIn[159], line 2\u001b[0m\n\u001b[1;32m      1\u001b[0m a\u001b[38;5;241m=\u001b[39m \u001b[38;5;28minput\u001b[39m(\u001b[38;5;124m\"\u001b[39m\u001b[38;5;124m> \u001b[39m\u001b[38;5;124m\"\u001b[39m) \n\u001b[0;32m----> 2\u001b[0m \u001b[38;5;28;43mint\u001b[39;49m\u001b[43m(\u001b[49m\u001b[43ma\u001b[49m\u001b[43m)\u001b[49m\n",
      "\u001b[0;31mValueError\u001b[0m: invalid literal for int() with base 10: 'g'"
     ]
    }
   ],
   "source": [
    "a= input(\"> \") \n",
    "int(a)"
   ]
  },
  {
   "cell_type": "code",
   "execution_count": 158,
   "id": "d611bea6-5870-489d-b418-cde0be599257",
   "metadata": {},
   "outputs": [
    {
     "name": "stdin",
     "output_type": "stream",
     "text": [
      "Provide a number >  k\n"
     ]
    },
    {
     "name": "stdout",
     "output_type": "stream",
     "text": [
      "This is not a number\n"
     ]
    }
   ],
   "source": [
    "a=input(\"Provide a number > \")\n",
    "try:\n",
    "    int(a)\n",
    "except:\n",
    "    print(\"This is not a number\")"
   ]
  },
  {
   "cell_type": "markdown",
   "id": "c6e18573-a01c-4f5b-b454-4d5899d3f6d0",
   "metadata": {},
   "source": [
    "Nevertheless, this approach is not desirable as it can catch any error. It is more desirable to catch specific errors."
   ]
  },
  {
   "cell_type": "code",
   "execution_count": 163,
   "id": "7d037cda-ee8b-438a-8eee-b8df1b9cbb03",
   "metadata": {},
   "outputs": [
    {
     "name": "stdin",
     "output_type": "stream",
     "text": [
      "Provide a number >  k\n"
     ]
    },
    {
     "name": "stdout",
     "output_type": "stream",
     "text": [
      "This is not a number\n"
     ]
    }
   ],
   "source": [
    "a=input(\"Provide a number > \")\n",
    "try:\n",
    "    int(a)\n",
    "except ValueError:\n",
    "    print(\"This is not a number\")"
   ]
  },
  {
   "cell_type": "markdown",
   "id": "ed824ca4-fe27-4a9f-af74-66005cfcbc05",
   "metadata": {},
   "source": [
    "We can also raise a personalized error using the method `raise`."
   ]
  },
  {
   "cell_type": "code",
   "execution_count": 164,
   "id": "52c9d6fe-9d6a-4595-9574-8f25ada677cb",
   "metadata": {},
   "outputs": [
    {
     "name": "stdin",
     "output_type": "stream",
     "text": [
      "Provide a number >  k\n"
     ]
    },
    {
     "ename": "Exception",
     "evalue": "k cannot be cast to a number",
     "output_type": "error",
     "traceback": [
      "\u001b[0;31m---------------------------------------------------------------------------\u001b[0m",
      "\u001b[0;31mValueError\u001b[0m                                Traceback (most recent call last)",
      "Cell \u001b[0;32mIn[164], line 3\u001b[0m\n\u001b[1;32m      2\u001b[0m \u001b[38;5;28;01mtry\u001b[39;00m:\n\u001b[0;32m----> 3\u001b[0m     \u001b[38;5;28;43mint\u001b[39;49m\u001b[43m(\u001b[49m\u001b[43ma\u001b[49m\u001b[43m)\u001b[49m\n\u001b[1;32m      4\u001b[0m \u001b[38;5;28;01mexcept\u001b[39;00m \u001b[38;5;167;01mValueError\u001b[39;00m:\n",
      "\u001b[0;31mValueError\u001b[0m: invalid literal for int() with base 10: 'k'",
      "\nDuring handling of the above exception, another exception occurred:\n",
      "\u001b[0;31mException\u001b[0m                                 Traceback (most recent call last)",
      "Cell \u001b[0;32mIn[164], line 5\u001b[0m\n\u001b[1;32m      3\u001b[0m     \u001b[38;5;28mint\u001b[39m(a)\n\u001b[1;32m      4\u001b[0m \u001b[38;5;28;01mexcept\u001b[39;00m \u001b[38;5;167;01mValueError\u001b[39;00m:\n\u001b[0;32m----> 5\u001b[0m     \u001b[38;5;28;01mraise\u001b[39;00m \u001b[38;5;167;01mException\u001b[39;00m(\u001b[38;5;124m\"\u001b[39m\u001b[38;5;132;01m%s\u001b[39;00m\u001b[38;5;124m cannot be cast to a number\u001b[39m\u001b[38;5;124m\"\u001b[39m\u001b[38;5;241m%\u001b[39ma)\n",
      "\u001b[0;31mException\u001b[0m: k cannot be cast to a number"
     ]
    }
   ],
   "source": [
    "a=input(\"Provide a number > \")\n",
    "try:\n",
    "    int(a)\n",
    "except ValueError:\n",
    "    raise Exception(\"%s cannot be cast to a number\"%a)"
   ]
  },
  {
   "cell_type": "code",
   "execution_count": 167,
   "id": "419cc9f4-1968-4987-b645-77864213ea75",
   "metadata": {},
   "outputs": [
    {
     "name": "stdout",
     "output_type": "stream",
     "text": [
      "Hola 2 3.42454646\n"
     ]
    }
   ],
   "source": [
    "print(\"%s %i %1.8f\"%(\"Hola\", 2, 3.42454646))"
   ]
  },
  {
   "cell_type": "markdown",
   "id": "1053da14-8ae7-44e9-8c58-77e33eb387dc",
   "metadata": {},
   "source": [
    "# Examples\n",
    "1. Calculate the sum of the first 500 prime numbers, that is, \n",
    "$$\\sum\\limits_{n=1}^{500} p_i,$$ with $p_i$ prime."
   ]
  },
  {
   "cell_type": "code",
   "execution_count": 168,
   "id": "f869b939-8d35-4d75-b4dd-365e25fbfc60",
   "metadata": {},
   "outputs": [],
   "source": [
    "def sum_primes(n):\n",
    "    p = [2]\n",
    "    count = 3\n",
    "    while(len(p)<n):\n",
    "        flag = True\n",
    "        for ii in p:\n",
    "            if count % ii == 0:\n",
    "                flag = False\n",
    "                break\n",
    "        if flag:\n",
    "            p.append(count)\n",
    "        count += 2\n",
    "    return sum(p)"
   ]
  },
  {
   "cell_type": "code",
   "execution_count": 171,
   "id": "e24e1ef2-4c01-4918-a31f-b84d3495f9d5",
   "metadata": {},
   "outputs": [
    {
     "data": {
      "text/plain": [
       "824693"
      ]
     },
     "execution_count": 171,
     "metadata": {},
     "output_type": "execute_result"
    }
   ],
   "source": [
    "sum_primes(500)"
   ]
  },
  {
   "cell_type": "markdown",
   "id": "7cfc9338-5a86-4b3a-ab6a-4639f4cb7501",
   "metadata": {},
   "source": [
    "2) The Collatz conjecture states that the iterative process\n",
    "\n",
    "<center>$n\\implies n/2$ if $n=2k$ with $k\\in \\mathbb{N}$</center>\n",
    "<center>$n\\implies 3n+1$ if $n=2k+1$ with $k\\in \\mathbb{N}$</center>\n",
    "applied to any given number will always end in 1. For example, starting in 14:\n",
    "\n",
    "$14\\implies 7 \\implies 22 \\implies 11 \\implies 34 \\implies 17 \\implies 52 \\implies 26 \\implies 13 \\implies 40 \\implies 20 \\implies 10 \\implies 5 \\implies 16 \\implies 8 \\implies 4 \\implies 2 \\implies 1$\n",
    "\n",
    "There are 17 iterations of the method from $14$ to $1$. Determine which number between $1$ and $9\\times 10^5$ requires more iterations to arrive to 1. "
   ]
  },
  {
   "cell_type": "code",
   "execution_count": 179,
   "id": "1ce2a3b0-d901-46f0-bedd-47bcbff50f4a",
   "metadata": {},
   "outputs": [],
   "source": [
    "def collatz(n):\n",
    "    if n == 1:\n",
    "        return (1,0)\n",
    "    maxLength = 0\n",
    "    res = 0\n",
    "    for ii in range(1, n+1):\n",
    "        val = ii\n",
    "        count = 0\n",
    "        while(ii != 1):\n",
    "            if ii % 2 == 0:\n",
    "                ii = ii / 2\n",
    "            else:\n",
    "                ii = 3 * ii + 1\n",
    "            count += 1\n",
    "        if maxLength < count:\n",
    "            maxLength = count\n",
    "            res = val\n",
    "    return (res, maxLength)"
   ]
  },
  {
   "cell_type": "code",
   "execution_count": 187,
   "id": "a082ffd1-79c1-4a0c-91eb-194bd268f579",
   "metadata": {},
   "outputs": [
    {
     "data": {
      "text/plain": [
       "(837799, 524)"
      ]
     },
     "execution_count": 187,
     "metadata": {},
     "output_type": "execute_result"
    }
   ],
   "source": [
    "collatz(int(1e6)) # 1e3"
   ]
  },
  {
   "cell_type": "markdown",
   "id": "0c352048-a279-400a-816b-d5d8760b1b8f",
   "metadata": {},
   "source": [
    "3. Let $f(x)=y=\\sqrt{1-x^2}$ with $x\\in [0,1]$. We know that\n",
    "$4\\int\\limits_0^1 \\sqrt{1-x^2}dx=\\pi.$\n",
    "Calculate numerically the value of $\\pi$ with a precision of 5 decimal places by comparing the values of the upper and lower sums of this integral. Recommendation: Make a regular partition of size $\\Delta x$, and with it calculate the value of the upper and lower sums, taking into account that $f(x)$ is decreasing in the interval $[0,1]$.\n",
    "You should also remember that, by Riemann sums:\n",
    "$\\int\\limits_b^a f(x)dx$ exists and is equal to $L$ if and only if the lower and upper sums have the same value ($L$) when $\\Delta x \\rightarrow 0$."
   ]
  },
  {
   "cell_type": "code",
   "execution_count": null,
   "id": "21cf2c8c-2038-4dd3-8770-dd5a6e69d0a3",
   "metadata": {},
   "outputs": [],
   "source": []
  },
  {
   "cell_type": "markdown",
   "id": "32a69e26-1fc7-4578-abcc-34c81663ddc2",
   "metadata": {},
   "source": [
    "4. Provide all the prime divisors of a number given as user input."
   ]
  },
  {
   "cell_type": "code",
   "execution_count": null,
   "id": "5d918f46-f928-42b9-a4a7-b379c4e53b2c",
   "metadata": {},
   "outputs": [],
   "source": []
  },
  {
   "cell_type": "markdown",
   "id": "238a5e8d-a951-4c08-880a-74fed084ae36",
   "metadata": {},
   "source": [
    "5. The logarithm base 2 of a positive real number $x$ ($log_2(x)$) is defined as the value that satisfies:\n",
    "$$2^{log_2(x)}=x.$$\n",
    "A recursive method to numerically find the logarithm of a value $x$ is to find a non-negative integer $n$ that satisfies:\n",
    "$$2^n<x<2^{n+1}.$$\n",
    "Once found, the interval $[n, n+1]$ is divided in half, the location of $x$ is analyzed, and this procedure is repeated as many times as desired. Design a program that takes a real number as input and numerically finds the logarithm base 2 of that number, with an error no greater than $10^{-3}$."
   ]
  },
  {
   "cell_type": "code",
   "execution_count": null,
   "id": "2f5e694f-311a-4182-9955-90f171e0d023",
   "metadata": {},
   "outputs": [],
   "source": []
  }
 ],
 "metadata": {
  "kernelspec": {
   "display_name": "Python 3 (ipykernel)",
   "language": "python",
   "name": "python3"
  },
  "language_info": {
   "codemirror_mode": {
    "name": "ipython",
    "version": 3
   },
   "file_extension": ".py",
   "mimetype": "text/x-python",
   "name": "python",
   "nbconvert_exporter": "python",
   "pygments_lexer": "ipython3",
   "version": "3.12.4"
  }
 },
 "nbformat": 4,
 "nbformat_minor": 5
}
