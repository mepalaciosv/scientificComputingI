{
 "cells": [
  {
   "cell_type": "markdown",
   "id": "259ddc21-fa8e-43ed-94ce-f3b524069ae7",
   "metadata": {},
   "source": [
    "# Pandas\n",
    "Pandas is the most common library in Python to work with dataframes."
   ]
  },
  {
   "cell_type": "code",
   "execution_count": null,
   "id": "19d70cb1-a4f1-41d6-ab86-2af147788727",
   "metadata": {},
   "outputs": [],
   "source": [
    "import pandas as pd"
   ]
  },
  {
   "cell_type": "markdown",
   "id": "00b11598-dd50-4d7f-b6a6-3756f814691a",
   "metadata": {},
   "source": [
    "### Series\n",
    "A Series is a one-dimensionalk labeled array capable of holding any data type."
   ]
  },
  {
   "cell_type": "code",
   "execution_count": null,
   "id": "dcc15661-4ec6-4868-b1a9-509ef3c2af6a",
   "metadata": {},
   "outputs": [],
   "source": [
    "s = pd.Series([10, 20, 30, 40], index=['a', 'b', 'c', 'd'])\n",
    "print(s)"
   ]
  },
  {
   "cell_type": "code",
   "execution_count": null,
   "id": "dcdcd055-38c5-4e56-95cd-92608bd147f1",
   "metadata": {},
   "outputs": [],
   "source": [
    "s = pd.Series([10, 20, 30, 40])\n",
    "print(s)"
   ]
  },
  {
   "cell_type": "markdown",
   "id": "d4f1c6b4-1938-4da0-a606-ae249e07873c",
   "metadata": {},
   "source": [
    "### Datagrame\n",
    "A dataframe is a two-dimensional labeled data structure with columns of potentially different data types."
   ]
  },
  {
   "cell_type": "code",
   "execution_count": null,
   "id": "f63f13b4-9f3c-4e6d-8422-91a8651cb63e",
   "metadata": {},
   "outputs": [],
   "source": [
    "data = {'Name': ['John', 'Anna', 'Peter', 'Linda'],\n",
    "        'Age': [28, 24, 35, 32],\n",
    "        'City': ['New York', 'Paris', 'Berlin', 'London']}\n",
    "\n",
    "df = pd.DataFrame(data)\n",
    "print(df)"
   ]
  },
  {
   "cell_type": "markdown",
   "id": "24bb06a5-aff1-43d4-b746-74cb8ba14f08",
   "metadata": {},
   "source": [
    "Basic operations with dataframes"
   ]
  },
  {
   "cell_type": "code",
   "execution_count": null,
   "id": "bfaeccc7-a1b4-495e-b139-808d4fafa61c",
   "metadata": {},
   "outputs": [],
   "source": [
    "# Viewing first n rows\n",
    "df.head(2)"
   ]
  },
  {
   "cell_type": "code",
   "execution_count": null,
   "id": "3dc126f1-098b-4668-b0e5-96f7fba76fdd",
   "metadata": {},
   "outputs": [],
   "source": [
    "# Viewing last n rows\n",
    "df.tail(2)"
   ]
  },
  {
   "cell_type": "code",
   "execution_count": null,
   "id": "cf368941-d8e8-42ea-a542-acf76975dd53",
   "metadata": {},
   "outputs": [],
   "source": [
    "# Viewing summary information\n",
    "df.info()"
   ]
  },
  {
   "cell_type": "markdown",
   "id": "2066c6c3-8a2e-43b5-ae91-118d3db3087d",
   "metadata": {},
   "source": [
    "Descriptive statistics"
   ]
  },
  {
   "cell_type": "code",
   "execution_count": null,
   "id": "b7ad0ad4-4dcb-4a16-8769-289ecf260b82",
   "metadata": {},
   "outputs": [],
   "source": [
    "df.describe()"
   ]
  },
  {
   "cell_type": "markdown",
   "id": "b307f464-2184-44bd-aeab-53fc201919b3",
   "metadata": {},
   "source": [
    "Selection and indexing"
   ]
  },
  {
   "cell_type": "code",
   "execution_count": null,
   "id": "227bd3e1-b376-4ab2-9806-581e8fa68973",
   "metadata": {},
   "outputs": [],
   "source": [
    "# Selecting rows using .loc and .iloc\n",
    "df.loc[0]   # Row by label"
   ]
  },
  {
   "cell_type": "code",
   "execution_count": null,
   "id": "b56bf29d-6e98-4319-a708-1ce4e196aade",
   "metadata": {},
   "outputs": [],
   "source": [
    "df.iloc[1]  # Row by position"
   ]
  },
  {
   "cell_type": "code",
   "execution_count": null,
   "id": "fe04777b-af9e-4b0d-8fb7-1bf530a58dd0",
   "metadata": {},
   "outputs": [],
   "source": [
    "# Selecting a single column\n",
    "df['Name']"
   ]
  },
  {
   "cell_type": "code",
   "execution_count": null,
   "id": "88f12ce0-0f19-4c19-b947-ab2ce95f57b1",
   "metadata": {},
   "outputs": [],
   "source": [
    "# Selecting multiple columns\n",
    "df[['Name', 'City']]"
   ]
  },
  {
   "cell_type": "markdown",
   "id": "cf996bac-fe4c-42c6-a7ad-b662fdeb95b5",
   "metadata": {},
   "source": [
    "Conditional selection"
   ]
  },
  {
   "cell_type": "code",
   "execution_count": null,
   "id": "42e8a6e3-1e06-440d-b458-29b283251b27",
   "metadata": {},
   "outputs": [],
   "source": [
    "# Filter rows where Age > 30\n",
    "df[df['Age'] > 30]"
   ]
  },
  {
   "cell_type": "markdown",
   "id": "8e99f433-de51-4c6e-a3a2-b9bcca2e0440",
   "metadata": {},
   "source": [
    "Modifying data"
   ]
  },
  {
   "cell_type": "code",
   "execution_count": null,
   "id": "a25f2964-42ed-4847-955e-39d6c808bad5",
   "metadata": {},
   "outputs": [],
   "source": [
    "# Adding a new column 'Salary'\n",
    "df['Salary'] = [50000, 60000, 45000, 70000]\n",
    "print(df)"
   ]
  },
  {
   "cell_type": "markdown",
   "id": "60cdddbe-b399-4cc5-af47-f0dbba2ef074",
   "metadata": {},
   "source": [
    "Updating or modifying values"
   ]
  },
  {
   "cell_type": "code",
   "execution_count": null,
   "id": "435687c0-dfe7-4460-98f9-ef91294296e8",
   "metadata": {},
   "outputs": [],
   "source": [
    "# Updating the value of a single cell\n",
    "df.at[0, 'City'] = 'San Francisco'\n",
    "df"
   ]
  },
  {
   "cell_type": "code",
   "execution_count": null,
   "id": "a57b8b5f-79c6-427b-bdc5-8a0a2d01d23d",
   "metadata": {},
   "outputs": [],
   "source": [
    "# Updating a column\n",
    "df['Age'] = df['Age'] + 1\n",
    "print(df)"
   ]
  },
  {
   "cell_type": "markdown",
   "id": "728deb30-f133-49a8-b778-f73e293400c7",
   "metadata": {},
   "source": [
    "Concatenate dataframes"
   ]
  },
  {
   "cell_type": "code",
   "execution_count": null,
   "id": "8b392c66-678e-4bea-98a5-f4dce70450dc",
   "metadata": {},
   "outputs": [],
   "source": [
    "data2 = {'Name': ['Dalya', 'Carlos', 'James', 'Camilla'],\n",
    "        'Age': [28, 24, 35, 32],\n",
    "        'City': ['Tokyo', 'Madrid', 'Oxford', 'Prague']}\n",
    "\n",
    "df2 = pd.DataFrame(data2)\n",
    "df2"
   ]
  },
  {
   "cell_type": "code",
   "execution_count": null,
   "id": "d00e2c7d-c258-4c22-8f94-c9d6c25b9437",
   "metadata": {},
   "outputs": [],
   "source": [
    "df = pd.concat([df, df2])"
   ]
  },
  {
   "cell_type": "code",
   "execution_count": null,
   "id": "682c9f2b-edef-4f89-b379-4482e05a7a9e",
   "metadata": {},
   "outputs": [],
   "source": [
    "df"
   ]
  },
  {
   "cell_type": "markdown",
   "id": "2e17cc70-fe3f-4f2f-8bcc-37ea8ca4c288",
   "metadata": {},
   "source": [
    "Append row to dataframe"
   ]
  },
  {
   "cell_type": "code",
   "execution_count": null,
   "id": "fe0ccdf4-1c96-4496-a602-41661baa81ee",
   "metadata": {},
   "outputs": [],
   "source": [
    "df = df._append({\"Name\": \"Andres\", \"Age\": 26, \"City\":\"Bogota\",\n",
    "\"Salary\":450000}, ignore_index=True)\n",
    "df = df._append({\"Name\": \"Andres\", \"Age\": 26, \"City\":\"Bogota\",\n",
    "\"Salary\":450000}, ignore_index=True)"
   ]
  },
  {
   "cell_type": "code",
   "execution_count": null,
   "id": "ff7a24ad-1152-492d-ba20-fbafdb623181",
   "metadata": {},
   "outputs": [],
   "source": [
    "df"
   ]
  },
  {
   "cell_type": "markdown",
   "id": "f97f35d1-3360-4c9a-aa8d-41e9a52de757",
   "metadata": {},
   "source": [
    "Handling duplicates"
   ]
  },
  {
   "cell_type": "code",
   "execution_count": null,
   "id": "5cba06f4-477a-438f-a637-11204e247243",
   "metadata": {},
   "outputs": [],
   "source": [
    "# Detecting duplicate rows\n",
    "df.duplicated()"
   ]
  },
  {
   "cell_type": "code",
   "execution_count": null,
   "id": "4ce81366-112c-4e08-8bab-c869696d800e",
   "metadata": {},
   "outputs": [],
   "source": [
    "# Dropping duplicate rows\n",
    "df = df.drop_duplicates()"
   ]
  },
  {
   "cell_type": "code",
   "execution_count": null,
   "id": "b4e6952b-c2f5-4c88-860a-8f1e48fe982a",
   "metadata": {},
   "outputs": [],
   "source": [
    "df"
   ]
  },
  {
   "cell_type": "markdown",
   "id": "963a1f2c-5f14-47e9-933b-5295f6be142a",
   "metadata": {},
   "source": [
    "Handling missing data"
   ]
  },
  {
   "cell_type": "code",
   "execution_count": null,
   "id": "17f8150b-cf14-42f0-9a7b-de4864c823a4",
   "metadata": {},
   "outputs": [],
   "source": [
    "# Checking for missing data\n",
    "df.isnull()"
   ]
  },
  {
   "cell_type": "code",
   "execution_count": null,
   "id": "9c4871cb-1062-4219-b93e-134a1eda54f1",
   "metadata": {},
   "outputs": [],
   "source": [
    "# Checking for non-missing data\n",
    "df.notnull()"
   ]
  },
  {
   "cell_type": "code",
   "execution_count": null,
   "id": "9dcda555-df48-4ff1-8bca-7eb5c5bd2a2c",
   "metadata": {},
   "outputs": [],
   "source": [
    "# Dropping rows with missing values\n",
    "df =df.dropna()"
   ]
  },
  {
   "cell_type": "code",
   "execution_count": null,
   "id": "c233a83b-b414-4630-97a9-18c4ebd7ec18",
   "metadata": {},
   "outputs": [],
   "source": [
    "df"
   ]
  },
  {
   "cell_type": "code",
   "execution_count": null,
   "id": "ef9f11a0-8659-4df1-ae09-f140904731ef",
   "metadata": {},
   "outputs": [],
   "source": [
    "# Filling missing values with a default value\n",
    "df.fillna(0)"
   ]
  },
  {
   "cell_type": "markdown",
   "id": "50c492c6-8f8e-486c-b606-6c0c138dab5c",
   "metadata": {},
   "source": [
    "### Group by"
   ]
  },
  {
   "cell_type": "code",
   "execution_count": null,
   "id": "89e60051-81a1-4d90-aae0-172ed4d5cf2b",
   "metadata": {},
   "outputs": [],
   "source": [
    "# Grouping by 'City' and calculating mean age\n",
    "df.groupby('City')['Age'].mean()"
   ]
  },
  {
   "cell_type": "code",
   "execution_count": null,
   "id": "6b371cc8-28fb-4804-b068-fbf6c6c613b5",
   "metadata": {},
   "outputs": [],
   "source": [
    "# Aggregating using sum, mean, and count\n",
    "df.groupby('City').agg({'Age': ['mean', 'sum'], 'Salary': 'count'})"
   ]
  },
  {
   "cell_type": "markdown",
   "id": "f0a4bc84-2680-4cf3-bf9f-05b71c556a68",
   "metadata": {},
   "source": [
    "### Merge"
   ]
  },
  {
   "cell_type": "code",
   "execution_count": null,
   "id": "5b4b9288-f99e-4dd3-a992-2e91b83ebbad",
   "metadata": {},
   "outputs": [],
   "source": [
    "# Merging two DataFrames on a common column\n",
    "df3 = pd.DataFrame({'ID': [1, 2, 3], 'Name': ['John', 'Anna', 'Peter']})\n",
    "df4 = pd.DataFrame({'ID': [1, 2, 3], 'Age': [28, 24, 35]})\n",
    "pd.merge(df3, df4, on='ID')"
   ]
  },
  {
   "cell_type": "markdown",
   "id": "4048b01c-4ab3-465a-8dec-610c5298dcd8",
   "metadata": {},
   "source": [
    "### Date conversion"
   ]
  },
  {
   "cell_type": "code",
   "execution_count": null,
   "id": "b1a9833b-f881-4f71-ab7d-7ac45c82766f",
   "metadata": {},
   "outputs": [],
   "source": [
    "# Converting a column to datetime\n",
    "df['Date'] = pd.to_datetime(['2021-01-01', '2021-02-01', '2021-03-01', '2021-04-01','2021-05-01'])\n",
    "print(df)"
   ]
  },
  {
   "cell_type": "code",
   "execution_count": null,
   "id": "43c511e7-862b-4ac8-a318-146ad38b7597",
   "metadata": {},
   "outputs": [],
   "source": [
    "# Extracting year, month, and day from Date column\n",
    "df['Year'] = df['Date'].dt.year\n",
    "df['Month'] = df['Date'].dt.month\n",
    "df['Day'] = df['Date'].dt.day\n",
    "print(df)"
   ]
  },
  {
   "cell_type": "markdown",
   "id": "4d686fc7-20d6-4eac-bbfd-012d7ac34c04",
   "metadata": {},
   "source": [
    "### Visualization with Pandas"
   ]
  },
  {
   "cell_type": "code",
   "execution_count": null,
   "id": "bfa55677-1f36-4d67-83ba-76f81bbc178e",
   "metadata": {},
   "outputs": [],
   "source": [
    "# Plotting a simple line chart\n",
    "df.plot(x='Name', y='Age', kind='bar')"
   ]
  },
  {
   "cell_type": "markdown",
   "id": "32c5ffdb-2f5b-4e1a-a6f6-3445f5d1172c",
   "metadata": {},
   "source": [
    "### Exporting and importing data"
   ]
  },
  {
   "cell_type": "code",
   "execution_count": null,
   "id": "29f6ea8a-0052-4d64-a932-c34b463c635a",
   "metadata": {},
   "outputs": [],
   "source": [
    "# Reading a CSV file\n",
    "df = pd.read_csv('data.csv')\n",
    "\n",
    "# Reading an Excel file\n",
    "df = pd.read_excel('data.xlsx')"
   ]
  },
  {
   "cell_type": "code",
   "execution_count": null,
   "id": "420d7d21-e6c0-4ae8-baa7-01f2f01f8904",
   "metadata": {},
   "outputs": [],
   "source": [
    "df.to_csv('output.csv', index=False)\n",
    "\n",
    "# Saving DataFrame to Excel\n",
    "df.to_excel('output.xlsx', index=False)"
   ]
  },
  {
   "cell_type": "markdown",
   "id": "e9d8663a-51f2-4b5c-a916-1fc590baf1d7",
   "metadata": {},
   "source": [
    "### Pivot tables\n",
    "Pivot tables allow for re-shaping and summarizing data."
   ]
  },
  {
   "cell_type": "code",
   "execution_count": null,
   "id": "563415c1-b534-4162-8311-41c70f9ffea7",
   "metadata": {},
   "outputs": [],
   "source": [
    "# Pivot table example\n",
    "df.pivot_table(values='Age', index='City', aggfunc='mean')"
   ]
  },
  {
   "cell_type": "markdown",
   "id": "a7a4a2eb-ff39-4fe3-b807-ecb8910ce0fe",
   "metadata": {},
   "source": [
    "### Melt (Unpivot)\n",
    "Reshaping DataFrames from wide to long format using melt()"
   ]
  },
  {
   "cell_type": "code",
   "execution_count": null,
   "id": "ebccf61f-fc2c-4c47-bd82-29b18a93919f",
   "metadata": {},
   "outputs": [],
   "source": [
    "# Example of melting data\n",
    "df_melted = pd.melt(df, id_vars=['Name'], value_vars=['Age', 'City'])\n",
    "df_melted"
   ]
  },
  {
   "cell_type": "markdown",
   "id": "080be15f-2926-4a26-b2a5-566979df4934",
   "metadata": {},
   "source": [
    "### Vectorization"
   ]
  },
  {
   "cell_type": "code",
   "execution_count": null,
   "id": "e152fb3d-cafd-4a86-9ea7-5f934d7032ff",
   "metadata": {},
   "outputs": [],
   "source": [
    "# Example of vectorized operation\n",
    "df.loc[:,'Age_plus_10'] = df['Age'] + 10"
   ]
  },
  {
   "cell_type": "code",
   "execution_count": null,
   "id": "6f856d1a-c712-445f-a29c-8eb4b57fb3ae",
   "metadata": {},
   "outputs": [],
   "source": [
    "df"
   ]
  },
  {
   "cell_type": "code",
   "execution_count": null,
   "id": "2bc68cca-4f5b-4107-b4dc-3159f73c3406",
   "metadata": {},
   "outputs": [],
   "source": [
    "# Applying a lambda function to a column\n",
    "df.loc[:,'Age_squared'] = df['Age'].apply(lambda x: x ** 2)"
   ]
  },
  {
   "cell_type": "code",
   "execution_count": null,
   "id": "0c7c46ce-0162-4880-a953-e78162c3909b",
   "metadata": {},
   "outputs": [],
   "source": [
    "df"
   ]
  },
  {
   "cell_type": "markdown",
   "id": "4c0efd15-caeb-471a-93e4-339d7502f6df",
   "metadata": {},
   "source": [
    "### Working with large datasets\n",
    "Reading large datasets in chunks to save memory using chunksize."
   ]
  },
  {
   "cell_type": "code",
   "execution_count": null,
   "id": "6177e9a3-5f4f-4e47-b0e2-4b3cae531d78",
   "metadata": {},
   "outputs": [],
   "source": [
    "# Reading a large file in chunks\n",
    "chunk_iter = pd.read_csv('large_file.csv', chunksize=1000)\n",
    "for chunk in chunk_iter:\n",
    "    process(chunk)  # Custom processing function"
   ]
  }
 ],
 "metadata": {
  "kernelspec": {
   "display_name": "Python 3 (ipykernel)",
   "language": "python",
   "name": "python3"
  },
  "language_info": {
   "codemirror_mode": {
    "name": "ipython",
    "version": 3
   },
   "file_extension": ".py",
   "mimetype": "text/x-python",
   "name": "python",
   "nbconvert_exporter": "python",
   "pygments_lexer": "ipython3",
   "version": "3.12.6"
  }
 },
 "nbformat": 4,
 "nbformat_minor": 5
}
