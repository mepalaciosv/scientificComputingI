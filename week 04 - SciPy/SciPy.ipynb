{
 "cells": [
  {
   "cell_type": "markdown",
   "id": "f2f10db9-15eb-4ac0-9ad3-f360a5801cc6",
   "metadata": {},
   "source": [
    "# Scipy\n",
    "Scientific Python. Usually used to optimize, numerically integrate and differentiate complex function. It also has a big database of physical constants."
   ]
  },
  {
   "cell_type": "markdown",
   "id": "7362e366-7369-4cf6-b363-110a749d8aa3",
   "metadata": {},
   "source": [
    "### Integration\n",
    "Let us integrate $$\\int_0^{\\pi/8}\\sqrt{\\tan(x)}dx$$"
   ]
  },
  {
   "cell_type": "code",
   "execution_count": null,
   "id": "557550a1-b1e2-4358-b5f2-52d3ef4c1375",
   "metadata": {},
   "outputs": [],
   "source": [
    "from scipy import integrate\n",
    "from numpy import tan, pi, e "
   ]
  },
  {
   "cell_type": "code",
   "execution_count": null,
   "id": "adc252d8-0b07-4c01-af4f-4f9016e5c3a6",
   "metadata": {},
   "outputs": [],
   "source": [
    "def tanRoot(x):\n",
    "    return tan(x)**.5"
   ]
  },
  {
   "cell_type": "code",
   "execution_count": null,
   "id": "371d6b8b-0ed1-4986-858e-1ecc4903363c",
   "metadata": {},
   "outputs": [],
   "source": [
    "result = integrate.quad(tanRoot, 0, pi/8.)\n",
    "result"
   ]
  },
  {
   "cell_type": "code",
   "execution_count": null,
   "id": "902b98e9-1fbc-4800-b4f7-1b2efb83b73b",
   "metadata": {},
   "outputs": [],
   "source": [
    "a = lambda x, y: x + y"
   ]
  },
  {
   "cell_type": "code",
   "execution_count": null,
   "id": "779a73b0-bd89-4b61-a294-b3fc87be25e1",
   "metadata": {},
   "outputs": [],
   "source": [
    "result = integrate.dblquad(lambda x, y: x**2 + y ** 2, \n",
    "                             0, 2, 0, 2)\n",
    "result"
   ]
  },
  {
   "cell_type": "code",
   "execution_count": null,
   "id": "99583ec1-9188-430c-8abd-b7aafc36d018",
   "metadata": {},
   "outputs": [],
   "source": [
    "from numpy import inf"
   ]
  },
  {
   "cell_type": "markdown",
   "id": "82181b41-42cd-4e11-be72-b936be425f28",
   "metadata": {},
   "source": [
    "$$\\Gamma(x)=\\int_0^{\\infty} t^{x-1}e^{-t}dt, x>0$$"
   ]
  },
  {
   "cell_type": "code",
   "execution_count": null,
   "id": "ce91ff40-7a90-414c-b902-d862846e74ba",
   "metadata": {},
   "outputs": [],
   "source": [
    "def gamma(x,t):\n",
    "    return t**(x-1)*e**(-t)"
   ]
  },
  {
   "cell_type": "code",
   "execution_count": null,
   "id": "8e968b74-0645-484c-9273-b628f015dca9",
   "metadata": {},
   "outputs": [],
   "source": [
    "for x in range(1,11):\n",
    "    result, error=integrate.quad(lambda t: gamma(x, t), 0, inf) #lambda empieza a ser útil\n",
    "    print(\"%s +- %s\"%(result, error))"
   ]
  },
  {
   "cell_type": "markdown",
   "id": "92c25f86-3d0a-4627-ac2c-f5829e5b47a3",
   "metadata": {},
   "source": [
    "#### Exercise\n",
    "- Use an integral to approximate $\\pi$.\n",
    "- Use an integral to approximate $e$."
   ]
  },
  {
   "cell_type": "code",
   "execution_count": null,
   "id": "9c12f27f-784e-49dd-9318-4b22e5623654",
   "metadata": {},
   "outputs": [],
   "source": [
    "integrate.quad(lambda x: (1 - x ** 2)**0.5, -1, 1)[0] * 2"
   ]
  },
  {
   "cell_type": "code",
   "execution_count": null,
   "id": "dcf52142-ee32-4e9c-9c71-fc0578fc96b7",
   "metadata": {},
   "outputs": [],
   "source": [
    "import matplotlib.pyplot as plt\n",
    "import numpy as np"
   ]
  },
  {
   "cell_type": "code",
   "execution_count": null,
   "id": "75ae5fca-5612-44fb-9852-971c701a3cda",
   "metadata": {},
   "outputs": [],
   "source": [
    "x=np.linspace(1,10)\n",
    "result = integrate.quad(lambda t: gamma(x, t), 0, inf)\n",
    "result"
   ]
  },
  {
   "cell_type": "code",
   "execution_count": null,
   "id": "2b9556e3-dbaf-4e93-85c7-9f2c887447d8",
   "metadata": {},
   "outputs": [],
   "source": [
    "vectorized_fun = np.vectorize(lambda x: integrate.quad(lambda t: gamma(x, t), 0, inf))\n",
    "vectorized_fun"
   ]
  },
  {
   "cell_type": "code",
   "execution_count": null,
   "id": "09386edf-6025-4f78-8799-da57eed04018",
   "metadata": {},
   "outputs": [],
   "source": [
    "result = vectorized_fun(x)\n",
    "result"
   ]
  },
  {
   "cell_type": "code",
   "execution_count": null,
   "id": "edb8bbeb-4f91-4f10-b3d2-ad5cb2a950a4",
   "metadata": {},
   "outputs": [],
   "source": [
    "plt.errorbar(x, result[0], yerr=result[1], marker=\".\")"
   ]
  },
  {
   "cell_type": "markdown",
   "id": "036c87e9-30e2-40e5-9767-e156b3502897",
   "metadata": {},
   "source": [
    "### Findiff\n",
    "Package dedicated to numerical calculation of derivatives using finite differences."
   ]
  },
  {
   "cell_type": "code",
   "execution_count": null,
   "id": "8e7bf104-8e98-48d8-8114-ac0029107376",
   "metadata": {},
   "outputs": [],
   "source": [
    "import findiff"
   ]
  },
  {
   "cell_type": "code",
   "execution_count": null,
   "id": "59ec74bf-894f-409a-abea-9d2428700b3e",
   "metadata": {},
   "outputs": [],
   "source": [
    "import numpy as np\n",
    "x = np.linspace(0, 1, 100)\n",
    "f = np.sin(x)  # as an example\n",
    "dx = 0.1\n",
    "# Define the derivative:\n",
    "d_dx = findiff.FinDiff(0, dx, 1)\n",
    "\n",
    "# Apply it:\n",
    "df_dx = d_dx(f) \n",
    "df_dx"
   ]
  },
  {
   "cell_type": "code",
   "execution_count": null,
   "id": "96bed202-a9f9-4f96-920d-9f30d46795de",
   "metadata": {},
   "outputs": [],
   "source": [
    "d2_dx2 = findiff.FinDiff(0, dx, 2, acc=4)\n",
    "d2f_dx2 = d2_dx2(f)\n",
    "d2f_dx2"
   ]
  },
  {
   "cell_type": "markdown",
   "id": "05c16c0e-0ee4-4170-9e4b-589bbc59df50",
   "metadata": {},
   "source": [
    "## Integration of differential equations\n",
    "The equation of motion for a simple pendulum (without damping and small angles) is given by: \n",
    "$$\\frac{d^2\\theta}{dt^2} +\\frac{g}{L}\\sin\\theta=0.$$\n",
    "\n",
    "Solve the above equation using `scipy.integrate.solve_ivp`. Assume initial conditions $\\theta(0)=\\pi/6$ and $d\\theta/dt(0)=0.$"
   ]
  },
  {
   "cell_type": "code",
   "execution_count": 5,
   "id": "a73d8a7f-5464-4b7e-ba93-42fb5611d74f",
   "metadata": {},
   "outputs": [
    {
     "data": {
      "image/png": "[encoded data removed]",
      "text/plain": [
       "<Figure size 640x480 with 1 Axes>"
      ]
     },
     "metadata": {},
     "output_type": "display_data"
    }
   ],
   "source": [
    "import numpy as np\n",
    "from scipy.integrate import solve_ivp\n",
    "import matplotlib.pyplot as plt\n",
    "\n",
    "# Constants\n",
    "g = 9.81  # Gravity\n",
    "L = 2.0   # Length of the pendulum\n",
    "\n",
    "# Define the ODE system\n",
    "def pendulum(t, y):\n",
    "    theta, omega = y\n",
    "    dydt = [omega, -(g/L) * np.sin(theta)]\n",
    "    return dydt\n",
    "\n",
    "# Initial conditions: theta(0) = pi/6, dtheta/dt(0) = 0\n",
    "y0 = [np.pi/6, 0]\n",
    "\n",
    "# Time range\n",
    "t_span = [0, 10]\n",
    "t_eval = np.linspace(0, 10, 100)\n",
    "\n",
    "# Solve ODE\n",
    "sol = solve_ivp(pendulum, t_span, y0, t_eval=t_eval)\n",
    "\n",
    "# Plot the results\n",
    "plt.plot(sol.t, sol.y[0], label='Theta (Angle)')\n",
    "plt.xlabel('Time [s]')\n",
    "plt.ylabel('Angle [rad]')\n",
    "plt.title('Simple Pendulum Motion')\n",
    "plt.legend()\n",
    "plt.show()"
   ]
  },
  {
   "cell_type": "markdown",
   "id": "26b74647-38bf-4d9e-a1ea-483c39311dfc",
   "metadata": {},
   "source": [
    "- The **Lotka-Volterra (Predator-Prey) Model** is a well-known system of nonlinear ODEs:\n",
    "\n",
    "$$\n",
    "\\frac{dx}{dt} = \\alpha x - \\beta xy\n",
    "$$\n",
    "$$\n",
    "\\frac{dy}{dt} = \\delta xy - \\gamma y\n",
    "$$\n",
    "\n",
    "Where:\n",
    "\n",
    "- $x(t)$ is the population of prey,\n",
    "- $y(t)$ is the population of predators,\n",
    "- $\\alpha, \\beta, \\delta, \\gamma$ are constants.\n",
    "\n",
    "Solve the system with the following parameter values:\n",
    "\n",
    "$\n",
    "\\alpha = 1.5, \\, \\beta = 1, \\, \\delta = 0.1, \\, \\gamma = 1\n",
    "$\n",
    "\n",
    "With initial conditions $x(0) = 10$, $y(0) = 5$, over the time interval $t \\in [0, 30]$.\n"
   ]
  },
  {
   "cell_type": "code",
   "execution_count": 11,
   "id": "dead8507-101e-440e-97ea-e19add96bc3d",
   "metadata": {},
   "outputs": [],
   "source": [
    "alpha, beta, delta, gamma = 1.5, 1, 0.1, 1\n",
    "def lotka(t, pos):\n",
    "    x, y = pos\n",
    "    return [alpha * x - beta * x * y, delta * x * y - gamma * y]\n",
    "\n",
    "result = solve_ivp(lotka, [0, 30], [10, 5], t_eval = np.linspace(0, 30, 1000))"
   ]
  },
  {
   "cell_type": "code",
   "execution_count": 12,
   "id": "c57c468c-b8da-4bc7-8acc-cb92adb548b5",
   "metadata": {},
   "outputs": [
    {
     "data": {
      "text/plain": [
       "<matplotlib.legend.Legend at 0x7d7b6cd72450>"
      ]
     },
     "execution_count": 12,
     "metadata": {},
     "output_type": "execute_result"
    },
    {
     "data": {
      "image/png": "[encoded data removed]",
      "text/plain": [
       "<Figure size 640x480 with 1 Axes>"
      ]
     },
     "metadata": {},
     "output_type": "display_data"
    }
   ],
   "source": [
    "plt.plot(result.t, result.y[0], label = r\"$x(t)$\")\n",
    "plt.plot(result.t, result.y[1], label = r\"$y(t)$\")\n",
    "plt.legend()"
   ]
  },
  {
   "cell_type": "markdown",
   "id": "936e0d14-0965-4406-8db6-b486e31ae90e",
   "metadata": {},
   "source": [
    "### Optimization"
   ]
  },
  {
   "cell_type": "code",
   "execution_count": 1,
   "id": "f3435357-c50f-488f-b471-8dd0400f0db2",
   "metadata": {},
   "outputs": [],
   "source": [
    "from scipy import optimize"
   ]
  },
  {
   "cell_type": "code",
   "execution_count": 23,
   "id": "35e02b36-8474-43f5-bb9e-12acdf2c5ce3",
   "metadata": {},
   "outputs": [],
   "source": [
    "def objective(x):\n",
    "    return np.sum(x ** 2)\n",
    "def gradient(x):\n",
    "    return 2 * x"
   ]
  },
  {
   "cell_type": "code",
   "execution_count": 24,
   "id": "c59b77a5-42d7-43be-9383-72ca92c0f88d",
   "metadata": {},
   "outputs": [
    {
     "data": {
      "text/plain": [
       "  message: Optimization terminated successfully.\n",
       "  success: True\n",
       "   status: 0\n",
       "      fun: 8.38164711797325e-31\n",
       "        x: [-4.441e-16 -4.441e-16 -4.441e-16 -2.220e-16  0.000e+00\n",
       "            -1.110e-16  2.220e-16  3.331e-16  1.110e-16  1.110e-16]\n",
       "      nit: 2\n",
       "      jac: [-8.882e-16 -8.882e-16 -8.882e-16 -4.441e-16  0.000e+00\n",
       "            -2.220e-16  4.441e-16  6.661e-16  2.220e-16  2.220e-16]\n",
       " hess_inv: [[ 9.500e-01 -5.000e-02 ... -5.000e-02 -5.000e-02]\n",
       "            [-5.000e-02  9.500e-01 ... -5.000e-02 -5.000e-02]\n",
       "            ...\n",
       "            [-5.000e-02 -5.000e-02 ...  9.500e-01 -5.000e-02]\n",
       "            [-5.000e-02 -5.000e-02 ... -5.000e-02  9.500e-01]]\n",
       "     nfev: 3\n",
       "     njev: 3"
      ]
     },
     "execution_count": 24,
     "metadata": {},
     "output_type": "execute_result"
    }
   ],
   "source": [
    "result = optimize.minimize(objective, [1]*10, jac=gradient)\n",
    "result"
   ]
  },
  {
   "cell_type": "code",
   "execution_count": 19,
   "id": "d97b0824-c862-41e1-936e-00b5077159a9",
   "metadata": {},
   "outputs": [
    {
     "data": {
      "text/plain": [
       "  message: Optimization terminated successfully.\n",
       "  success: True\n",
       "   status: 0\n",
       "      fun: 2.465190328815662e-31\n",
       "        x: [ 1.000e+00  2.500e+00]\n",
       "      nit: 2\n",
       "      jac: [ 4.441e-16 -8.882e-16]\n",
       " hess_inv: [[ 9.310e-01 -1.724e-01]\n",
       "            [-1.724e-01  5.690e-01]]\n",
       "     nfev: 3\n",
       "     njev: 3"
      ]
     },
     "execution_count": 19,
     "metadata": {},
     "output_type": "execute_result"
    }
   ],
   "source": [
    "def objective(x):\n",
    "    return (x[0] - 1)**2 + (x[1] - 2.5)**2\n",
    "\n",
    "def gradient(x):\n",
    "    return np.array([2*(x[0] - 1), 2*(x[1] - 2.5)])\n",
    "\n",
    "result = optimize.minimize(objective, x0=[0, 0], method='BFGS', jac=gradient)\n",
    "result"
   ]
  },
  {
   "cell_type": "code",
   "execution_count": 20,
   "id": "83884df6-95c3-4288-939f-f2d72e05c4aa",
   "metadata": {},
   "outputs": [
    {
     "data": {
      "text/plain": [
       "  message: Optimization terminated successfully.\n",
       "  success: True\n",
       "   status: 0\n",
       "      fun: 1.968344227868139e-15\n",
       "        x: [ 1.000e+00  2.500e+00]\n",
       "      nit: 2\n",
       "      jac: [-6.956e-08  4.211e-08]\n",
       " hess_inv: [[ 9.310e-01 -1.724e-01]\n",
       "            [-1.724e-01  5.690e-01]]\n",
       "     nfev: 9\n",
       "     njev: 3"
      ]
     },
     "execution_count": 20,
     "metadata": {},
     "output_type": "execute_result"
    }
   ],
   "source": [
    "result = optimize.minimize(objective, x0=[0, 0], method='BFGS')\n",
    "result"
   ]
  },
  {
   "cell_type": "code",
   "execution_count": 25,
   "id": "62cefd0e-a9bb-4d6b-8e10-00afb34cb599",
   "metadata": {},
   "outputs": [
    {
     "data": {
      "image/png": "[encoded data removed]",
      "text/plain": [
       "<Figure size 640x480 with 1 Axes>"
      ]
     },
     "metadata": {},
     "output_type": "display_data"
    }
   ],
   "source": [
    "x = np.linspace(0, 3)\n",
    "plt.plot(x, x/2 +1)\n",
    "plt.plot(x, x/2-3)\n",
    "plt.plot(x, x/2-1)\n",
    "plt.show()"
   ]
  },
  {
   "cell_type": "code",
   "execution_count": 28,
   "id": "6e500ebe-a7f5-4956-948b-db08acdcfacb",
   "metadata": {},
   "outputs": [
    {
     "name": "stdout",
     "output_type": "stream",
     "text": [
      "[1.39999999 1.7       ] 0.8\n",
      "0.0\n"
     ]
    }
   ],
   "source": [
    "def objective(x):\n",
    "    return (x[0] - 1)**2 + (x[1] - 2.5)**2\n",
    "\n",
    "cons = ({'type': 'eq', 'fun': lambda x:  x[0] - 2 * x[1] + 2},\n",
    "        {'type': 'ineq', 'fun': lambda x: -x[0] - 2 * x[1] + 6},\n",
    "        {'type': 'ineq', 'fun': lambda x: -x[0] + 2 * x[1] + 2})\n",
    "\n",
    "result = optimize.minimize(objective, x0=[0, 0], method='SLSQP', constraints=cons)\n",
    "x, y = result.x\n",
    "print(result.x, result.fun)\n",
    "print(x-2*y+2)"
   ]
  },
  {
   "cell_type": "markdown",
   "id": "942c4e55-ab72-4e1f-adaf-2c191bf4eff8",
   "metadata": {},
   "source": [
    "#### Exercise\n",
    "- Estimate when $x^2= \\sin x$.\n",
    "- Determine the fixed point(s) of the mapping $f(x,y)=(x/2, y/2) + (0.25, 0.25).$"
   ]
  },
  {
   "cell_type": "code",
   "execution_count": 30,
   "id": "3fc2e210-75f2-41a0-b72c-57c24d02c997",
   "metadata": {},
   "outputs": [
    {
     "data": {
      "text/plain": [
       "[<matplotlib.lines.Line2D at 0x7d7b63be5670>]"
      ]
     },
     "execution_count": 30,
     "metadata": {},
     "output_type": "execute_result"
    },
    {
     "data": {
      "image/png": "[encoded data removed]",
      "text/plain": [
       "<Figure size 640x480 with 1 Axes>"
      ]
     },
     "metadata": {},
     "output_type": "display_data"
    }
   ],
   "source": [
    "x = np.linspace(-2, 2)\n",
    "plt.plot(x, x ** 2)\n",
    "plt.plot(x, np.sin(x))"
   ]
  },
  {
   "cell_type": "code",
   "execution_count": 34,
   "id": "3a487449-df46-4473-8161-c3e961718b99",
   "metadata": {},
   "outputs": [
    {
     "data": {
      "text/plain": [
       "  message: Optimization terminated successfully.\n",
       "  success: True\n",
       "   status: 0\n",
       "      fun: -0.2324655751543299\n",
       "        x: [ 4.502e-01]\n",
       "      nit: 5\n",
       "      jac: [-4.333e-06]\n",
       " hess_inv: [[ 4.094e-01]]\n",
       "     nfev: 12\n",
       "     njev: 6"
      ]
     },
     "execution_count": 34,
     "metadata": {},
     "output_type": "execute_result"
    }
   ],
   "source": [
    "def objective(x):\n",
    "    return x ** 2 - np.sin(x)\n",
    "result = optimize.minimize(objective, 1, x)\n",
    "result"
   ]
  },
  {
   "cell_type": "code",
   "execution_count": 52,
   "id": "0eda992f-fcc3-4f0d-b4b0-4b909ee7ccae",
   "metadata": {},
   "outputs": [
    {
     "data": {
      "text/plain": [
       "np.float64(2.7182818210084645)"
      ]
     },
     "execution_count": 52,
     "metadata": {},
     "output_type": "execute_result"
    }
   ],
   "source": [
    "from scipy import integrate\n",
    "def objective(x):\n",
    "    integral = integrate.quad(lambda t: 1/t, 1, x, epsabs=1e-15)\n",
    "    return (integral[0] - 1) ** 2\n",
    "result = optimize.minimize(objective, 2, tol=1e-15)\n",
    "result.x[0]"
   ]
  },
  {
   "cell_type": "code",
   "execution_count": 51,
   "id": "89dd8806-fbcb-4972-aafb-73d4d0f79105",
   "metadata": {},
   "outputs": [
    {
     "data": {
      "text/plain": [
       "2.718281828459045"
      ]
     },
     "execution_count": 51,
     "metadata": {},
     "output_type": "execute_result"
    }
   ],
   "source": [
    "np.e"
   ]
  },
  {
   "cell_type": "markdown",
   "id": "2135e979-4cbe-4035-8e6c-7ae6c5869a68",
   "metadata": {},
   "source": [
    "- Use ´from sklearn.datasets import load_diabetes´ to do a linear regression for the data of factors that may lead to diabetes."
   ]
  },
  {
   "cell_type": "code",
   "execution_count": 2,
   "id": "5e6f065c-4c2e-4fb4-b4df-c7f8dd591939",
   "metadata": {},
   "outputs": [],
   "source": [
    "from sklearn.datasets import load_diabetes\n",
    "import pandas as pd"
   ]
  },
  {
   "cell_type": "code",
   "execution_count": 3,
   "id": "c6a6eb2d-685e-4644-aa18-4323c7d4b263",
   "metadata": {},
   "outputs": [
    {
     "data": {
      "text/plain": [
       "{'data': array([[ 0.03807591,  0.05068012,  0.06169621, ..., -0.00259226,\n",
       "          0.01990749, -0.01764613],\n",
       "        [-0.00188202, -0.04464164, -0.05147406, ..., -0.03949338,\n",
       "         -0.06833155, -0.09220405],\n",
       "        [ 0.08529891,  0.05068012,  0.04445121, ..., -0.00259226,\n",
       "          0.00286131, -0.02593034],\n",
       "        ...,\n",
       "        [ 0.04170844,  0.05068012, -0.01590626, ..., -0.01107952,\n",
       "         -0.04688253,  0.01549073],\n",
       "        [-0.04547248, -0.04464164,  0.03906215, ...,  0.02655962,\n",
       "          0.04452873, -0.02593034],\n",
       "        [-0.04547248, -0.04464164, -0.0730303 , ..., -0.03949338,\n",
       "         -0.00422151,  0.00306441]]),\n",
       " 'target': array([151.,  75., 141., 206., 135.,  97., 138.,  63., 110., 310., 101.,\n",
       "         69., 179., 185., 118., 171., 166., 144.,  97., 168.,  68.,  49.,\n",
       "         68., 245., 184., 202., 137.,  85., 131., 283., 129.,  59., 341.,\n",
       "         87.,  65., 102., 265., 276., 252.,  90., 100.,  55.,  61.,  92.,\n",
       "        259.,  53., 190., 142.,  75., 142., 155., 225.,  59., 104., 182.,\n",
       "        128.,  52.,  37., 170., 170.,  61., 144.,  52., 128.,  71., 163.,\n",
       "        150.,  97., 160., 178.,  48., 270., 202., 111.,  85.,  42., 170.,\n",
       "        200., 252., 113., 143.,  51.,  52., 210.,  65., 141.,  55., 134.,\n",
       "         42., 111.,  98., 164.,  48.,  96.,  90., 162., 150., 279.,  92.,\n",
       "         83., 128., 102., 302., 198.,  95.,  53., 134., 144., 232.,  81.,\n",
       "        104.,  59., 246., 297., 258., 229., 275., 281., 179., 200., 200.,\n",
       "        173., 180.,  84., 121., 161.,  99., 109., 115., 268., 274., 158.,\n",
       "        107.,  83., 103., 272.,  85., 280., 336., 281., 118., 317., 235.,\n",
       "         60., 174., 259., 178., 128.,  96., 126., 288.,  88., 292.,  71.,\n",
       "        197., 186.,  25.,  84.,  96., 195.,  53., 217., 172., 131., 214.,\n",
       "         59.,  70., 220., 268., 152.,  47.,  74., 295., 101., 151., 127.,\n",
       "        237., 225.,  81., 151., 107.,  64., 138., 185., 265., 101., 137.,\n",
       "        143., 141.,  79., 292., 178.,  91., 116.,  86., 122.,  72., 129.,\n",
       "        142.,  90., 158.,  39., 196., 222., 277.,  99., 196., 202., 155.,\n",
       "         77., 191.,  70.,  73.,  49.,  65., 263., 248., 296., 214., 185.,\n",
       "         78.,  93., 252., 150.,  77., 208.,  77., 108., 160.,  53., 220.,\n",
       "        154., 259.,  90., 246., 124.,  67.,  72., 257., 262., 275., 177.,\n",
       "         71.,  47., 187., 125.,  78.,  51., 258., 215., 303., 243.,  91.,\n",
       "        150., 310., 153., 346.,  63.,  89.,  50.,  39., 103., 308., 116.,\n",
       "        145.,  74.,  45., 115., 264.,  87., 202., 127., 182., 241.,  66.,\n",
       "         94., 283.,  64., 102., 200., 265.,  94., 230., 181., 156., 233.,\n",
       "         60., 219.,  80.,  68., 332., 248.,  84., 200.,  55.,  85.,  89.,\n",
       "         31., 129.,  83., 275.,  65., 198., 236., 253., 124.,  44., 172.,\n",
       "        114., 142., 109., 180., 144., 163., 147.,  97., 220., 190., 109.,\n",
       "        191., 122., 230., 242., 248., 249., 192., 131., 237.,  78., 135.,\n",
       "        244., 199., 270., 164.,  72.,  96., 306.,  91., 214.,  95., 216.,\n",
       "        263., 178., 113., 200., 139., 139.,  88., 148.,  88., 243.,  71.,\n",
       "         77., 109., 272.,  60.,  54., 221.,  90., 311., 281., 182., 321.,\n",
       "         58., 262., 206., 233., 242., 123., 167.,  63., 197.,  71., 168.,\n",
       "        140., 217., 121., 235., 245.,  40.,  52., 104., 132.,  88.,  69.,\n",
       "        219.,  72., 201., 110.,  51., 277.,  63., 118.,  69., 273., 258.,\n",
       "         43., 198., 242., 232., 175.,  93., 168., 275., 293., 281.,  72.,\n",
       "        140., 189., 181., 209., 136., 261., 113., 131., 174., 257.,  55.,\n",
       "         84.,  42., 146., 212., 233.,  91., 111., 152., 120.,  67., 310.,\n",
       "         94., 183.,  66., 173.,  72.,  49.,  64.,  48., 178., 104., 132.,\n",
       "        220.,  57.]),\n",
       " 'frame': None,\n",
       " 'DESCR': '.. _diabetes_dataset:\\n\\nDiabetes dataset\\n----------------\\n\\nTen baseline variables, age, sex, body mass index, average blood\\npressure, and six blood serum measurements were obtained for each of n =\\n442 diabetes patients, as well as the response of interest, a\\nquantitative measure of disease progression one year after baseline.\\n\\n**Data Set Characteristics:**\\n\\n:Number of Instances: 442\\n\\n:Number of Attributes: First 10 columns are numeric predictive values\\n\\n:Target: Column 11 is a quantitative measure of disease progression one year after baseline\\n\\n:Attribute Information:\\n    - age     age in years\\n    - sex\\n    - bmi     body mass index\\n    - bp      average blood pressure\\n    - s1      tc, total serum cholesterol\\n    - s2      ldl, low-density lipoproteins\\n    - s3      hdl, high-density lipoproteins\\n    - s4      tch, total cholesterol / HDL\\n    - s5      ltg, possibly log of serum triglycerides level\\n    - s6      glu, blood sugar level\\n\\nNote: Each of these 10 feature variables have been mean centered and scaled by the standard deviation times the square root of `n_samples` (i.e. the sum of squares of each column totals 1).\\n\\nSource URL:\\nhttps://www4.stat.ncsu.edu/~boos/var.select/diabetes.html\\n\\nFor more information see:\\nBradley Efron, Trevor Hastie, Iain Johnstone and Robert Tibshirani (2004) \"Least Angle Regression,\" Annals of Statistics (with discussion), 407-499.\\n(https://web.stanford.edu/~hastie/Papers/LARS/LeastAngle_2002.pdf)\\n',\n",
       " 'feature_names': ['age',\n",
       "  'sex',\n",
       "  'bmi',\n",
       "  'bp',\n",
       "  's1',\n",
       "  's2',\n",
       "  's3',\n",
       "  's4',\n",
       "  's5',\n",
       "  's6'],\n",
       " 'data_filename': 'diabetes_data_raw.csv.gz',\n",
       " 'target_filename': 'diabetes_target.csv.gz',\n",
       " 'data_module': 'sklearn.datasets.data'}"
      ]
     },
     "execution_count": 3,
     "metadata": {},
     "output_type": "execute_result"
    }
   ],
   "source": [
    "# Load the diabetes dataset\n",
    "diabetes = load_diabetes()\n",
    "diabetes"
   ]
  },
  {
   "cell_type": "code",
   "execution_count": 4,
   "id": "a1bb5a58-0377-4fe9-88b3-35a0b7c2d6c5",
   "metadata": {},
   "outputs": [
    {
     "data": {
      "text/html": [
       "<div>\n",
       "<style scoped>\n",
       "    .dataframe tbody tr th:only-of-type {\n",
       "        vertical-align: middle;\n",
       "    }\n",
       "\n",
       "    .dataframe tbody tr th {\n",
       "        vertical-align: top;\n",
       "    }\n",
       "\n",
       "    .dataframe thead th {\n",
       "        text-align: right;\n",
       "    }\n",
       "</style>\n",
       "<table border=\"1\" class=\"dataframe\">\n",
       "  <thead>\n",
       "    <tr style=\"text-align: right;\">\n",
       "      <th></th>\n",
       "      <th>age</th>\n",
       "      <th>sex</th>\n",
       "      <th>bmi</th>\n",
       "      <th>bp</th>\n",
       "      <th>s1</th>\n",
       "      <th>s2</th>\n",
       "      <th>s3</th>\n",
       "      <th>s4</th>\n",
       "      <th>s5</th>\n",
       "      <th>s6</th>\n",
       "      <th>target</th>\n",
       "    </tr>\n",
       "  </thead>\n",
       "  <tbody>\n",
       "    <tr>\n",
       "      <th>0</th>\n",
       "      <td>0.038076</td>\n",
       "      <td>0.050680</td>\n",
       "      <td>0.061696</td>\n",
       "      <td>0.021872</td>\n",
       "      <td>-0.044223</td>\n",
       "      <td>-0.034821</td>\n",
       "      <td>-0.043401</td>\n",
       "      <td>-0.002592</td>\n",
       "      <td>0.019907</td>\n",
       "      <td>-0.017646</td>\n",
       "      <td>151.0</td>\n",
       "    </tr>\n",
       "    <tr>\n",
       "      <th>1</th>\n",
       "      <td>-0.001882</td>\n",
       "      <td>-0.044642</td>\n",
       "      <td>-0.051474</td>\n",
       "      <td>-0.026328</td>\n",
       "      <td>-0.008449</td>\n",
       "      <td>-0.019163</td>\n",
       "      <td>0.074412</td>\n",
       "      <td>-0.039493</td>\n",
       "      <td>-0.068332</td>\n",
       "      <td>-0.092204</td>\n",
       "      <td>75.0</td>\n",
       "    </tr>\n",
       "    <tr>\n",
       "      <th>2</th>\n",
       "      <td>0.085299</td>\n",
       "      <td>0.050680</td>\n",
       "      <td>0.044451</td>\n",
       "      <td>-0.005670</td>\n",
       "      <td>-0.045599</td>\n",
       "      <td>-0.034194</td>\n",
       "      <td>-0.032356</td>\n",
       "      <td>-0.002592</td>\n",
       "      <td>0.002861</td>\n",
       "      <td>-0.025930</td>\n",
       "      <td>141.0</td>\n",
       "    </tr>\n",
       "    <tr>\n",
       "      <th>3</th>\n",
       "      <td>-0.089063</td>\n",
       "      <td>-0.044642</td>\n",
       "      <td>-0.011595</td>\n",
       "      <td>-0.036656</td>\n",
       "      <td>0.012191</td>\n",
       "      <td>0.024991</td>\n",
       "      <td>-0.036038</td>\n",
       "      <td>0.034309</td>\n",
       "      <td>0.022688</td>\n",
       "      <td>-0.009362</td>\n",
       "      <td>206.0</td>\n",
       "    </tr>\n",
       "    <tr>\n",
       "      <th>4</th>\n",
       "      <td>0.005383</td>\n",
       "      <td>-0.044642</td>\n",
       "      <td>-0.036385</td>\n",
       "      <td>0.021872</td>\n",
       "      <td>0.003935</td>\n",
       "      <td>0.015596</td>\n",
       "      <td>0.008142</td>\n",
       "      <td>-0.002592</td>\n",
       "      <td>-0.031988</td>\n",
       "      <td>-0.046641</td>\n",
       "      <td>135.0</td>\n",
       "    </tr>\n",
       "    <tr>\n",
       "      <th>...</th>\n",
       "      <td>...</td>\n",
       "      <td>...</td>\n",
       "      <td>...</td>\n",
       "      <td>...</td>\n",
       "      <td>...</td>\n",
       "      <td>...</td>\n",
       "      <td>...</td>\n",
       "      <td>...</td>\n",
       "      <td>...</td>\n",
       "      <td>...</td>\n",
       "      <td>...</td>\n",
       "    </tr>\n",
       "    <tr>\n",
       "      <th>437</th>\n",
       "      <td>0.041708</td>\n",
       "      <td>0.050680</td>\n",
       "      <td>0.019662</td>\n",
       "      <td>0.059744</td>\n",
       "      <td>-0.005697</td>\n",
       "      <td>-0.002566</td>\n",
       "      <td>-0.028674</td>\n",
       "      <td>-0.002592</td>\n",
       "      <td>0.031193</td>\n",
       "      <td>0.007207</td>\n",
       "      <td>178.0</td>\n",
       "    </tr>\n",
       "    <tr>\n",
       "      <th>438</th>\n",
       "      <td>-0.005515</td>\n",
       "      <td>0.050680</td>\n",
       "      <td>-0.015906</td>\n",
       "      <td>-0.067642</td>\n",
       "      <td>0.049341</td>\n",
       "      <td>0.079165</td>\n",
       "      <td>-0.028674</td>\n",
       "      <td>0.034309</td>\n",
       "      <td>-0.018114</td>\n",
       "      <td>0.044485</td>\n",
       "      <td>104.0</td>\n",
       "    </tr>\n",
       "    <tr>\n",
       "      <th>439</th>\n",
       "      <td>0.041708</td>\n",
       "      <td>0.050680</td>\n",
       "      <td>-0.015906</td>\n",
       "      <td>0.017293</td>\n",
       "      <td>-0.037344</td>\n",
       "      <td>-0.013840</td>\n",
       "      <td>-0.024993</td>\n",
       "      <td>-0.011080</td>\n",
       "      <td>-0.046883</td>\n",
       "      <td>0.015491</td>\n",
       "      <td>132.0</td>\n",
       "    </tr>\n",
       "    <tr>\n",
       "      <th>440</th>\n",
       "      <td>-0.045472</td>\n",
       "      <td>-0.044642</td>\n",
       "      <td>0.039062</td>\n",
       "      <td>0.001215</td>\n",
       "      <td>0.016318</td>\n",
       "      <td>0.015283</td>\n",
       "      <td>-0.028674</td>\n",
       "      <td>0.026560</td>\n",
       "      <td>0.044529</td>\n",
       "      <td>-0.025930</td>\n",
       "      <td>220.0</td>\n",
       "    </tr>\n",
       "    <tr>\n",
       "      <th>441</th>\n",
       "      <td>-0.045472</td>\n",
       "      <td>-0.044642</td>\n",
       "      <td>-0.073030</td>\n",
       "      <td>-0.081413</td>\n",
       "      <td>0.083740</td>\n",
       "      <td>0.027809</td>\n",
       "      <td>0.173816</td>\n",
       "      <td>-0.039493</td>\n",
       "      <td>-0.004222</td>\n",
       "      <td>0.003064</td>\n",
       "      <td>57.0</td>\n",
       "    </tr>\n",
       "  </tbody>\n",
       "</table>\n",
       "<p>442 rows × 11 columns</p>\n",
       "</div>"
      ],
      "text/plain": [
       "          age       sex       bmi        bp        s1        s2        s3  \\\n",
       "0    0.038076  0.050680  0.061696  0.021872 -0.044223 -0.034821 -0.043401   \n",
       "1   -0.001882 -0.044642 -0.051474 -0.026328 -0.008449 -0.019163  0.074412   \n",
       "2    0.085299  0.050680  0.044451 -0.005670 -0.045599 -0.034194 -0.032356   \n",
       "3   -0.089063 -0.044642 -0.011595 -0.036656  0.012191  0.024991 -0.036038   \n",
       "4    0.005383 -0.044642 -0.036385  0.021872  0.003935  0.015596  0.008142   \n",
       "..        ...       ...       ...       ...       ...       ...       ...   \n",
       "437  0.041708  0.050680  0.019662  0.059744 -0.005697 -0.002566 -0.028674   \n",
       "438 -0.005515  0.050680 -0.015906 -0.067642  0.049341  0.079165 -0.028674   \n",
       "439  0.041708  0.050680 -0.015906  0.017293 -0.037344 -0.013840 -0.024993   \n",
       "440 -0.045472 -0.044642  0.039062  0.001215  0.016318  0.015283 -0.028674   \n",
       "441 -0.045472 -0.044642 -0.073030 -0.081413  0.083740  0.027809  0.173816   \n",
       "\n",
       "           s4        s5        s6  target  \n",
       "0   -0.002592  0.019907 -0.017646   151.0  \n",
       "1   -0.039493 -0.068332 -0.092204    75.0  \n",
       "2   -0.002592  0.002861 -0.025930   141.0  \n",
       "3    0.034309  0.022688 -0.009362   206.0  \n",
       "4   -0.002592 -0.031988 -0.046641   135.0  \n",
       "..        ...       ...       ...     ...  \n",
       "437 -0.002592  0.031193  0.007207   178.0  \n",
       "438  0.034309 -0.018114  0.044485   104.0  \n",
       "439 -0.011080 -0.046883  0.015491   132.0  \n",
       "440  0.026560  0.044529 -0.025930   220.0  \n",
       "441 -0.039493 -0.004222  0.003064    57.0  \n",
       "\n",
       "[442 rows x 11 columns]"
      ]
     },
     "execution_count": 4,
     "metadata": {},
     "output_type": "execute_result"
    }
   ],
   "source": [
    "# Create a dataframe\n",
    "df = pd.DataFrame(diabetes.data, columns=diabetes.feature_names)\n",
    "df['target'] = diabetes.target\n",
    "df"
   ]
  },
  {
   "cell_type": "code",
   "execution_count": 5,
   "id": "ea3ff433-9822-417c-8ef3-76377fd7a6aa",
   "metadata": {},
   "outputs": [],
   "source": [
    "import numpy as np"
   ]
  },
  {
   "cell_type": "code",
   "execution_count": 80,
   "id": "f67eb5bc-88cb-4c4f-9d2c-2d809e751bef",
   "metadata": {},
   "outputs": [
    {
     "data": {
      "text/plain": [
       "(442, 10)"
      ]
     },
     "execution_count": 80,
     "metadata": {},
     "output_type": "execute_result"
    }
   ],
   "source": [
    "X = diabetes.data\n",
    "X.shape"
   ]
  },
  {
   "cell_type": "code",
   "execution_count": 82,
   "id": "d88673fd-f083-44e0-8c58-627f80d33c1e",
   "metadata": {},
   "outputs": [
    {
     "data": {
      "text/plain": [
       "array([[ 1.        ,  0.03807591,  0.05068012, ..., -0.00259226,\n",
       "         0.01990749, -0.01764613],\n",
       "       [ 1.        , -0.00188202, -0.04464164, ..., -0.03949338,\n",
       "        -0.06833155, -0.09220405],\n",
       "       [ 1.        ,  0.08529891,  0.05068012, ..., -0.00259226,\n",
       "         0.00286131, -0.02593034],\n",
       "       ...,\n",
       "       [ 1.        ,  0.04170844,  0.05068012, ..., -0.01107952,\n",
       "        -0.04688253,  0.01549073],\n",
       "       [ 1.        , -0.04547248, -0.04464164, ...,  0.02655962,\n",
       "         0.04452873, -0.02593034],\n",
       "       [ 1.        , -0.04547248, -0.04464164, ..., -0.03949338,\n",
       "        -0.00422151,  0.00306441]])"
      ]
     },
     "execution_count": 82,
     "metadata": {},
     "output_type": "execute_result"
    }
   ],
   "source": [
    "X = np.hstack((np.ones((X.shape[0],1)),X))\n",
    "y = diabetes.target\n",
    "X"
   ]
  },
  {
   "cell_type": "code",
   "execution_count": 83,
   "id": "974a7971-b61b-491a-a987-a7a9388665fd",
   "metadata": {},
   "outputs": [
    {
     "data": {
      "text/plain": [
       "(442,)"
      ]
     },
     "execution_count": 83,
     "metadata": {},
     "output_type": "execute_result"
    }
   ],
   "source": [
    "y.shape"
   ]
  },
  {
   "cell_type": "code",
   "execution_count": 84,
   "id": "4884cb30-1928-4bd6-bf16-a41ccefb69c6",
   "metadata": {},
   "outputs": [],
   "source": [
    "def objective(c):\n",
    "    return np.mean(((y - X.dot(c)))**2)"
   ]
  },
  {
   "cell_type": "code",
   "execution_count": 85,
   "id": "f8678be4-cc7e-40a0-a81b-2e61611b0e1f",
   "metadata": {},
   "outputs": [
    {
     "data": {
      "text/plain": [
       "  message: Optimization terminated successfully.\n",
       "  success: True\n",
       "   status: 0\n",
       "      fun: 2859.6963477691097\n",
       "        x: [ 1.521e+02 -1.001e+01 -2.398e+02  5.198e+02  3.244e+02\n",
       "            -7.921e+02  4.767e+02  1.010e+02  1.771e+02  7.512e+02\n",
       "             6.763e+01]\n",
       "      nit: 113\n",
       "      jac: [ 0.000e+00  0.000e+00  0.000e+00  0.000e+00  0.000e+00\n",
       "             0.000e+00  0.000e+00  0.000e+00  0.000e+00  0.000e+00\n",
       "             0.000e+00]\n",
       " hess_inv: [[ 4.530e-01 -1.104e-02 ...  8.519e-02 -4.065e-02]\n",
       "            [-1.104e-02  2.427e+02 ... -6.941e+01 -2.156e+01]\n",
       "            ...\n",
       "            [ 8.519e-02 -6.941e+01 ...  1.063e+03  6.999e+01]\n",
       "            [-4.065e-02 -2.156e+01 ...  6.999e+01  2.865e+02]]\n",
       "     nfev: 1464\n",
       "     njev: 122"
      ]
     },
     "execution_count": 85,
     "metadata": {},
     "output_type": "execute_result"
    }
   ],
   "source": [
    "result = optimize.minimize(objective, [0] * 11, method=\"BFGS\", tol=1e-10)\n",
    "result"
   ]
  },
  {
   "cell_type": "code",
   "execution_count": 86,
   "id": "97da2294-4203-4260-810a-1a2b83dc1201",
   "metadata": {},
   "outputs": [],
   "source": [
    "import matplotlib.pyplot as plt"
   ]
  },
  {
   "cell_type": "code",
   "execution_count": 87,
   "id": "147ba1f4-f67a-4ee9-a1e2-ab031d91157a",
   "metadata": {},
   "outputs": [
    {
     "data": {
      "text/plain": [
       "array([ 152.13348416,  -10.0098663 , -239.81564367,  519.84592005,\n",
       "        324.3846455 , -792.17563855,  476.73902101,  101.04326794,\n",
       "        177.06323767,  751.27369956,   67.62669218])"
      ]
     },
     "execution_count": 87,
     "metadata": {},
     "output_type": "execute_result"
    }
   ],
   "source": [
    "np.linalg.inv(X.T @ X) @ X.T @ y"
   ]
  },
  {
   "cell_type": "code",
   "execution_count": 88,
   "id": "c1885ecf-8c52-4495-9450-962c53f73bfd",
   "metadata": {},
   "outputs": [
    {
     "name": "stdout",
     "output_type": "stream",
     "text": [
      "5.189367057055402\n"
     ]
    },
    {
     "data": {
      "text/plain": [
       "(array([ 3.,  4., 13., 15., 30., 33., 28., 38., 38., 32., 37., 39., 31.,\n",
       "        29., 19., 19.,  9.,  7.,  7.,  2.,  0.,  1.,  1.,  3.,  1.,  0.,\n",
       "         0.,  0.,  2.,  1.]),\n",
       " array([-0.82909397, -0.74379631, -0.65849866, -0.573201  , -0.48790335,\n",
       "        -0.40260569, -0.31730804, -0.23201038, -0.14671272, -0.06141507,\n",
       "         0.02388259,  0.10918024,  0.1944779 ,  0.27977556,  0.36507321,\n",
       "         0.45037087,  0.53566852,  0.62096618,  0.70626383,  0.79156149,\n",
       "         0.87685915,  0.9621568 ,  1.04745446,  1.13275211,  1.21804977,\n",
       "         1.30334743,  1.38864508,  1.47394274,  1.55924039,  1.64453805,\n",
       "         1.7298357 ]),\n",
       " <BarContainer object of 30 artists>)"
      ]
     },
     "execution_count": 88,
     "metadata": {},
     "output_type": "execute_result"
    },
    {
     "data": {
      "image/png": "[encoded data removed]",
      "text/plain": [
       "<Figure size 640x480 with 1 Axes>"
      ]
     },
     "metadata": {},
     "output_type": "display_data"
    }
   ],
   "source": [
    "y_pred = X @ result.x.T\n",
    "e = (y - y_pred)/y_pred\n",
    "print(sum(e))\n",
    "plt.hist(e, bins=30)"
   ]
  },
  {
   "cell_type": "markdown",
   "id": "374d5190-d81f-4bd6-9e13-3854d0b7104d",
   "metadata": {},
   "source": [
    "- - Use ´from sklearn.datasets import load_breast_cancer´ to do a linear regression for the data of factors that may lead to diabetes."
   ]
  },
  {
   "cell_type": "code",
   "execution_count": 90,
   "id": "e645467c-bbeb-412a-9bb8-767e9e6cde4d",
   "metadata": {},
   "outputs": [],
   "source": [
    "from sklearn.datasets import load_breast_cancer"
   ]
  },
  {
   "cell_type": "code",
   "execution_count": 92,
   "id": "bca07626-989d-45ee-8920-a3220c10c65b",
   "metadata": {},
   "outputs": [
    {
     "data": {
      "text/plain": [
       "(569, 31)"
      ]
     },
     "execution_count": 92,
     "metadata": {},
     "output_type": "execute_result"
    }
   ],
   "source": [
    "data = load_breast_cancer()\n",
    "X = data.data\n",
    "X = np.hstack((np.ones((X.shape[0],1)),X))\n",
    "y = data.target\n",
    "X.shape"
   ]
  },
  {
   "cell_type": "code",
   "execution_count": 93,
   "id": "365a0e1a-210e-49f4-b1b8-2c329f6d59d4",
   "metadata": {},
   "outputs": [
    {
     "data": {
      "text/plain": [
       "[<matplotlib.lines.Line2D at 0x70b32139bbc0>]"
      ]
     },
     "execution_count": 93,
     "metadata": {},
     "output_type": "execute_result"
    },
    {
     "data": {
      "image/png": "[encoded data removed]",
      "text/plain": [
       "<Figure size 640x480 with 1 Axes>"
      ]
     },
     "metadata": {},
     "output_type": "display_data"
    }
   ],
   "source": [
    "def sigmoid(x):\n",
    "    return 1/(1+np.exp(-x))\n",
    "x = np.linspace(-5,5)\n",
    "plt.plot(x, sigmoid(x))"
   ]
  },
  {
   "cell_type": "code",
   "execution_count": 96,
   "id": "7ef4e5fb-7790-40e9-9b5a-c0fbd7659877",
   "metadata": {},
   "outputs": [],
   "source": [
    "def objective(c):\n",
    "    return np.mean((y - sigmoid(X @ c)) ** 2)"
   ]
  },
  {
   "cell_type": "code",
   "execution_count": 97,
   "id": "2f26b763-6ca8-4326-919a-eca7c93b4e4a",
   "metadata": {},
   "outputs": [
    {
     "name": "stderr",
     "output_type": "stream",
     "text": [
      "/tmp/ipykernel_19744/2823034345.py:2: RuntimeWarning: overflow encountered in exp\n",
      "  return 1/(1+np.exp(-x))\n"
     ]
    },
    {
     "data": {
      "text/plain": [
       "  message: Optimization terminated successfully.\n",
       "  success: True\n",
       "   status: 0\n",
       "      fun: 0.017574702957660168\n",
       "        x: [ 5.298e+02  2.825e+03 ... -1.550e+03 -1.284e+02]\n",
       "      nit: 135\n",
       "      jac: [-3.027e-09 -4.610e-08 ... -2.328e-10 -6.985e-10]\n",
       " hess_inv: [[ 6.723e+09  3.585e+10 ... -1.966e+10 -1.628e+09]\n",
       "            [ 3.585e+10  1.912e+11 ... -1.048e+11 -8.683e+09]\n",
       "            ...\n",
       "            [-1.966e+10 -1.048e+11 ...  5.748e+10  4.762e+09]\n",
       "            [-1.628e+09 -8.683e+09 ...  4.762e+09  3.945e+08]]\n",
       "     nfev: 4704\n",
       "     njev: 147"
      ]
     },
     "execution_count": 97,
     "metadata": {},
     "output_type": "execute_result"
    }
   ],
   "source": [
    "result = optimize.minimize(objective, [0] * (X.shape[1]))\n",
    "result"
   ]
  },
  {
   "cell_type": "code",
   "execution_count": 98,
   "id": "15bbfa95-f8c2-40a5-94e3-4118ea93940f",
   "metadata": {},
   "outputs": [],
   "source": [
    "from sklearn import metrics"
   ]
  },
  {
   "cell_type": "code",
   "execution_count": 104,
   "id": "261a60fe-f339-4cc5-8029-d5acf8a2c390",
   "metadata": {},
   "outputs": [
    {
     "name": "stderr",
     "output_type": "stream",
     "text": [
      "/tmp/ipykernel_19744/2823034345.py:2: RuntimeWarning: overflow encountered in exp\n",
      "  return 1/(1+np.exp(-x))\n"
     ]
    },
    {
     "data": {
      "image/png": "[encoded data removed]",
      "text/plain": [
       "<Figure size 640x480 with 2 Axes>"
      ]
     },
     "metadata": {},
     "output_type": "display_data"
    }
   ],
   "source": [
    "confusion_matrix = metrics.confusion_matrix(y, sigmoid(X @ result.x) > 0)\n",
    "cm_display = metrics.ConfusionMatrixDisplay(confusion_matrix = confusion_matrix, display_labels = [0, 1]) \n",
    "cm_display.plot()\n",
    "plt.show() "
   ]
  },
  {
   "cell_type": "markdown",
   "id": "160ae0af-0fc5-461a-808f-b79351b6f68a",
   "metadata": {},
   "source": [
    "### Global Optimization Methods\n",
    "These methods attempt to find the global minimum of a function, which may have multiple local minima. Common methods include:\n",
    "\n",
    "- `scipy.optimize.basinhopping`: Basin-hopping algorithm\n",
    "\n",
    "  Basin-hopping is a stochastic algorithm that attempts to find the global minimum of a smooth scalar function. It works by iteratively performing a local optimization, followed by a random perturbation of the solution. This allows the algorithm to potentially escape local minima and explore different regions of the parameter space.\n",
    "- `scipy.optimize.differential_evolution`: Differential Evolution algorithm\n",
    "\n",
    "    Differential Evolution is a stochastic population-based method. It works by maintaining a population of candidate solutions and creating new candidate solutions by combining existing ones. It's particularly effective for problems with a continuous parameter space and doesn't require the gradient of the objective function.\n",
    "  \n",
    "- `scipy.optimize.shgo`: Simplicial Homology Global Optimization\n",
    "\n",
    "    SHGO is a global optimization algorithm that uses simplicial homology and local minimizations. It's designed to handle complex, multi-modal objective functions. SHGO works by sampling points in the parameter space, building a simplicial complex, and then performing local optimizations from promising points.\n",
    "  \n",
    "- `scipy.optimize.dual_annealing`: Dual Annealing optimization\n",
    "\n",
    "  Dual Annealing combines the probabilistic jump of Simulated Annealing with a local search. It's inspired by the physical process of annealing in metallurgy. The algorithm allows for both exploring the parameter space (at high \"temperatures\") and refining the solution (at low \"temperatures\"). It's effective for problems with a large number of local minima."
   ]
  },
  {
   "cell_type": "code",
   "execution_count": 64,
   "id": "41853c38-3048-4cce-ab0c-ca8d0aeb532b",
   "metadata": {},
   "outputs": [],
   "source": [
    "def objective(x):\n",
    "    return np.sin(x[0]) * np.cos(x[1])"
   ]
  },
  {
   "cell_type": "code",
   "execution_count": 67,
   "id": "8d6f4932-56ad-4e7b-97b1-d3bd58cf3616",
   "metadata": {},
   "outputs": [
    {
     "data": {
      "image/png": "[encoded data removed]",
      "text/plain": [
       "<Figure size 640x480 with 1 Axes>"
      ]
     },
     "metadata": {},
     "output_type": "display_data"
    }
   ],
   "source": [
    "fig = plt.figure()\n",
    "ax = fig.add_subplot(111, projection='3d')\n",
    "\n",
    "x=np.linspace(-10,10)\n",
    "y=np.linspace(-10,10)\n",
    "X,Y=np.meshgrid(x,y) \n",
    "ax.plot_surface(X,Y, objective([X,Y]))\n",
    "plt.show()"
   ]
  },
  {
   "cell_type": "code",
   "execution_count": 70,
   "id": "572b0352-870d-4da3-9194-75193e311648",
   "metadata": {},
   "outputs": [
    {
     "data": {
      "text/plain": [
       "             message: Optimization terminated successfully.\n",
       "             success: True\n",
       "                 fun: -0.9999999999999936\n",
       "                   x: [-4.712e+00 -9.425e+00]\n",
       "                 nit: 37\n",
       "                nfev: 1146\n",
       "          population: [[-4.718e+00 -9.421e+00]\n",
       "                       [-4.943e+00 -9.360e+00]\n",
       "                       ...\n",
       "                       [-4.628e+00 -9.488e+00]\n",
       "                       [ 1.643e+00 -9.431e+00]]\n",
       " population_energies: [-1.000e+00 -9.715e-01 ... -9.945e-01 -9.974e-01]\n",
       "                 jac: [-7.772e-08  7.772e-08]"
      ]
     },
     "execution_count": 70,
     "metadata": {},
     "output_type": "execute_result"
    }
   ],
   "source": [
    "result = optimize.differential_evolution(objective, bounds=[(-10, 10), (-10, 10)])\n",
    "result"
   ]
  },
  {
   "cell_type": "markdown",
   "id": "d79b940e-5667-48d4-846c-9c86c608d3ef",
   "metadata": {},
   "source": [
    "### Sparse Matrices"
   ]
  },
  {
   "cell_type": "code",
   "execution_count": 72,
   "id": "b5e2115a-62c0-490e-875a-d2521148e972",
   "metadata": {},
   "outputs": [],
   "source": [
    "from scipy import sparse"
   ]
  },
  {
   "cell_type": "code",
   "execution_count": 73,
   "id": "549f7031-86ab-462a-aff6-29d1031c0f1b",
   "metadata": {},
   "outputs": [
    {
     "name": "stdout",
     "output_type": "stream",
     "text": [
      "Help on function diags in module scipy.sparse._construct:\n",
      "\n",
      "diags(diagonals, offsets=0, shape=None, format=None, dtype=None)\n",
      "    Construct a sparse matrix from diagonals.\n",
      "\n",
      "    .. warning::\n",
      "\n",
      "        This function returns a sparse matrix -- not a sparse array.\n",
      "        You are encouraged to use ``diags_array`` to take advantage\n",
      "        of the sparse array functionality.\n",
      "\n",
      "    Parameters\n",
      "    ----------\n",
      "    diagonals : sequence of array_like\n",
      "        Sequence of arrays containing the matrix diagonals,\n",
      "        corresponding to `offsets`.\n",
      "    offsets : sequence of int or an int, optional\n",
      "        Diagonals to set:\n",
      "          - k = 0  the main diagonal (default)\n",
      "          - k > 0  the kth upper diagonal\n",
      "          - k < 0  the kth lower diagonal\n",
      "    shape : tuple of int, optional\n",
      "        Shape of the result. If omitted, a square matrix large enough\n",
      "        to contain the diagonals is returned.\n",
      "    format : {\"dia\", \"csr\", \"csc\", \"lil\", ...}, optional\n",
      "        Matrix format of the result. By default (format=None) an\n",
      "        appropriate sparse matrix format is returned. This choice is\n",
      "        subject to change.\n",
      "    dtype : dtype, optional\n",
      "        Data type of the matrix.\n",
      "\n",
      "    See Also\n",
      "    --------\n",
      "    spdiags : construct matrix from diagonals\n",
      "    diags_array : construct sparse array instead of sparse matrix\n",
      "\n",
      "    Notes\n",
      "    -----\n",
      "    This function differs from `spdiags` in the way it handles\n",
      "    off-diagonals.\n",
      "\n",
      "    The result from `diags` is the sparse equivalent of::\n",
      "\n",
      "        np.diag(diagonals[0], offsets[0])\n",
      "        + ...\n",
      "        + np.diag(diagonals[k], offsets[k])\n",
      "\n",
      "    Repeated diagonal offsets are disallowed.\n",
      "\n",
      "    .. versionadded:: 0.11\n",
      "\n",
      "    Examples\n",
      "    --------\n",
      "    >>> from scipy.sparse import diags\n",
      "    >>> diagonals = [[1, 2, 3, 4], [1, 2, 3], [1, 2]]\n",
      "    >>> diags(diagonals, [0, -1, 2]).toarray()\n",
      "    array([[1, 0, 1, 0],\n",
      "           [1, 2, 0, 2],\n",
      "           [0, 2, 3, 0],\n",
      "           [0, 0, 3, 4]])\n",
      "\n",
      "    Broadcasting of scalars is supported (but shape needs to be\n",
      "    specified):\n",
      "\n",
      "    >>> diags([1, -2, 1], [-1, 0, 1], shape=(4, 4)).toarray()\n",
      "    array([[-2.,  1.,  0.,  0.],\n",
      "           [ 1., -2.,  1.,  0.],\n",
      "           [ 0.,  1., -2.,  1.],\n",
      "           [ 0.,  0.,  1., -2.]])\n",
      "\n",
      "\n",
      "    If only one diagonal is wanted (as in `numpy.diag`), the following\n",
      "    works as well:\n",
      "\n",
      "    >>> diags([1, 2, 3], 1).toarray()\n",
      "    array([[ 0.,  1.,  0.,  0.],\n",
      "           [ 0.,  0.,  2.,  0.],\n",
      "           [ 0.,  0.,  0.,  3.],\n",
      "           [ 0.,  0.,  0.,  0.]])\n",
      "\n"
     ]
    }
   ],
   "source": [
    "help(sparse.diags)"
   ]
  },
  {
   "cell_type": "code",
   "execution_count": 79,
   "id": "6df18b02-ac35-4290-8799-350de32942a2",
   "metadata": {},
   "outputs": [
    {
     "data": {
      "text/plain": [
       "array([[-2.,  0.,  1., ...,  0.,  0.,  0.],\n",
       "       [ 1., -2.,  0., ...,  0.,  0.,  0.],\n",
       "       [ 0.,  1., -2., ...,  0.,  0.,  0.],\n",
       "       ...,\n",
       "       [ 0.,  0.,  0., ..., -2.,  0.,  1.],\n",
       "       [ 0.,  0.,  0., ...,  1., -2.,  0.],\n",
       "       [ 0.,  0.,  0., ...,  0.,  1., -2.]])"
      ]
     },
     "execution_count": 79,
     "metadata": {},
     "output_type": "execute_result"
    }
   ],
   "source": [
    "A = sparse.diags([1, -2, 1], [-1, 0, 2], shape=(1000, 1000))\n",
    "b = np.ones(1000)\n",
    "A.toarray()"
   ]
  },
  {
   "cell_type": "code",
   "execution_count": 80,
   "id": "a5cd73d3-0683-4639-9bb5-1394ad10250a",
   "metadata": {},
   "outputs": [
    {
     "name": "stderr",
     "output_type": "stream",
     "text": [
      "/tmp/ipykernel_7389/3466378544.py:2: SparseEfficiencyWarning: spsolve requires A be CSC or CSR matrix format\n",
      "  x = sparse.linalg.spsolve(A, b)\n"
     ]
    },
    {
     "data": {
      "text/plain": [
       "array([-381.4938753 , -616.88809072, -761.98775059, -851.28230614,\n",
       "       -906.08741046, -939.57686168, -959.89251479, -972.0663129 ,\n",
       "       -979.2081679 , -983.24011102, -985.35002289, -986.27205413,\n",
       "       -986.45993477, -986.19408538, -985.6478154 , -984.92823598,\n",
       "       -984.10154543, -983.20865656, -982.27485488, -981.31576769,\n",
       "       -980.3410532 , -979.3566805 , -978.36633871, -977.37230781,\n",
       "       -976.37599691, -975.37827691, -974.37968602, -973.3805569 ,\n",
       "       -972.38109513, -971.38142778, -970.38163336, -969.38176042,\n",
       "       -968.38183895, -967.38188748, -966.38191748, -965.38193602,\n",
       "       -964.38194747, -963.38195455, -962.38195893, -961.38196164,\n",
       "       -960.38196331, -959.38196434, -958.38196498, -957.38196537,\n",
       "       -956.38196562, -955.38196577, -954.38196586, -953.38196592,\n",
       "       -952.38196595, -951.38196598, -950.38196599, -949.381966  ,\n",
       "       -948.381966  , -947.38196601, -946.38196601, -945.38196601,\n",
       "       -944.38196601, -943.38196601, -942.38196601, -941.38196601,\n",
       "       -940.38196601, -939.38196601, -938.38196601, -937.38196601,\n",
       "       -936.38196601, -935.38196601, -934.38196601, -933.38196601,\n",
       "       -932.38196601, -931.38196601, -930.38196601, -929.38196601,\n",
       "       -928.38196601, -927.38196601, -926.38196601, -925.38196601,\n",
       "       -924.38196601, -923.38196601, -922.38196601, -921.38196601,\n",
       "       -920.38196601, -919.38196601, -918.38196601, -917.38196601,\n",
       "       -916.38196601, -915.38196601, -914.38196601, -913.38196601,\n",
       "       -912.38196601, -911.38196601, -910.38196601, -909.38196601,\n",
       "       -908.38196601, -907.38196601, -906.38196601, -905.38196601,\n",
       "       -904.38196601, -903.38196601, -902.38196601, -901.38196601,\n",
       "       -900.38196601, -899.38196601, -898.38196601, -897.38196601,\n",
       "       -896.38196601, -895.38196601, -894.38196601, -893.38196601,\n",
       "       -892.38196601, -891.38196601, -890.38196601, -889.38196601,\n",
       "       -888.38196601, -887.38196601, -886.38196601, -885.38196601,\n",
       "       -884.38196601, -883.38196601, -882.38196601, -881.38196601,\n",
       "       -880.38196601, -879.38196601, -878.38196601, -877.38196601,\n",
       "       -876.38196601, -875.38196601, -874.38196601, -873.38196601,\n",
       "       -872.38196601, -871.38196601, -870.38196601, -869.38196601,\n",
       "       -868.38196601, -867.38196601, -866.38196601, -865.38196601,\n",
       "       -864.38196601, -863.38196601, -862.38196601, -861.38196601,\n",
       "       -860.38196601, -859.38196601, -858.38196601, -857.38196601,\n",
       "       -856.38196601, -855.38196601, -854.38196601, -853.38196601,\n",
       "       -852.38196601, -851.38196601, -850.38196601, -849.38196601,\n",
       "       -848.38196601, -847.38196601, -846.38196601, -845.38196601,\n",
       "       -844.38196601, -843.38196601, -842.38196601, -841.38196601,\n",
       "       -840.38196601, -839.38196601, -838.38196601, -837.38196601,\n",
       "       -836.38196601, -835.38196601, -834.38196601, -833.38196601,\n",
       "       -832.38196601, -831.38196601, -830.38196601, -829.38196601,\n",
       "       -828.38196601, -827.38196601, -826.38196601, -825.38196601,\n",
       "       -824.38196601, -823.38196601, -822.38196601, -821.38196601,\n",
       "       -820.38196601, -819.38196601, -818.38196601, -817.38196601,\n",
       "       -816.38196601, -815.38196601, -814.38196601, -813.38196601,\n",
       "       -812.38196601, -811.38196601, -810.38196601, -809.38196601,\n",
       "       -808.38196601, -807.38196601, -806.38196601, -805.38196601,\n",
       "       -804.38196601, -803.38196601, -802.38196601, -801.38196601,\n",
       "       -800.38196601, -799.38196601, -798.38196601, -797.38196601,\n",
       "       -796.38196601, -795.38196601, -794.38196601, -793.38196601,\n",
       "       -792.38196601, -791.38196601, -790.38196601, -789.38196601,\n",
       "       -788.38196601, -787.38196601, -786.38196601, -785.38196601,\n",
       "       -784.38196601, -783.38196601, -782.38196601, -781.38196601,\n",
       "       -780.38196601, -779.38196601, -778.38196601, -777.38196601,\n",
       "       -776.38196601, -775.38196601, -774.38196601, -773.38196601,\n",
       "       -772.38196601, -771.38196601, -770.38196601, -769.38196601,\n",
       "       -768.38196601, -767.38196601, -766.38196601, -765.38196601,\n",
       "       -764.38196601, -763.38196601, -762.38196601, -761.38196601,\n",
       "       -760.38196601, -759.38196601, -758.38196601, -757.38196601,\n",
       "       -756.38196601, -755.38196601, -754.38196601, -753.38196601,\n",
       "       -752.38196601, -751.38196601, -750.38196601, -749.38196601,\n",
       "       -748.38196601, -747.38196601, -746.38196601, -745.38196601,\n",
       "       -744.38196601, -743.38196601, -742.38196601, -741.38196601,\n",
       "       -740.38196601, -739.38196601, -738.38196601, -737.38196601,\n",
       "       -736.38196601, -735.38196601, -734.38196601, -733.38196601,\n",
       "       -732.38196601, -731.38196601, -730.38196601, -729.38196601,\n",
       "       -728.38196601, -727.38196601, -726.38196601, -725.38196601,\n",
       "       -724.38196601, -723.38196601, -722.38196601, -721.38196601,\n",
       "       -720.38196601, -719.38196601, -718.38196601, -717.38196601,\n",
       "       -716.38196601, -715.38196601, -714.38196601, -713.38196601,\n",
       "       -712.38196601, -711.38196601, -710.38196601, -709.38196601,\n",
       "       -708.38196601, -707.38196601, -706.38196601, -705.38196601,\n",
       "       -704.38196601, -703.38196601, -702.38196601, -701.38196601,\n",
       "       -700.38196601, -699.38196601, -698.38196601, -697.38196601,\n",
       "       -696.38196601, -695.38196601, -694.38196601, -693.38196601,\n",
       "       -692.38196601, -691.38196601, -690.38196601, -689.38196601,\n",
       "       -688.38196601, -687.38196601, -686.38196601, -685.38196601,\n",
       "       -684.38196601, -683.38196601, -682.38196601, -681.38196601,\n",
       "       -680.38196601, -679.38196601, -678.38196601, -677.38196601,\n",
       "       -676.38196601, -675.38196601, -674.38196601, -673.38196601,\n",
       "       -672.38196601, -671.38196601, -670.38196601, -669.38196601,\n",
       "       -668.38196601, -667.38196601, -666.38196601, -665.38196601,\n",
       "       -664.38196601, -663.38196601, -662.38196601, -661.38196601,\n",
       "       -660.38196601, -659.38196601, -658.38196601, -657.38196601,\n",
       "       -656.38196601, -655.38196601, -654.38196601, -653.38196601,\n",
       "       -652.38196601, -651.38196601, -650.38196601, -649.38196601,\n",
       "       -648.38196601, -647.38196601, -646.38196601, -645.38196601,\n",
       "       -644.38196601, -643.38196601, -642.38196601, -641.38196601,\n",
       "       -640.38196601, -639.38196601, -638.38196601, -637.38196601,\n",
       "       -636.38196601, -635.38196601, -634.38196601, -633.38196601,\n",
       "       -632.38196601, -631.38196601, -630.38196601, -629.38196601,\n",
       "       -628.38196601, -627.38196601, -626.38196601, -625.38196601,\n",
       "       -624.38196601, -623.38196601, -622.38196601, -621.38196601,\n",
       "       -620.38196601, -619.38196601, -618.38196601, -617.38196601,\n",
       "       -616.38196601, -615.38196601, -614.38196601, -613.38196601,\n",
       "       -612.38196601, -611.38196601, -610.38196601, -609.38196601,\n",
       "       -608.38196601, -607.38196601, -606.38196601, -605.38196601,\n",
       "       -604.38196601, -603.38196601, -602.38196601, -601.38196601,\n",
       "       -600.38196601, -599.38196601, -598.38196601, -597.38196601,\n",
       "       -596.38196601, -595.38196601, -594.38196601, -593.38196601,\n",
       "       -592.38196601, -591.38196601, -590.38196601, -589.38196601,\n",
       "       -588.38196601, -587.38196601, -586.38196601, -585.38196601,\n",
       "       -584.38196601, -583.38196601, -582.38196601, -581.38196601,\n",
       "       -580.38196601, -579.38196601, -578.38196601, -577.38196601,\n",
       "       -576.38196601, -575.38196601, -574.38196601, -573.38196601,\n",
       "       -572.38196601, -571.38196601, -570.38196601, -569.38196601,\n",
       "       -568.38196601, -567.38196601, -566.38196601, -565.38196601,\n",
       "       -564.38196601, -563.38196601, -562.38196601, -561.38196601,\n",
       "       -560.38196601, -559.38196601, -558.38196601, -557.38196601,\n",
       "       -556.38196601, -555.38196601, -554.38196601, -553.38196601,\n",
       "       -552.38196601, -551.38196601, -550.38196601, -549.38196601,\n",
       "       -548.38196601, -547.38196601, -546.38196601, -545.38196601,\n",
       "       -544.38196601, -543.38196601, -542.38196601, -541.38196601,\n",
       "       -540.38196601, -539.38196601, -538.38196601, -537.38196601,\n",
       "       -536.38196601, -535.38196601, -534.38196601, -533.38196601,\n",
       "       -532.38196601, -531.38196601, -530.38196601, -529.38196601,\n",
       "       -528.38196601, -527.38196601, -526.38196601, -525.38196601,\n",
       "       -524.38196601, -523.38196601, -522.38196601, -521.38196601,\n",
       "       -520.38196601, -519.38196601, -518.38196601, -517.38196601,\n",
       "       -516.38196601, -515.38196601, -514.38196601, -513.38196601,\n",
       "       -512.38196601, -511.38196601, -510.38196601, -509.38196601,\n",
       "       -508.38196601, -507.38196601, -506.38196601, -505.38196601,\n",
       "       -504.38196601, -503.38196601, -502.38196601, -501.38196601,\n",
       "       -500.38196601, -499.38196601, -498.38196601, -497.38196601,\n",
       "       -496.38196601, -495.38196601, -494.38196601, -493.38196601,\n",
       "       -492.38196601, -491.38196601, -490.38196601, -489.38196601,\n",
       "       -488.38196601, -487.38196601, -486.38196601, -485.38196601,\n",
       "       -484.38196601, -483.38196601, -482.38196601, -481.38196601,\n",
       "       -480.38196601, -479.38196601, -478.38196601, -477.38196601,\n",
       "       -476.38196601, -475.38196601, -474.38196601, -473.38196601,\n",
       "       -472.38196601, -471.38196601, -470.38196601, -469.38196601,\n",
       "       -468.38196601, -467.38196601, -466.38196601, -465.38196601,\n",
       "       -464.38196601, -463.38196601, -462.38196601, -461.38196601,\n",
       "       -460.38196601, -459.38196601, -458.38196601, -457.38196601,\n",
       "       -456.38196601, -455.38196601, -454.38196601, -453.38196601,\n",
       "       -452.38196601, -451.38196601, -450.38196601, -449.38196601,\n",
       "       -448.38196601, -447.38196601, -446.38196601, -445.38196601,\n",
       "       -444.38196601, -443.38196601, -442.38196601, -441.38196601,\n",
       "       -440.38196601, -439.38196601, -438.38196601, -437.38196601,\n",
       "       -436.38196601, -435.38196601, -434.38196601, -433.38196601,\n",
       "       -432.38196601, -431.38196601, -430.38196601, -429.38196601,\n",
       "       -428.38196601, -427.38196601, -426.38196601, -425.38196601,\n",
       "       -424.38196601, -423.38196601, -422.38196601, -421.38196601,\n",
       "       -420.38196601, -419.38196601, -418.38196601, -417.38196601,\n",
       "       -416.38196601, -415.38196601, -414.38196601, -413.38196601,\n",
       "       -412.38196601, -411.38196601, -410.38196601, -409.38196601,\n",
       "       -408.38196601, -407.38196601, -406.38196601, -405.38196601,\n",
       "       -404.38196601, -403.38196601, -402.38196601, -401.38196601,\n",
       "       -400.38196601, -399.38196601, -398.38196601, -397.38196601,\n",
       "       -396.38196601, -395.38196601, -394.38196601, -393.38196601,\n",
       "       -392.38196601, -391.38196601, -390.38196601, -389.38196601,\n",
       "       -388.38196601, -387.38196601, -386.38196601, -385.38196601,\n",
       "       -384.38196601, -383.38196601, -382.38196601, -381.38196601,\n",
       "       -380.38196601, -379.38196601, -378.38196601, -377.38196601,\n",
       "       -376.38196601, -375.38196601, -374.38196601, -373.38196601,\n",
       "       -372.38196601, -371.38196601, -370.38196601, -369.38196601,\n",
       "       -368.38196601, -367.38196601, -366.38196601, -365.38196601,\n",
       "       -364.38196601, -363.38196601, -362.38196601, -361.38196601,\n",
       "       -360.38196601, -359.38196601, -358.38196601, -357.38196601,\n",
       "       -356.38196601, -355.38196601, -354.38196601, -353.38196601,\n",
       "       -352.38196601, -351.38196601, -350.38196601, -349.38196601,\n",
       "       -348.38196601, -347.38196601, -346.38196601, -345.38196601,\n",
       "       -344.38196601, -343.38196601, -342.38196601, -341.38196601,\n",
       "       -340.38196601, -339.38196601, -338.38196601, -337.38196601,\n",
       "       -336.38196601, -335.38196601, -334.38196601, -333.38196601,\n",
       "       -332.38196601, -331.38196601, -330.38196601, -329.38196601,\n",
       "       -328.38196601, -327.38196601, -326.38196601, -325.38196601,\n",
       "       -324.38196601, -323.38196601, -322.38196601, -321.38196601,\n",
       "       -320.38196601, -319.38196601, -318.38196601, -317.38196601,\n",
       "       -316.38196601, -315.38196601, -314.38196601, -313.38196601,\n",
       "       -312.38196601, -311.38196601, -310.38196601, -309.38196601,\n",
       "       -308.38196601, -307.38196601, -306.38196601, -305.38196601,\n",
       "       -304.38196601, -303.38196601, -302.38196601, -301.38196601,\n",
       "       -300.38196601, -299.38196601, -298.38196601, -297.38196601,\n",
       "       -296.38196601, -295.38196601, -294.38196601, -293.38196601,\n",
       "       -292.38196601, -291.38196601, -290.38196601, -289.38196601,\n",
       "       -288.38196601, -287.38196601, -286.38196601, -285.38196601,\n",
       "       -284.38196601, -283.38196601, -282.38196601, -281.38196601,\n",
       "       -280.38196601, -279.38196601, -278.38196601, -277.38196601,\n",
       "       -276.38196601, -275.38196601, -274.38196601, -273.38196601,\n",
       "       -272.38196601, -271.38196601, -270.38196601, -269.38196601,\n",
       "       -268.38196601, -267.38196601, -266.38196601, -265.38196601,\n",
       "       -264.38196601, -263.38196601, -262.38196601, -261.38196601,\n",
       "       -260.38196601, -259.38196601, -258.38196601, -257.38196601,\n",
       "       -256.38196601, -255.38196601, -254.38196601, -253.38196601,\n",
       "       -252.38196601, -251.38196601, -250.38196601, -249.38196601,\n",
       "       -248.38196601, -247.38196601, -246.38196601, -245.38196601,\n",
       "       -244.38196601, -243.38196601, -242.38196601, -241.38196601,\n",
       "       -240.38196601, -239.38196601, -238.38196601, -237.38196601,\n",
       "       -236.38196601, -235.38196601, -234.38196601, -233.38196601,\n",
       "       -232.38196601, -231.38196601, -230.38196601, -229.38196601,\n",
       "       -228.38196601, -227.38196601, -226.38196601, -225.38196601,\n",
       "       -224.38196601, -223.38196601, -222.38196601, -221.38196601,\n",
       "       -220.38196601, -219.38196601, -218.38196601, -217.38196601,\n",
       "       -216.38196601, -215.38196601, -214.38196601, -213.38196601,\n",
       "       -212.38196601, -211.38196601, -210.38196601, -209.38196601,\n",
       "       -208.38196601, -207.38196601, -206.38196601, -205.38196601,\n",
       "       -204.38196601, -203.38196601, -202.38196601, -201.38196601,\n",
       "       -200.38196601, -199.38196601, -198.38196601, -197.38196601,\n",
       "       -196.38196601, -195.38196601, -194.38196601, -193.38196601,\n",
       "       -192.38196601, -191.38196601, -190.38196601, -189.38196601,\n",
       "       -188.38196601, -187.38196601, -186.38196601, -185.38196601,\n",
       "       -184.38196601, -183.38196601, -182.38196601, -181.38196601,\n",
       "       -180.38196601, -179.38196601, -178.38196601, -177.38196601,\n",
       "       -176.38196601, -175.38196601, -174.38196601, -173.38196601,\n",
       "       -172.38196601, -171.38196601, -170.38196601, -169.38196601,\n",
       "       -168.38196601, -167.38196601, -166.38196601, -165.38196601,\n",
       "       -164.38196601, -163.38196601, -162.38196601, -161.38196601,\n",
       "       -160.38196601, -159.38196601, -158.38196601, -157.38196601,\n",
       "       -156.38196601, -155.38196601, -154.38196601, -153.38196601,\n",
       "       -152.38196601, -151.38196601, -150.38196601, -149.38196601,\n",
       "       -148.38196601, -147.38196601, -146.38196601, -145.38196601,\n",
       "       -144.38196601, -143.38196601, -142.38196601, -141.38196601,\n",
       "       -140.38196601, -139.38196601, -138.38196601, -137.38196601,\n",
       "       -136.38196601, -135.38196601, -134.38196601, -133.38196601,\n",
       "       -132.38196601, -131.38196601, -130.38196601, -129.38196601,\n",
       "       -128.38196601, -127.38196601, -126.38196601, -125.38196601,\n",
       "       -124.38196601, -123.38196601, -122.38196601, -121.38196601,\n",
       "       -120.38196601, -119.38196601, -118.38196601, -117.38196601,\n",
       "       -116.38196601, -115.38196601, -114.38196601, -113.38196601,\n",
       "       -112.38196601, -111.38196601, -110.38196601, -109.38196601,\n",
       "       -108.38196601, -107.38196601, -106.38196601, -105.38196601,\n",
       "       -104.38196601, -103.38196601, -102.38196601, -101.38196601,\n",
       "       -100.38196601,  -99.38196601,  -98.38196601,  -97.38196601,\n",
       "        -96.38196601,  -95.38196601,  -94.38196601,  -93.38196601,\n",
       "        -92.38196601,  -91.38196601,  -90.38196601,  -89.38196601,\n",
       "        -88.38196601,  -87.38196601,  -86.38196601,  -85.38196601,\n",
       "        -84.38196601,  -83.38196601,  -82.38196601,  -81.38196601,\n",
       "        -80.38196601,  -79.38196601,  -78.38196601,  -77.38196601,\n",
       "        -76.38196601,  -75.38196601,  -74.38196601,  -73.38196601,\n",
       "        -72.38196601,  -71.38196601,  -70.38196601,  -69.38196601,\n",
       "        -68.38196601,  -67.38196601,  -66.38196601,  -65.38196601,\n",
       "        -64.38196601,  -63.38196601,  -62.38196601,  -61.38196601,\n",
       "        -60.38196601,  -59.38196601,  -58.38196601,  -57.38196601,\n",
       "        -56.38196601,  -55.38196601,  -54.38196601,  -53.38196601,\n",
       "        -52.38196601,  -51.38196601,  -50.38196601,  -49.38196601,\n",
       "        -48.38196601,  -47.38196601,  -46.38196601,  -45.38196601,\n",
       "        -44.38196601,  -43.38196601,  -42.38196601,  -41.38196601,\n",
       "        -40.38196601,  -39.38196601,  -38.38196601,  -37.38196602,\n",
       "        -36.381966  ,  -35.38196603,  -34.38196598,  -33.38196606,\n",
       "        -32.38196593,  -31.38196614,  -30.38196581,  -29.38196634,\n",
       "        -28.38196547,  -27.38196688,  -26.3819646 ,  -25.38196829,\n",
       "        -24.38196233,  -23.38197197,  -22.38195637,  -21.38198162,\n",
       "        -20.38194076,  -19.38200687,  -18.3818999 ,  -17.38207297,\n",
       "        -16.38179294,  -15.38224604,  -14.38151291,  -13.38269915,\n",
       "        -12.38077977,  -11.38388539,  -10.37886039,   -9.38699101,\n",
       "         -8.37383539,   -7.39512163,   -6.36067977,   -5.41640786,\n",
       "         -4.32623792,   -3.47213595,   -2.23606798,   -1.61803399])"
      ]
     },
     "execution_count": 80,
     "metadata": {},
     "output_type": "execute_result"
    }
   ],
   "source": [
    "# Solve the system Ax = b\n",
    "x = sparse.linalg.spsolve(A, b)\n",
    "x"
   ]
  },
  {
   "cell_type": "code",
   "execution_count": 82,
   "id": "eb998edc-2f66-41c1-b1d7-d0531dfceca2",
   "metadata": {},
   "outputs": [
    {
     "data": {
      "text/plain": [
       "array([1., 1., 1., 1., 1., 1., 1., 1., 1., 1., 1., 1., 1., 1., 1., 1., 1.,\n",
       "       1., 1., 1., 1., 1., 1., 1., 1., 1., 1., 1., 1., 1., 1., 1., 1., 1.,\n",
       "       1., 1., 1., 1., 1., 1., 1., 1., 1., 1., 1., 1., 1., 1., 1., 1., 1.,\n",
       "       1., 1., 1., 1., 1., 1., 1., 1., 1., 1., 1., 1., 1., 1., 1., 1., 1.,\n",
       "       1., 1., 1., 1., 1., 1., 1., 1., 1., 1., 1., 1., 1., 1., 1., 1., 1.,\n",
       "       1., 1., 1., 1., 1., 1., 1., 1., 1., 1., 1., 1., 1., 1., 1., 1., 1.,\n",
       "       1., 1., 1., 1., 1., 1., 1., 1., 1., 1., 1., 1., 1., 1., 1., 1., 1.,\n",
       "       1., 1., 1., 1., 1., 1., 1., 1., 1., 1., 1., 1., 1., 1., 1., 1., 1.,\n",
       "       1., 1., 1., 1., 1., 1., 1., 1., 1., 1., 1., 1., 1., 1., 1., 1., 1.,\n",
       "       1., 1., 1., 1., 1., 1., 1., 1., 1., 1., 1., 1., 1., 1., 1., 1., 1.,\n",
       "       1., 1., 1., 1., 1., 1., 1., 1., 1., 1., 1., 1., 1., 1., 1., 1., 1.,\n",
       "       1., 1., 1., 1., 1., 1., 1., 1., 1., 1., 1., 1., 1., 1., 1., 1., 1.,\n",
       "       1., 1., 1., 1., 1., 1., 1., 1., 1., 1., 1., 1., 1., 1., 1., 1., 1.,\n",
       "       1., 1., 1., 1., 1., 1., 1., 1., 1., 1., 1., 1., 1., 1., 1., 1., 1.,\n",
       "       1., 1., 1., 1., 1., 1., 1., 1., 1., 1., 1., 1., 1., 1., 1., 1., 1.,\n",
       "       1., 1., 1., 1., 1., 1., 1., 1., 1., 1., 1., 1., 1., 1., 1., 1., 1.,\n",
       "       1., 1., 1., 1., 1., 1., 1., 1., 1., 1., 1., 1., 1., 1., 1., 1., 1.,\n",
       "       1., 1., 1., 1., 1., 1., 1., 1., 1., 1., 1., 1., 1., 1., 1., 1., 1.,\n",
       "       1., 1., 1., 1., 1., 1., 1., 1., 1., 1., 1., 1., 1., 1., 1., 1., 1.,\n",
       "       1., 1., 1., 1., 1., 1., 1., 1., 1., 1., 1., 1., 1., 1., 1., 1., 1.,\n",
       "       1., 1., 1., 1., 1., 1., 1., 1., 1., 1., 1., 1., 1., 1., 1., 1., 1.,\n",
       "       1., 1., 1., 1., 1., 1., 1., 1., 1., 1., 1., 1., 1., 1., 1., 1., 1.,\n",
       "       1., 1., 1., 1., 1., 1., 1., 1., 1., 1., 1., 1., 1., 1., 1., 1., 1.,\n",
       "       1., 1., 1., 1., 1., 1., 1., 1., 1., 1., 1., 1., 1., 1., 1., 1., 1.,\n",
       "       1., 1., 1., 1., 1., 1., 1., 1., 1., 1., 1., 1., 1., 1., 1., 1., 1.,\n",
       "       1., 1., 1., 1., 1., 1., 1., 1., 1., 1., 1., 1., 1., 1., 1., 1., 1.,\n",
       "       1., 1., 1., 1., 1., 1., 1., 1., 1., 1., 1., 1., 1., 1., 1., 1., 1.,\n",
       "       1., 1., 1., 1., 1., 1., 1., 1., 1., 1., 1., 1., 1., 1., 1., 1., 1.,\n",
       "       1., 1., 1., 1., 1., 1., 1., 1., 1., 1., 1., 1., 1., 1., 1., 1., 1.,\n",
       "       1., 1., 1., 1., 1., 1., 1., 1., 1., 1., 1., 1., 1., 1., 1., 1., 1.,\n",
       "       1., 1., 1., 1., 1., 1., 1., 1., 1., 1., 1., 1., 1., 1., 1., 1., 1.,\n",
       "       1., 1., 1., 1., 1., 1., 1., 1., 1., 1., 1., 1., 1., 1., 1., 1., 1.,\n",
       "       1., 1., 1., 1., 1., 1., 1., 1., 1., 1., 1., 1., 1., 1., 1., 1., 1.,\n",
       "       1., 1., 1., 1., 1., 1., 1., 1., 1., 1., 1., 1., 1., 1., 1., 1., 1.,\n",
       "       1., 1., 1., 1., 1., 1., 1., 1., 1., 1., 1., 1., 1., 1., 1., 1., 1.,\n",
       "       1., 1., 1., 1., 1., 1., 1., 1., 1., 1., 1., 1., 1., 1., 1., 1., 1.,\n",
       "       1., 1., 1., 1., 1., 1., 1., 1., 1., 1., 1., 1., 1., 1., 1., 1., 1.,\n",
       "       1., 1., 1., 1., 1., 1., 1., 1., 1., 1., 1., 1., 1., 1., 1., 1., 1.,\n",
       "       1., 1., 1., 1., 1., 1., 1., 1., 1., 1., 1., 1., 1., 1., 1., 1., 1.,\n",
       "       1., 1., 1., 1., 1., 1., 1., 1., 1., 1., 1., 1., 1., 1., 1., 1., 1.,\n",
       "       1., 1., 1., 1., 1., 1., 1., 1., 1., 1., 1., 1., 1., 1., 1., 1., 1.,\n",
       "       1., 1., 1., 1., 1., 1., 1., 1., 1., 1., 1., 1., 1., 1., 1., 1., 1.,\n",
       "       1., 1., 1., 1., 1., 1., 1., 1., 1., 1., 1., 1., 1., 1., 1., 1., 1.,\n",
       "       1., 1., 1., 1., 1., 1., 1., 1., 1., 1., 1., 1., 1., 1., 1., 1., 1.,\n",
       "       1., 1., 1., 1., 1., 1., 1., 1., 1., 1., 1., 1., 1., 1., 1., 1., 1.,\n",
       "       1., 1., 1., 1., 1., 1., 1., 1., 1., 1., 1., 1., 1., 1., 1., 1., 1.,\n",
       "       1., 1., 1., 1., 1., 1., 1., 1., 1., 1., 1., 1., 1., 1., 1., 1., 1.,\n",
       "       1., 1., 1., 1., 1., 1., 1., 1., 1., 1., 1., 1., 1., 1., 1., 1., 1.,\n",
       "       1., 1., 1., 1., 1., 1., 1., 1., 1., 1., 1., 1., 1., 1., 1., 1., 1.,\n",
       "       1., 1., 1., 1., 1., 1., 1., 1., 1., 1., 1., 1., 1., 1., 1., 1., 1.,\n",
       "       1., 1., 1., 1., 1., 1., 1., 1., 1., 1., 1., 1., 1., 1., 1., 1., 1.,\n",
       "       1., 1., 1., 1., 1., 1., 1., 1., 1., 1., 1., 1., 1., 1., 1., 1., 1.,\n",
       "       1., 1., 1., 1., 1., 1., 1., 1., 1., 1., 1., 1., 1., 1., 1., 1., 1.,\n",
       "       1., 1., 1., 1., 1., 1., 1., 1., 1., 1., 1., 1., 1., 1., 1., 1., 1.,\n",
       "       1., 1., 1., 1., 1., 1., 1., 1., 1., 1., 1., 1., 1., 1., 1., 1., 1.,\n",
       "       1., 1., 1., 1., 1., 1., 1., 1., 1., 1., 1., 1., 1., 1., 1., 1., 1.,\n",
       "       1., 1., 1., 1., 1., 1., 1., 1., 1., 1., 1., 1., 1., 1., 1., 1., 1.,\n",
       "       1., 1., 1., 1., 1., 1., 1., 1., 1., 1., 1., 1., 1., 1., 1., 1., 1.,\n",
       "       1., 1., 1., 1., 1., 1., 1., 1., 1., 1., 1., 1., 1., 1.])"
      ]
     },
     "execution_count": 82,
     "metadata": {},
     "output_type": "execute_result"
    }
   ],
   "source": [
    "A @ x"
   ]
  },
  {
   "cell_type": "markdown",
   "id": "9b816d79-7d53-48f3-8b34-888ea1e2cf89",
   "metadata": {},
   "source": [
    "### Spatial Data Analysis with `scipy.spatial`\n",
    "#### Distance Computation"
   ]
  },
  {
   "cell_type": "code",
   "execution_count": 83,
   "id": "437ab593-7e46-4547-90ea-1830dd22b560",
   "metadata": {},
   "outputs": [
    {
     "name": "stdout",
     "output_type": "stream",
     "text": [
      "Euclidean Distance: 5.0\n",
      "Manhattan Distance: 7\n"
     ]
    }
   ],
   "source": [
    "from scipy.spatial import distance\n",
    "\n",
    "# Define two points in 2D space\n",
    "point1 = [1, 2]\n",
    "point2 = [4, 6]\n",
    "\n",
    "# Compute Euclidean distance\n",
    "euclidean_dist = distance.euclidean(point1, point2)\n",
    "print(\"Euclidean Distance:\", euclidean_dist)\n",
    "\n",
    "# Compute Manhattan distance\n",
    "manhattan_dist = distance.cityblock(point1, point2)\n",
    "print(\"Manhattan Distance:\", manhattan_dist)"
   ]
  },
  {
   "cell_type": "markdown",
   "id": "40f9a206-2988-4b63-8f15-00f8a2303223",
   "metadata": {},
   "source": [
    "#### Pairwise distances\n",
    "We can compute the pairwise distances between points in a dataset, which is useful for clustering or nearest-neighbor searches."
   ]
  },
  {
   "cell_type": "code",
   "execution_count": 84,
   "id": "b1ee5a99-03af-4217-a6e4-c990cfe8c502",
   "metadata": {},
   "outputs": [
    {
     "name": "stdout",
     "output_type": "stream",
     "text": [
      "Pairwise distances: [2.82842712 5.65685425 2.82842712]\n"
     ]
    }
   ],
   "source": [
    "# Define a set of points\n",
    "points = np.array([[1, 2], [3, 4], [5, 6]])\n",
    "\n",
    "# Compute the pairwise distances (Euclidean)\n",
    "pairwise_distances = distance.pdist(points, metric='euclidean')\n",
    "print(\"Pairwise distances:\", pairwise_distances)"
   ]
  },
  {
   "cell_type": "markdown",
   "id": "68ec42b2-1793-46ae-8327-9d8065cadd1b",
   "metadata": {},
   "source": [
    "#### KD-Trees\n",
    "A KD-tree (k-dimensional tree) is a data structure that partitions points into space for efficient querying, especially for nearest-neighbor searches. It's highly efficient when dealing with large datasets in higher-dimensional spaces."
   ]
  },
  {
   "cell_type": "code",
   "execution_count": 85,
   "id": "e900be3d-0398-4e4f-afb0-3e4680f0559a",
   "metadata": {},
   "outputs": [
    {
     "name": "stdout",
     "output_type": "stream",
     "text": [
      "Nearest neighbor to (5,5): [4 6], Distance: 1.4142135623730951\n"
     ]
    }
   ],
   "source": [
    "from scipy.spatial import KDTree\n",
    "\n",
    "# Define a set of points in 2D space\n",
    "points = np.array([[1, 2], [3, 5], [4, 6], [7, 8]])\n",
    "\n",
    "# Construct the KDTree\n",
    "tree = KDTree(points)\n",
    "\n",
    "# Query the nearest neighbor to the point (5, 5)\n",
    "dist, idx = tree.query([5, 5])\n",
    "print(f\"Nearest neighbor to (5,5): {points[idx]}, Distance: {dist}\")"
   ]
  },
  {
   "cell_type": "markdown",
   "id": "c71786ae-a9cc-459e-866e-f145ec453fe7",
   "metadata": {},
   "source": [
    "We can query the KD-tree for the nearest neighbor, all points within a certain radius, or k-nearest neighbors."
   ]
  },
  {
   "cell_type": "code",
   "execution_count": 87,
   "id": "71dfc758-f3ea-4338-8c10-ab0c9b731a18",
   "metadata": {},
   "outputs": [
    {
     "name": "stdout",
     "output_type": "stream",
     "text": [
      "2 nearest neighbors: [[4 6]\n",
      " [3 5]], Distances: [1.41421356 2.        ]\n",
      "Points within radius 3: [[3 5]\n",
      " [4 6]\n",
      " [7 8]]\n"
     ]
    }
   ],
   "source": [
    "# Query the two nearest neighbors to the point (5, 5)\n",
    "distances, indices = tree.query([5, 5], k=2)\n",
    "print(f\"2 nearest neighbors: {points[indices]}, Distances: {distances}\")\n",
    "\n",
    "# Query all points within a radius of 3 units from (5, 5)\n",
    "indices = tree.query_ball_point([5, 5], r=4)\n",
    "print(f\"Points within radius 3: {points[indices]}\")"
   ]
  },
  {
   "cell_type": "markdown",
   "id": "90927398-e499-41e5-a3af-ac8d1ab80b0b",
   "metadata": {},
   "source": [
    "#### Convex Hull\n",
    "A convex hull is the smallest convex shape that encloses a set of points. This is useful in computer graphics, collision detection, and clustering."
   ]
  },
  {
   "cell_type": "code",
   "execution_count": 88,
   "id": "2d362b06-1db6-47d2-9394-6f1c49a87bc1",
   "metadata": {},
   "outputs": [
    {
     "data": {
      "image/png": "[encoded data removed]",
      "text/plain": [
       "<Figure size 640x480 with 1 Axes>"
      ]
     },
     "metadata": {},
     "output_type": "display_data"
    }
   ],
   "source": [
    "from scipy.spatial import ConvexHull\n",
    "import matplotlib.pyplot as plt\n",
    "\n",
    "# Define a set of 2D points\n",
    "points = np.array([[1, 1], [2, 5], [3, 3], [5, 3], [4, 6], [7, 2]])\n",
    "\n",
    "# Compute the convex hull\n",
    "hull = ConvexHull(points)\n",
    "\n",
    "# Plotting the convex hull\n",
    "plt.plot(points[:,0], points[:,1], 'o')\n",
    "for simplex in hull.simplices:\n",
    "    plt.plot(points[simplex, 0], points[simplex, 1], 'k-')\n",
    "plt.show()"
   ]
  },
  {
   "cell_type": "code",
   "execution_count": 90,
   "id": "e0861d75-cf8b-4414-9bbc-cf8dcf5485c4",
   "metadata": {},
   "outputs": [
    {
     "data": {
      "text/plain": [
       "17.44193613341567"
      ]
     },
     "execution_count": 90,
     "metadata": {},
     "output_type": "execute_result"
    }
   ],
   "source": [
    "hull.area"
   ]
  },
  {
   "cell_type": "markdown",
   "id": "82e72d09-ad68-4a63-8038-d3205ea51271",
   "metadata": {},
   "source": [
    "- Find the area and perimeter of the previous convex hull."
   ]
  },
  {
   "cell_type": "markdown",
   "id": "2bb607a2-f62a-4080-b9b9-28223e8d9ac6",
   "metadata": {},
   "source": [
    "#### Voronoi Diagrams\n",
    "A Voronoi diagram partitions a space into regions based on the distance to a specific set of points. Each region contains all the points closer to one input point than to any other."
   ]
  },
  {
   "cell_type": "code",
   "execution_count": 96,
   "id": "6a11ea5c-3b46-42b5-bb25-6ecae98237e1",
   "metadata": {},
   "outputs": [
    {
     "data": {
      "image/png": "[encoded data removed]",
      "text/plain": [
       "<Figure size 640x480 with 1 Axes>"
      ]
     },
     "metadata": {},
     "output_type": "display_data"
    }
   ],
   "source": [
    "from scipy.spatial import Voronoi, voronoi_plot_2d\n",
    "\n",
    "# Define a set of 2D points\n",
    "points = np.array([[1, 1], [2, 4], [3, 3], [5, 1], [5, 4]])\n",
    "\n",
    "# Compute the Voronoi diagram\n",
    "vor = Voronoi(points)\n",
    "\n",
    "# Plot the Voronoi diagram\n",
    "voronoi_plot_2d(vor)\n",
    "plt.show()"
   ]
  },
  {
   "cell_type": "code",
   "execution_count": 92,
   "id": "13359879-e7fc-4d22-b9ad-d8e614fcb1fc",
   "metadata": {},
   "outputs": [
    {
     "data": {
      "text/plain": [
       "array([[2, 3],\n",
       "       [2, 0],\n",
       "       [2, 1],\n",
       "       [2, 4],\n",
       "       [3, 0],\n",
       "       [3, 4],\n",
       "       [0, 1],\n",
       "       [1, 4]], dtype=int32)"
      ]
     },
     "execution_count": 92,
     "metadata": {},
     "output_type": "execute_result"
    }
   ],
   "source": [
    "vor.ridge_points"
   ]
  },
  {
   "cell_type": "markdown",
   "id": "a0aa7945-ba12-4ad1-ad26-f6063e0fc0f4",
   "metadata": {},
   "source": [
    "## Constants"
   ]
  },
  {
   "cell_type": "code",
   "execution_count": 97,
   "id": "93a592d6-4ffd-429b-88ab-edc2dd30b1e0",
   "metadata": {},
   "outputs": [],
   "source": [
    "from scipy import constants"
   ]
  },
  {
   "cell_type": "markdown",
   "id": "f5073048-9b1f-4ec8-a0ab-e00c1e8bcf70",
   "metadata": {},
   "source": [
    "## Statistics\n",
    "### Descriptive Statistics"
   ]
  },
  {
   "cell_type": "code",
   "execution_count": 99,
   "id": "b6d71ba8-e4f4-47aa-a1de-570766dd72b7",
   "metadata": {},
   "outputs": [
    {
     "name": "stdout",
     "output_type": "stream",
     "text": [
      "Mean: 0.04685424471950334, Variance: 1.0682216243264744, Skewness: 0.010842139233896066, Kurtosis: -0.23057854273532996\n"
     ]
    }
   ],
   "source": [
    "from scipy import stats\n",
    "import numpy as np\n",
    "\n",
    "data = np.random.randn(1000)\n",
    "\n",
    "# Calculate mean, variance, skewness, and kurtosis\n",
    "mean = np.mean(data)\n",
    "variance = np.var(data)\n",
    "skewness = stats.skew(data)\n",
    "kurt = stats.kurtosis(data)\n",
    "\n",
    "print(f\"Mean: {mean}, Variance: {variance}, Skewness: {skewness}, Kurtosis: {kurt}\")"
   ]
  },
  {
   "cell_type": "markdown",
   "id": "cc912ca0-f1f0-4bb5-8f93-b06897b41f26",
   "metadata": {},
   "source": [
    "#### Chi-Square Tests\n",
    "\n",
    "The chi-square test is used to test for independence between two categorical variables or for goodness-of-fit between observed and expected frequencies.\n",
    "\n",
    "- `chi2_contingency`: Used for testing independence in a contingency table.\n",
    "- `chisquare`: Used for a goodness-of-fit test."
   ]
  },
  {
   "cell_type": "code",
   "execution_count": 100,
   "id": "d4f9b9e0-4b92-41d0-a113-d3c0cdc001c3",
   "metadata": {},
   "outputs": [
    {
     "name": "stdout",
     "output_type": "stream",
     "text": [
      "Chi-square statistic: 0.27157465150403504, p-value: 0.873028283380073\n"
     ]
    }
   ],
   "source": [
    "from scipy.stats import chi2_contingency\n",
    "\n",
    "# Contingency table: rows represent one categorical variable, columns represent another\n",
    "contingency_table = np.array([[10, 20, 30], [6, 9, 17]])\n",
    "\n",
    "# Perform chi-square test\n",
    "chi2_stat, p_value, dof, expected = chi2_contingency(contingency_table)\n",
    "\n",
    "print(f\"Chi-square statistic: {chi2_stat}, p-value: {p_value}\")\n"
   ]
  },
  {
   "cell_type": "markdown",
   "id": "f7376a76-efe3-408d-9d36-5cd254bc90a7",
   "metadata": {},
   "source": [
    "### Kolmogorov-Smirnov Test\n",
    "The Kolmogorov-Smirnov (KS) test compares a sample with a reference probability distribution or compares two samples to test whether they come from the same distribution."
   ]
  },
  {
   "cell_type": "code",
   "execution_count": 108,
   "id": "2fa35263-89f6-4ba3-a3fe-fe0ecc6b1259",
   "metadata": {},
   "outputs": [
    {
     "name": "stdout",
     "output_type": "stream",
     "text": [
      "KS statistic: 0.00021442761324272364, p-value: 0.7472621696220333\n"
     ]
    }
   ],
   "source": [
    "from scipy.stats import kstest\n",
    "\n",
    "# Generate random data from a normal distribution\n",
    "data = np.random.randn(10000000)\n",
    "\n",
    "# Perform KS test against a standard normal distribution\n",
    "ks_stat, p_value = kstest(data, 'norm')\n",
    "\n",
    "print(f\"KS statistic: {ks_stat}, p-value: {p_value}\")"
   ]
  },
  {
   "cell_type": "markdown",
   "id": "ece94598-b73d-4579-8d3e-4b0d38c52abc",
   "metadata": {},
   "source": [
    "### Statistical Modeling"
   ]
  },
  {
   "cell_type": "code",
   "execution_count": 109,
   "id": "7a31b5ce-ae24-4b79-a6a0-8b159bf89c06",
   "metadata": {},
   "outputs": [
    {
     "name": "stdout",
     "output_type": "stream",
     "text": [
      "Slope: 1.9845012326767617, Intercept: -0.004927337760756378\n"
     ]
    }
   ],
   "source": [
    "from scipy.stats import linregress\n",
    "\n",
    "# Generate random data with a linear trend\n",
    "x = np.random.rand(100)\n",
    "y = 2 * x + np.random.randn(100) * 0.1\n",
    "\n",
    "# Perform linear regression\n",
    "slope, intercept, r_value, p_value, std_err = linregress(x, y)\n",
    "\n",
    "print(f\"Slope: {slope}, Intercept: {intercept}\")"
   ]
  },
  {
   "cell_type": "code",
   "execution_count": 110,
   "id": "e95fbbf1-fdbb-4cf8-9f53-0e11c0579eec",
   "metadata": {},
   "outputs": [
    {
     "data": {
      "text/plain": [
       "np.float64(0.9828078788472512)"
      ]
     },
     "execution_count": 110,
     "metadata": {},
     "output_type": "execute_result"
    }
   ],
   "source": [
    "r_value"
   ]
  }
 ],
 "metadata": {
  "kernelspec": {
   "display_name": "Python 3 (ipykernel)",
   "language": "python",
   "name": "python3"
  },
  "language_info": {
   "codemirror_mode": {
    "name": "ipython",
    "version": 3
   },
   "file_extension": ".py",
   "mimetype": "text/x-python",
   "name": "python",
   "nbconvert_exporter": "python",
   "pygments_lexer": "ipython3",
   "version": "3.12.6"
  }
 },
 "nbformat": 4,
 "nbformat_minor": 5
}
