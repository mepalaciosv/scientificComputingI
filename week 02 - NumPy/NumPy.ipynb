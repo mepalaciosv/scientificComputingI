{
 "cells": [
  {
   "cell_type": "markdown",
   "id": "454fb8e8-6e68-4850-b96d-91155f962799",
   "metadata": {},
   "source": [
    "# Numpy\n",
    "This is probably the most efficient library regarding scientific computation with arrays and matrices in Python. \n",
    "### Arrays (ndarrays)\n",
    "The fundamental structure in Numpy is a data type called ndarrays (n-dimensional arrays). These structures are similar to Python's basic lists, but they offer advantages in terms of memory usage and data access.\n",
    "### Importing Numpy\n",
    "The instruction to import all contents of `numpy` is"
   ]
  },
  {
   "cell_type": "code",
   "execution_count": 2,
   "id": "801add6a-401d-4d4d-a0e9-5a344af55906",
   "metadata": {},
   "outputs": [],
   "source": [
    "import numpy as np # as np is the pseudonym"
   ]
  },
  {
   "cell_type": "markdown",
   "id": "c5e6c109-3d76-4b6e-881a-9fc2a7760be3",
   "metadata": {},
   "source": [
    "Now we play a bit with arrays."
   ]
  },
  {
   "cell_type": "code",
   "execution_count": 3,
   "id": "976649bc-a629-4602-bc3e-449c87601921",
   "metadata": {},
   "outputs": [
    {
     "data": {
      "text/plain": [
       "numpy.ndarray"
      ]
     },
     "execution_count": 3,
     "metadata": {},
     "output_type": "execute_result"
    }
   ],
   "source": [
    "# one dimensional array (vector)\n",
    "a=np.array([1,2,3,4,5])\n",
    "type(a)"
   ]
  },
  {
   "cell_type": "code",
   "execution_count": 4,
   "id": "954bfaff-1e51-4467-a010-0eed8c539ca4",
   "metadata": {},
   "outputs": [
    {
     "name": "stdout",
     "output_type": "stream",
     "text": [
      "[ 4  8 12 16 20]\n",
      "[ 2  4  6  8 10]\n",
      "[ True  True False False False]\n",
      "[ 1  4  9 16 25]\n",
      "55\n"
     ]
    }
   ],
   "source": [
    "# Operations with an array\n",
    "print(a*4)\n",
    "print(a+a)\n",
    "print(a<3)\n",
    "print(a**2)\n",
    "print(a.T @ a) # np.dot(a,b)"
   ]
  },
  {
   "cell_type": "code",
   "execution_count": 5,
   "id": "5cd6bff9-fc03-43b7-ad18-8b310421b654",
   "metadata": {},
   "outputs": [
    {
     "data": {
      "text/plain": [
       "np.int64(55)"
      ]
     },
     "execution_count": 5,
     "metadata": {},
     "output_type": "execute_result"
    }
   ],
   "source": [
    "sum(a**2)"
   ]
  },
  {
   "cell_type": "code",
   "execution_count": 8,
   "id": "e447bdbd-0410-4a1e-8e34-66b9c98d5f70",
   "metadata": {},
   "outputs": [
    {
     "data": {
      "text/plain": [
       "(5,)"
      ]
     },
     "execution_count": 8,
     "metadata": {},
     "output_type": "execute_result"
    }
   ],
   "source": [
    "a.shape"
   ]
  },
  {
   "cell_type": "markdown",
   "id": "fd9392d7-05f4-47c3-903f-84e6c098fa08",
   "metadata": {},
   "source": [
    "And with 2-dimensional arrays, like \n",
    "$$b=\\left(\n",
    "    \\begin{array}{c} \n",
    "    2 & 1 & 2\\\\\\\\\n",
    "    1 & 4 & 1\\\\\\\\\n",
    "    2 & 1 & 6\n",
    "    \\end{array} \n",
    "\\right)$$"
   ]
  },
  {
   "cell_type": "code",
   "execution_count": 6,
   "id": "29adc094-c1dc-4927-8877-f1db0eb00f7f",
   "metadata": {},
   "outputs": [
    {
     "name": "stdout",
     "output_type": "stream",
     "text": [
      "[[2 1 2]\n",
      " [1 4 1]\n",
      " [2 1 6]]\n",
      "Dimension: 2\n",
      "Shape: (3, 3)\n",
      "Size: 9\n"
     ]
    }
   ],
   "source": [
    "b=np.array([[2,1,2],[1,4,1],[2,1,6]])\n",
    "print(b)\n",
    "# Printing dimension, shape and size\n",
    "print(\"Dimension: %i\"%b.ndim)\n",
    "print(\"Shape: \"+str(b.shape))\n",
    "print(\"Size: %i\"%b.size)"
   ]
  },
  {
   "cell_type": "code",
   "execution_count": 17,
   "id": "33efc25e-c2ce-4163-b171-74cc34b80b68",
   "metadata": {},
   "outputs": [
    {
     "data": {
      "text/plain": [
       "array([[2, 2],\n",
       "       [1, 1],\n",
       "       [2, 6]])"
      ]
     },
     "execution_count": 17,
     "metadata": {},
     "output_type": "execute_result"
    }
   ],
   "source": [
    "b[:,::2] ## a:b:c"
   ]
  },
  {
   "cell_type": "markdown",
   "id": "6d7aa813-eef5-4491-86a8-00512fb5f7bc",
   "metadata": {},
   "source": [
    "We can reshape an array:"
   ]
  },
  {
   "cell_type": "code",
   "execution_count": 23,
   "id": "fbe412f4-30c8-48ff-91a8-0d94e6e05901",
   "metadata": {},
   "outputs": [
    {
     "data": {
      "text/plain": [
       "array([2, 1, 2, 1, 4, 1, 2, 1, 6])"
      ]
     },
     "execution_count": 23,
     "metadata": {},
     "output_type": "execute_result"
    }
   ],
   "source": [
    "c = b.reshape(9)\n",
    "c"
   ]
  },
  {
   "cell_type": "code",
   "execution_count": 25,
   "id": "d214ffc5-3a81-4d55-b782-4a45d4e52765",
   "metadata": {},
   "outputs": [
    {
     "ename": "TypeError",
     "evalue": "'float' object cannot be interpreted as an integer",
     "output_type": "error",
     "traceback": [
      "\u001b[0;31m---------------------------------------------------------------------------\u001b[0m",
      "\u001b[0;31mTypeError\u001b[0m                                 Traceback (most recent call last)",
      "Cell \u001b[0;32mIn[25], line 1\u001b[0m\n\u001b[0;32m----> 1\u001b[0m lista \u001b[38;5;241m=\u001b[39m [ii \u001b[38;5;28;01mfor\u001b[39;00m ii \u001b[38;5;129;01min\u001b[39;00m \u001b[38;5;28;43mrange\u001b[39;49m\u001b[43m(\u001b[49m\u001b[38;5;241;43m0\u001b[39;49m\u001b[43m,\u001b[49m\u001b[43m \u001b[49m\u001b[38;5;241;43m11\u001b[39;49m\u001b[43m,\u001b[49m\u001b[43m \u001b[49m\u001b[38;5;241;43m0.2\u001b[39;49m\u001b[43m)\u001b[49m]\n\u001b[1;32m      2\u001b[0m lista\n",
      "\u001b[0;31mTypeError\u001b[0m: 'float' object cannot be interpreted as an integer"
     ]
    }
   ],
   "source": [
    "lista = [ii for ii in range(0, 11, 0.2)]\n",
    "lista"
   ]
  },
  {
   "cell_type": "code",
   "execution_count": 34,
   "id": "4b0f0810-a6c0-4a7f-a419-c740686acb82",
   "metadata": {},
   "outputs": [
    {
     "name": "stdout",
     "output_type": "stream",
     "text": [
      "[ 0.5  1.   1.5  2.   2.5  3.   3.5  4.   4.5  5.   5.5  6.   6.5  7.\n",
      "  7.5  8.   8.5  9.   9.5 10.  10.5 11.  11.5 12.  12.5]\n"
     ]
    }
   ],
   "source": [
    "my_array=np.arange(0.5,12.6,0.5)\n",
    "print(my_array)"
   ]
  },
  {
   "cell_type": "code",
   "execution_count": 38,
   "id": "b95ba410-d0da-465d-8159-697e306e8939",
   "metadata": {},
   "outputs": [
    {
     "data": {
      "text/plain": [
       "array([12.5, 12. , 11.5, 11. , 10.5, 10. ,  9.5,  9. ,  8.5,  8. ,  7.5,\n",
       "        7. ,  6.5,  6. ,  5.5,  5. ,  4.5,  4. ,  3.5,  3. ,  2.5,  2. ,\n",
       "        1.5,  1. ,  0.5])"
      ]
     },
     "execution_count": 38,
     "metadata": {},
     "output_type": "execute_result"
    }
   ],
   "source": [
    "my_array[::-1]"
   ]
  },
  {
   "cell_type": "code",
   "execution_count": 27,
   "id": "70e6bd88-2e7c-4b14-9862-7861f02ee185",
   "metadata": {},
   "outputs": [
    {
     "data": {
      "text/plain": [
       "(25,)"
      ]
     },
     "execution_count": 27,
     "metadata": {},
     "output_type": "execute_result"
    }
   ],
   "source": [
    "my_array.shape"
   ]
  },
  {
   "cell_type": "code",
   "execution_count": 28,
   "id": "0d11e3ad-00cc-412e-bc86-c9d4e04af9b5",
   "metadata": {},
   "outputs": [
    {
     "name": "stdout",
     "output_type": "stream",
     "text": [
      "[[ 0.5  1.   1.5  2.   2.5]\n",
      " [ 3.   3.5  4.   4.5  5. ]\n",
      " [ 5.5  6.   6.5  7.   7.5]\n",
      " [ 8.   8.5  9.   9.5 10. ]\n",
      " [10.5 11.  11.5 12.  12.5]]\n"
     ]
    }
   ],
   "source": [
    "print(my_array.reshape(5,5))"
   ]
  },
  {
   "cell_type": "markdown",
   "id": "ab147e68-efd6-4713-b4ec-07934efc182e",
   "metadata": {},
   "source": [
    "Now we index the elements of the array in different ways."
   ]
  },
  {
   "cell_type": "code",
   "execution_count": 40,
   "id": "d3aebf99-cd00-463e-b407-b576e10a631b",
   "metadata": {},
   "outputs": [
    {
     "name": "stdout",
     "output_type": "stream",
     "text": [
      "[ 0.5  3.   5.5  8.  10.5]\n",
      "[0.5 1.  1.5 2.  2.5]\n",
      "[ 0.5  3.5  6.5  9.5 12.5]\n"
     ]
    },
    {
     "data": {
      "text/plain": [
       "array([[ 0.5,  1. ,  1.5,  2. ,  2.5],\n",
       "       [ 3. ,  3.5,  4. ,  4.5,  5. ],\n",
       "       [ 5.5,  6. ,  6.5,  7. ,  7.5],\n",
       "       [ 8. ,  8.5,  9. ,  9.5, 10. ],\n",
       "       [10.5, 11. , 11.5, 12. , 12.5]])"
      ]
     },
     "execution_count": 40,
     "metadata": {},
     "output_type": "execute_result"
    }
   ],
   "source": [
    "my_array = my_array.reshape(5,5)\n",
    "# Elements of the first column\n",
    "print(my_array[:,0])\n",
    "# Elements of the first row\n",
    "print(my_array[0,:])\n",
    "# Diagonal elements\n",
    "print(my_array.diagonal())\n",
    "my_array"
   ]
  },
  {
   "cell_type": "code",
   "execution_count": 47,
   "id": "790c8379-397a-4f54-a0fa-a4374910de8f",
   "metadata": {},
   "outputs": [
    {
     "data": {
      "text/plain": [
       "5"
      ]
     },
     "execution_count": 47,
     "metadata": {},
     "output_type": "execute_result"
    }
   ],
   "source": [
    "len(my_array)"
   ]
  },
  {
   "cell_type": "code",
   "execution_count": 53,
   "id": "4fdd9f02-806b-43c1-86ea-3b5039312ecf",
   "metadata": {},
   "outputs": [
    {
     "data": {
      "text/plain": [
       "3"
      ]
     },
     "execution_count": 53,
     "metadata": {},
     "output_type": "execute_result"
    }
   ],
   "source": [
    "np.zeros((4,3)).shape[1]"
   ]
  },
  {
   "cell_type": "code",
   "execution_count": 84,
   "id": "14f9fb9e-f943-4378-ad3a-f06614238f99",
   "metadata": {},
   "outputs": [
    {
     "name": "stdout",
     "output_type": "stream",
     "text": [
      "[[ 0.5  1.   2.   2.5]\n",
      " [ 3.   3.5  4.5  5. ]\n",
      " [ 8.   8.5  9.5 10. ]\n",
      " [10.5 11.  12.  12.5]]\n"
     ]
    }
   ],
   "source": [
    "def minor(i,j, mat):\n",
    "    rows = [ii for ii in range(len(mat))]\n",
    "    columns = rows.copy()\n",
    "    rows.remove(i); columns.remove(j)\n",
    "    return mat[rows][:,columns]\n",
    "    #var = mat[rows]\n",
    "    #return var[:,columns]\n",
    "my_array\n",
    "print(minor(-1,-1,my_array))"
   ]
  },
  {
   "cell_type": "code",
   "execution_count": 86,
   "id": "1c0965eb-ad7a-4006-a37d-d6aaaaafeb00",
   "metadata": {},
   "outputs": [
    {
     "data": {
      "text/plain": [
       "np.float64(12.5)"
      ]
     },
     "execution_count": 86,
     "metadata": {},
     "output_type": "execute_result"
    }
   ],
   "source": [
    "my_array[-1,-1]"
   ]
  },
  {
   "cell_type": "code",
   "execution_count": 73,
   "id": "6182e20e-8c6b-4d58-acb6-98bab598ec34",
   "metadata": {},
   "outputs": [
    {
     "data": {
      "text/plain": [
       "array([[ 0.5,  1. ,  1.5,  2. ,  2.5],\n",
       "       [ 3. ,  3.5,  4. ,  4.5,  5. ],\n",
       "       [ 8. ,  8.5,  9. ,  9.5, 10. ],\n",
       "       [10.5, 11. , 11.5, 12. , 12.5]])"
      ]
     },
     "execution_count": 73,
     "metadata": {},
     "output_type": "execute_result"
    }
   ],
   "source": [
    "obj=my_array[[0,1,3,4]]\n",
    "obj"
   ]
  },
  {
   "cell_type": "code",
   "execution_count": 74,
   "id": "c405dd40-55dd-4f90-8e90-33da1edae2f8",
   "metadata": {},
   "outputs": [
    {
     "data": {
      "text/plain": [
       "array([[ 0.5,  1. ,  2. ,  2.5],\n",
       "       [ 3. ,  3.5,  4.5,  5. ],\n",
       "       [ 8. ,  8.5,  9.5, 10. ],\n",
       "       [10.5, 11. , 12. , 12.5]])"
      ]
     },
     "execution_count": 74,
     "metadata": {},
     "output_type": "execute_result"
    }
   ],
   "source": [
    "obj[:,[0,1,3,4]]"
   ]
  },
  {
   "cell_type": "code",
   "execution_count": 66,
   "id": "9b0d1af6-66f9-4fe7-bce2-e9256a458eb1",
   "metadata": {},
   "outputs": [
    {
     "name": "stdout",
     "output_type": "stream",
     "text": [
      "[0, 1, 3, 4] [0, 1, 3, 4]\n"
     ]
    },
    {
     "data": {
      "text/plain": [
       "array([ 0.5,  3.5,  9.5, 12.5])"
      ]
     },
     "execution_count": 66,
     "metadata": {},
     "output_type": "execute_result"
    }
   ],
   "source": [
    "minor(2,2, my_array)"
   ]
  },
  {
   "cell_type": "code",
   "execution_count": 56,
   "id": "cca56f48-90d4-488d-b4d5-e334b02f1925",
   "metadata": {},
   "outputs": [
    {
     "name": "stdout",
     "output_type": "stream",
     "text": [
      "None\n"
     ]
    }
   ],
   "source": [
    "lista = [1,2,3,4]\n",
    "print(lista.remove(2))"
   ]
  },
  {
   "cell_type": "code",
   "execution_count": 57,
   "id": "503016e3-cbb9-4fea-a27c-f07124adaca1",
   "metadata": {},
   "outputs": [
    {
     "data": {
      "text/plain": [
       "[1, 3, 4]"
      ]
     },
     "execution_count": 57,
     "metadata": {},
     "output_type": "execute_result"
    }
   ],
   "source": [
    "lista"
   ]
  },
  {
   "cell_type": "markdown",
   "id": "fafcb06b-cc56-4b94-bab7-66c7f5b255c7",
   "metadata": {},
   "source": [
    "### Random Arrays\n",
    "`numpy` has dedicated methods to work with randon numbers. We will see some of them"
   ]
  },
  {
   "cell_type": "code",
   "execution_count": 102,
   "id": "98e084dc-d528-4a7c-a423-0a7b63ddebd0",
   "metadata": {},
   "outputs": [
    {
     "name": "stdout",
     "output_type": "stream",
     "text": [
      "(10, 10)\n",
      "[0.04858696 0.10218501 0.16191658 0.30013725 0.44707151 0.112308\n",
      " 0.40457038 0.23973569 0.17622336 0.34685063 0.01470069 0.02341875\n",
      " 0.14697583 0.3228539  0.48174107 0.11519602 0.06952414 0.46058743\n",
      " 0.36963597 0.12209463 0.31530804 0.328945   0.22967319 0.31308619\n",
      " 0.42609997 0.39126115 0.10516061 0.32307304 0.05656214 0.30425778\n",
      " 0.24715295 0.14344721 0.17442282 0.13311739 0.2842238  0.19607923\n",
      " 0.15010889 0.13126795 0.10421217 0.04211582 0.02159897 0.4666462\n",
      " 0.21462452 0.41937369 0.48008961 0.48940758 0.49340767 0.11438514\n",
      " 0.32449051 0.44345469 0.4536359  0.35990661 0.44464133 0.25888862\n",
      " 0.25467219]\n",
      "55\n"
     ]
    }
   ],
   "source": [
    "# Printing (uniform) random numbers\n",
    "# from 0 to 1, in a 10x10 matrix\n",
    "random_numbers=np.random.random(size=(10,10)) \n",
    "print(random_numbers.shape)\n",
    "# Select the ones smaller or equal to 0.5:\n",
    "less_or_equal=random_numbers[random_numbers<=0.5]\n",
    "print(less_or_equal)\n",
    "print(less_or_equal.size)"
   ]
  },
  {
   "cell_type": "code",
   "execution_count": 100,
   "id": "3d83da5f-6378-4d2f-b761-164c5ed67cc4",
   "metadata": {},
   "outputs": [
    {
     "name": "stdout",
     "output_type": "stream",
     "text": [
      "Help on method random in module numpy.random.mtrand:\n",
      "\n",
      "random(size=None) method of numpy.random.mtrand.RandomState instance\n",
      "    random(size=None)\n",
      "\n",
      "    Return random floats in the half-open interval [0.0, 1.0). Alias for\n",
      "    `random_sample` to ease forward-porting to the new random API.\n",
      "\n"
     ]
    }
   ],
   "source": [
    "help(np.random.random)"
   ]
  },
  {
   "cell_type": "code",
   "execution_count": 103,
   "id": "76741aa8-e136-4b0f-b2e2-30463dd56769",
   "metadata": {},
   "outputs": [
    {
     "name": "stdout",
     "output_type": "stream",
     "text": [
      "[[ 8.09487345 -1.3370044  -1.42956405 -1.35834531 10.52478115]\n",
      " [ 0.71477573  8.84172811 -3.87583398  6.09295125 -4.19797368]\n",
      " [ 5.43827958  2.00631414 11.44457809 -0.07663638 -0.40444423]\n",
      " [10.1173693   3.66196294 -0.78268875  8.84872724  7.37951447]\n",
      " [ 8.61342279  9.84247132 -2.87975392 -2.0606443   6.90654661]]\n",
      "\n",
      "[[ 5.7060778  11.73167259  4.6370206   6.21562875  6.79310731]\n",
      " [ 6.08646249  1.55979719  2.36623319  1.93746692  5.92473641]\n",
      " [ 4.24190929 12.32454726  3.07888839  0.19756487  8.90999521]\n",
      " [13.80223728  3.95293209 -9.4400815   3.91305857  7.93105013]\n",
      " [-2.17550633  1.51376051  2.1620985  12.06135006 13.7399959 ]]\n"
     ]
    }
   ],
   "source": [
    "print(np.random.uniform(-5, 12, size=(5,5))) #(lower lim, upper lim, shape)\n",
    "print()\n",
    "print(np.random.normal(5, 5, size=(5,5))) #(mean, std, shape)"
   ]
  },
  {
   "cell_type": "code",
   "execution_count": 104,
   "id": "9fbc1707-1a10-4f83-8dc7-5b12f63f90d2",
   "metadata": {},
   "outputs": [
    {
     "data": {
      "text/plain": [
       "array([7, 3, 0, 6, 5, 4, 5, 0, 8, 4, 8, 6, 5, 7, 1, 1, 1, 7, 7, 8, 3, 2,\n",
       "       2, 4, 6, 1, 8, 5, 2, 9, 3, 9, 0, 1, 5, 4, 4, 4, 8, 9, 9, 6, 4, 2,\n",
       "       8, 7, 4, 4, 5, 9, 9, 8, 9, 7, 7, 2, 1, 9, 1, 1, 8, 1, 0, 5, 9, 3,\n",
       "       3, 2, 5, 3, 0, 7, 7, 5, 5, 4, 1, 5, 3, 5, 5, 3, 7, 4, 4, 4, 4, 8,\n",
       "       1, 8, 4, 1, 6, 0, 0, 2, 4, 8, 2, 5])"
      ]
     },
     "execution_count": 104,
     "metadata": {},
     "output_type": "execute_result"
    }
   ],
   "source": [
    "np.random.randint(0,10, size=(100,))"
   ]
  },
  {
   "cell_type": "markdown",
   "id": "0899dbd2-27a2-493a-9c0d-0e03f468e9ec",
   "metadata": {},
   "source": [
    "### Linear algebra\n",
    "Now let us see some common linear algebra operations."
   ]
  },
  {
   "cell_type": "code",
   "execution_count": 105,
   "id": "9b46673e-1593-4901-ba30-82b0cdfd0513",
   "metadata": {},
   "outputs": [
    {
     "name": "stdout",
     "output_type": "stream",
     "text": [
      "[[2. 7. 5.]\n",
      " [0. 9. 8.]\n",
      " [7. 4. 0.]]\n"
     ]
    }
   ],
   "source": [
    "# a 3x3 matrix\n",
    "matrix=np.array([[2,7,5],[0,9,8],[7,4,0]])\n",
    "# Multiplying by the identity matrix\n",
    "print(matrix.dot(np.eye(3,3)))"
   ]
  },
  {
   "cell_type": "code",
   "execution_count": 109,
   "id": "8f79322c-73fa-416a-8b42-cbf0a0eb46ae",
   "metadata": {},
   "outputs": [
    {
     "ename": "ValueError",
     "evalue": "matmul: Input operand 1 has a mismatch in its core dimension 0, with gufunc signature (n?,k),(k,m?)->(n?,m?) (size 2 is different from 3)",
     "output_type": "error",
     "traceback": [
      "\u001b[0;31m---------------------------------------------------------------------------\u001b[0m",
      "\u001b[0;31mValueError\u001b[0m                                Traceback (most recent call last)",
      "Cell \u001b[0;32mIn[109], line 1\u001b[0m\n\u001b[0;32m----> 1\u001b[0m \u001b[43mmatrix\u001b[49m\u001b[43m \u001b[49m\u001b[38;5;241;43m@\u001b[39;49m\u001b[43m \u001b[49m\u001b[43mnp\u001b[49m\u001b[38;5;241;43m.\u001b[39;49m\u001b[43meye\u001b[49m\u001b[43m(\u001b[49m\u001b[38;5;241;43m2\u001b[39;49m\u001b[43m,\u001b[49m\u001b[38;5;241;43m3\u001b[39;49m\u001b[43m)\u001b[49m\n",
      "\u001b[0;31mValueError\u001b[0m: matmul: Input operand 1 has a mismatch in its core dimension 0, with gufunc signature (n?,k),(k,m?)->(n?,m?) (size 2 is different from 3)"
     ]
    }
   ],
   "source": [
    "matrix @ np.eye(2,3)"
   ]
  },
  {
   "cell_type": "code",
   "execution_count": 111,
   "id": "1e749aa4-8d78-4d10-99a0-e31e60792932",
   "metadata": {},
   "outputs": [
    {
     "name": "stdout",
     "output_type": "stream",
     "text": [
      "[[ 39  97  66]\n",
      " [ 56 113  72]\n",
      " [ 14  85  67]] \n",
      " [[ 4 49 25]\n",
      " [ 0 81 64]\n",
      " [49 16  0]]\n"
     ]
    }
   ],
   "source": [
    "# (Matrix)^2\n",
    "print(matrix @ matrix,\"\\n\", matrix ** 2)"
   ]
  },
  {
   "cell_type": "code",
   "execution_count": 112,
   "id": "32b62dc3-f333-43a0-9a24-e426773ec4be",
   "metadata": {},
   "outputs": [
    {
     "name": "stdout",
     "output_type": "stream",
     "text": [
      "13.000000000000005\n"
     ]
    }
   ],
   "source": [
    "# Matrix determinant\n",
    "print(np.linalg.det(matrix))"
   ]
  },
  {
   "cell_type": "markdown",
   "id": "9e10dadc-b0ba-4585-a78c-aa82437dee1a",
   "metadata": {},
   "source": [
    "### Intervals and Grids\n",
    "Intervals have various applications, such as graphing or performing numerical integrations. Grids are two-dimensional intervals, useful when plotting three-dimensional surfaces. The methods for creating partitions are presented below.\n",
    "\n",
    "The `meshgrid(a,b)` method creates a correspondence between all elements of a with all elements of b. This way, we create a two-dimensional surface, which is useful for graphing scalar fields of $F:\\mathbb{R}^2\\rightarrow \\mathbb{R}$."
   ]
  },
  {
   "cell_type": "code",
   "execution_count": 114,
   "id": "3c8d888c-8d88-46f9-946b-5457d839aa95",
   "metadata": {},
   "outputs": [
    {
     "name": "stdout",
     "output_type": "stream",
     "text": [
      "[ 0.          0.1010101   0.2020202   0.3030303   0.4040404   0.50505051\n",
      "  0.60606061  0.70707071  0.80808081  0.90909091  1.01010101  1.11111111\n",
      "  1.21212121  1.31313131  1.41414141  1.51515152  1.61616162  1.71717172\n",
      "  1.81818182  1.91919192  2.02020202  2.12121212  2.22222222  2.32323232\n",
      "  2.42424242  2.52525253  2.62626263  2.72727273  2.82828283  2.92929293\n",
      "  3.03030303  3.13131313  3.23232323  3.33333333  3.43434343  3.53535354\n",
      "  3.63636364  3.73737374  3.83838384  3.93939394  4.04040404  4.14141414\n",
      "  4.24242424  4.34343434  4.44444444  4.54545455  4.64646465  4.74747475\n",
      "  4.84848485  4.94949495  5.05050505  5.15151515  5.25252525  5.35353535\n",
      "  5.45454545  5.55555556  5.65656566  5.75757576  5.85858586  5.95959596\n",
      "  6.06060606  6.16161616  6.26262626  6.36363636  6.46464646  6.56565657\n",
      "  6.66666667  6.76767677  6.86868687  6.96969697  7.07070707  7.17171717\n",
      "  7.27272727  7.37373737  7.47474747  7.57575758  7.67676768  7.77777778\n",
      "  7.87878788  7.97979798  8.08080808  8.18181818  8.28282828  8.38383838\n",
      "  8.48484848  8.58585859  8.68686869  8.78787879  8.88888889  8.98989899\n",
      "  9.09090909  9.19191919  9.29292929  9.39393939  9.49494949  9.5959596\n",
      "  9.6969697   9.7979798   9.8989899  10.        ]\n"
     ]
    }
   ],
   "source": [
    "espacio = np.linspace(0,10,100)\n",
    "print(espacio)"
   ]
  },
  {
   "cell_type": "code",
   "execution_count": 119,
   "id": "28f3c13a-1aa0-4545-a3f7-b010151c293f",
   "metadata": {},
   "outputs": [
    {
     "name": "stdout",
     "output_type": "stream",
     "text": [
      "[[1 2 3]\n",
      " [1 2 3]\n",
      " [1 2 3]\n",
      " [1 2 3]]\n",
      "\n",
      "[[4 4 4]\n",
      " [5 5 5]\n",
      " [6 6 6]\n",
      " [7 7 7]]\n"
     ]
    }
   ],
   "source": [
    "x = np.array([1,2,3])\n",
    "y = np.array([4,5,6,7])\n",
    "X,Y = np.meshgrid(x,y)\n",
    "print(X)\n",
    "print()\n",
    "print(Y)"
   ]
  },
  {
   "cell_type": "markdown",
   "id": "46aa4aba-6663-4b9c-9735-40e23ce2a38b",
   "metadata": {},
   "source": [
    "### Solve a system of linear equations\n",
    "Is easy to solve linear equation systems with **Numpy**, one can initialize the two matrices $A$ and $b$ that satisfies $Ax=b$ for an unique value of $x$. Notice that if the system is inconsistent or linearly dependent, **Numpy** will throw an error. Let's see some examples.\n",
    "\n",
    "Suposse you want to solve the next linear equation system:\n",
    "\n",
    "$$\\left(\n",
    "    \\begin{array}{c} \n",
    "    3 & 1\\\\\n",
    "    1 & 2 \n",
    "    \\end{array} \n",
    "\\right)\n",
    "\\left(\n",
    "    \\begin{array}{c}\n",
    "    x_1\\\\\n",
    "    x_2\n",
    "    \\end{array}\n",
    "\\right)=\n",
    "\\left(\n",
    "    \\begin{array}{c}\n",
    "    9\\\\\n",
    "    8\n",
    "    \\end{array}\n",
    "\\right)$$\n",
    "This is the way to do it."
   ]
  },
  {
   "cell_type": "code",
   "execution_count": 120,
   "id": "327a2480-dee6-4bb5-8324-8ab7dcc1f4cc",
   "metadata": {},
   "outputs": [
    {
     "name": "stdout",
     "output_type": "stream",
     "text": [
      "[2. 3.]\n"
     ]
    }
   ],
   "source": [
    "a = np.array([[3,1], [1,2]])\n",
    "b = np.array([9,8])\n",
    "x = np.linalg.solve(a, b)\n",
    "print(x)"
   ]
  },
  {
   "cell_type": "markdown",
   "id": "7fe66c82-ff07-46e8-b879-f1291fef12c0",
   "metadata": {},
   "source": [
    "or"
   ]
  },
  {
   "cell_type": "code",
   "execution_count": 121,
   "id": "fe3d8260-c16f-403e-b4e2-4236351470f8",
   "metadata": {},
   "outputs": [
    {
     "name": "stdout",
     "output_type": "stream",
     "text": [
      "[2. 3.]\n"
     ]
    }
   ],
   "source": [
    "print(np.dot(np.linalg.inv(a),b))"
   ]
  },
  {
   "cell_type": "markdown",
   "id": "3c5eab8c-21cc-4a6a-890a-31472a74a547",
   "metadata": {},
   "source": [
    "### Eigenvalues and eigenvectors\n",
    "Recall that an eigenvalue $\\lambda$ (with resp. eigenvector $v$) of a matrix $A$ satisfies $$Av = \\lambda v$. We can find the eigenvalues and eigenvectors of a given matrix using numpy."
   ]
  },
  {
   "cell_type": "code",
   "execution_count": 122,
   "id": "f10e5da9-ddca-4bc2-8c5f-e98c13d1582b",
   "metadata": {},
   "outputs": [
    {
     "name": "stdout",
     "output_type": "stream",
     "text": [
      "[1. 2. 3.]\n",
      "[[1. 0. 0.]\n",
      " [0. 1. 0.]\n",
      " [0. 0. 1.]]\n"
     ]
    }
   ],
   "source": [
    "w, v = np.linalg.eig(np.diag((1, 2, 3)))\n",
    "print(w) #Where w is an array with the eigenvalues\n",
    "print(v) #And v is a matrix with the eigenvectors"
   ]
  },
  {
   "cell_type": "markdown",
   "id": "495e9aa4-6284-4eea-adb1-106c8e24b5ca",
   "metadata": {},
   "source": [
    "# Examples\n",
    "1. Using numpy arrays, show all odd numbers between 1 and 3000."
   ]
  },
  {
   "cell_type": "code",
   "execution_count": 127,
   "id": "8a2fde0d-0788-4d58-8e1d-5f95569ed350",
   "metadata": {},
   "outputs": [
    {
     "data": {
      "text/plain": [
       "array([   1,    3,    5, ..., 2995, 2997, 2999])"
      ]
     },
     "execution_count": 127,
     "metadata": {},
     "output_type": "execute_result"
    }
   ],
   "source": [
    "a = np.arange(1, 3001)\n",
    "a[a%2 == 1]"
   ]
  },
  {
   "cell_type": "markdown",
   "id": "96027e5a-35c5-4599-8c7f-1bb1d0c3f2b1",
   "metadata": {},
   "source": [
    "2. Roll six six-sided dice many times. Numerically, what is the probability that two or more dice show the same number? If you roll seven six-sided dice, what is the probability that at least two of them show the same number?"
   ]
  },
  {
   "cell_type": "markdown",
   "id": "659fcd63-c57b-4903-9317-660fa865ac4f",
   "metadata": {},
   "source": [
    "_ 5/6 4/6 3/6 2/6 1/6 = $\\frac{6!}{6^6}$\n",
    "Probability to obtain at least two equal dice: 1-6!/6^6 "
   ]
  },
  {
   "cell_type": "code",
   "execution_count": 181,
   "id": "1eecf66e-1afd-4677-bcb7-d938e822e141",
   "metadata": {},
   "outputs": [
    {
     "data": {
      "text/plain": [
       "np.float64(0.984438)"
      ]
     },
     "execution_count": 181,
     "metadata": {},
     "output_type": "execute_result"
    }
   ],
   "source": [
    "dice = np.random.randint(1,7, size=(1000000, 6))\n",
    "dice.sort()\n",
    "arr = np.array([1,2,3,4,5,6])\n",
    "1-np.sum(np.sum(dice == arr, axis=1) == 6)/len(dice)"
   ]
  },
  {
   "cell_type": "code",
   "execution_count": 182,
   "id": "4bdc20f7-06f6-43fa-95f7-d119022645f4",
   "metadata": {},
   "outputs": [
    {
     "data": {
      "text/plain": [
       "0.9845679012345679"
      ]
     },
     "execution_count": 182,
     "metadata": {},
     "output_type": "execute_result"
    }
   ],
   "source": [
    "import math\n",
    "1-math.factorial(6)/6**6"
   ]
  },
  {
   "cell_type": "code",
   "execution_count": 151,
   "id": "0103b53f-6a1d-4f01-b17d-acdcb3c1332d",
   "metadata": {},
   "outputs": [],
   "source": [
    "dice.sort(axis=0)"
   ]
  },
  {
   "cell_type": "code",
   "execution_count": 152,
   "id": "bce4cbe1-fb4b-465c-af6f-2bb103a20eba",
   "metadata": {},
   "outputs": [
    {
     "data": {
      "text/plain": [
       "array([[1, 1, 1, 1, 1, 1],\n",
       "       [1, 1, 1, 1, 1, 1],\n",
       "       [1, 1, 1, 1, 1, 1],\n",
       "       [1, 1, 1, 1, 1, 1],\n",
       "       [1, 1, 1, 1, 1, 1],\n",
       "       [1, 1, 1, 1, 1, 1],\n",
       "       [1, 1, 1, 1, 1, 1],\n",
       "       [1, 1, 1, 1, 1, 1],\n",
       "       [1, 1, 1, 1, 1, 1],\n",
       "       [1, 1, 1, 1, 1, 1],\n",
       "       [1, 1, 1, 1, 1, 1],\n",
       "       [1, 1, 1, 1, 1, 1],\n",
       "       [1, 1, 1, 1, 1, 1],\n",
       "       [1, 1, 1, 1, 1, 1],\n",
       "       [1, 1, 1, 1, 1, 1],\n",
       "       [1, 1, 2, 2, 1, 1],\n",
       "       [1, 1, 2, 2, 1, 2],\n",
       "       [1, 1, 2, 2, 1, 2],\n",
       "       [2, 1, 2, 2, 1, 2],\n",
       "       [2, 2, 2, 2, 1, 2],\n",
       "       [2, 2, 2, 2, 1, 2],\n",
       "       [2, 2, 2, 2, 1, 2],\n",
       "       [2, 2, 2, 2, 1, 2],\n",
       "       [2, 2, 2, 2, 1, 2],\n",
       "       [2, 2, 2, 2, 2, 2],\n",
       "       [2, 2, 2, 2, 2, 2],\n",
       "       [2, 2, 2, 2, 2, 2],\n",
       "       [2, 2, 2, 2, 2, 2],\n",
       "       [2, 2, 2, 2, 2, 2],\n",
       "       [2, 2, 2, 3, 2, 2],\n",
       "       [2, 2, 2, 3, 2, 2],\n",
       "       [2, 2, 2, 3, 2, 2],\n",
       "       [2, 2, 2, 3, 2, 2],\n",
       "       [2, 2, 2, 3, 2, 2],\n",
       "       [2, 2, 2, 3, 2, 2],\n",
       "       [2, 2, 3, 3, 2, 2],\n",
       "       [3, 3, 3, 3, 2, 2],\n",
       "       [3, 3, 3, 3, 2, 2],\n",
       "       [3, 3, 3, 3, 2, 3],\n",
       "       [3, 3, 3, 3, 3, 3],\n",
       "       [3, 3, 3, 3, 3, 3],\n",
       "       [3, 3, 3, 3, 3, 3],\n",
       "       [3, 3, 3, 3, 3, 3],\n",
       "       [3, 3, 3, 3, 3, 3],\n",
       "       [3, 3, 4, 3, 3, 3],\n",
       "       [3, 3, 4, 3, 3, 3],\n",
       "       [3, 3, 4, 3, 3, 3],\n",
       "       [3, 3, 4, 4, 3, 3],\n",
       "       [3, 3, 4, 4, 3, 3],\n",
       "       [3, 3, 4, 4, 3, 3],\n",
       "       [3, 3, 4, 4, 3, 3],\n",
       "       [3, 4, 4, 4, 3, 3],\n",
       "       [3, 4, 4, 4, 3, 3],\n",
       "       [3, 4, 4, 4, 3, 3],\n",
       "       [3, 4, 4, 4, 4, 4],\n",
       "       [4, 4, 4, 4, 4, 4],\n",
       "       [4, 4, 4, 4, 4, 4],\n",
       "       [4, 4, 4, 4, 4, 4],\n",
       "       [4, 4, 4, 4, 4, 4],\n",
       "       [4, 4, 5, 4, 4, 4],\n",
       "       [4, 4, 5, 4, 4, 4],\n",
       "       [4, 4, 5, 4, 4, 4],\n",
       "       [4, 4, 5, 4, 4, 4],\n",
       "       [4, 4, 5, 4, 4, 4],\n",
       "       [4, 4, 5, 4, 4, 4],\n",
       "       [4, 4, 5, 4, 5, 4],\n",
       "       [4, 4, 5, 5, 5, 4],\n",
       "       [4, 4, 5, 5, 5, 4],\n",
       "       [4, 5, 5, 5, 5, 4],\n",
       "       [4, 5, 5, 5, 5, 4],\n",
       "       [5, 5, 5, 5, 5, 5],\n",
       "       [5, 5, 5, 5, 5, 5],\n",
       "       [5, 5, 5, 5, 5, 5],\n",
       "       [5, 5, 5, 5, 5, 5],\n",
       "       [5, 5, 5, 5, 5, 5],\n",
       "       [5, 5, 5, 5, 5, 5],\n",
       "       [5, 5, 5, 5, 5, 5],\n",
       "       [5, 5, 5, 5, 5, 5],\n",
       "       [5, 5, 5, 5, 5, 5],\n",
       "       [5, 5, 6, 5, 5, 5],\n",
       "       [5, 5, 6, 5, 5, 5],\n",
       "       [5, 5, 6, 5, 5, 5],\n",
       "       [5, 6, 6, 5, 5, 5],\n",
       "       [6, 6, 6, 5, 5, 5],\n",
       "       [6, 6, 6, 5, 6, 6],\n",
       "       [6, 6, 6, 6, 6, 6],\n",
       "       [6, 6, 6, 6, 6, 6],\n",
       "       [6, 6, 6, 6, 6, 6],\n",
       "       [6, 6, 6, 6, 6, 6],\n",
       "       [6, 6, 6, 6, 6, 6],\n",
       "       [6, 6, 6, 6, 6, 6],\n",
       "       [6, 6, 6, 6, 6, 6],\n",
       "       [6, 6, 6, 6, 6, 6],\n",
       "       [6, 6, 6, 6, 6, 6],\n",
       "       [6, 6, 6, 6, 6, 6],\n",
       "       [6, 6, 6, 6, 6, 6],\n",
       "       [6, 6, 6, 6, 6, 6],\n",
       "       [6, 6, 6, 6, 6, 6],\n",
       "       [6, 6, 6, 6, 6, 6],\n",
       "       [6, 6, 6, 6, 6, 6]])"
      ]
     },
     "execution_count": 152,
     "metadata": {},
     "output_type": "execute_result"
    }
   ],
   "source": [
    "dice"
   ]
  },
  {
   "cell_type": "code",
   "execution_count": 130,
   "id": "6eb5fadc-61ed-4a75-8f64-5ddf92e10af6",
   "metadata": {},
   "outputs": [
    {
     "data": {
      "text/plain": [
       "array([1, 2, 3, 4, 5, 6])"
      ]
     },
     "execution_count": 130,
     "metadata": {},
     "output_type": "execute_result"
    }
   ],
   "source": [
    "np.unique(np.array([1,2,3,4,4,5,5,6]))"
   ]
  },
  {
   "cell_type": "markdown",
   "id": "dcc22607-3b35-4349-ba2a-e967f2f7e667",
   "metadata": {},
   "source": [
    "3. Compute the dot product between two one-dimensional arrays of numbers."
   ]
  },
  {
   "cell_type": "code",
   "execution_count": null,
   "id": "78d02815-e4ac-4070-a3f2-39cb582df50f",
   "metadata": {},
   "outputs": [],
   "source": [
    "a.T @ b"
   ]
  },
  {
   "cell_type": "markdown",
   "id": "ac4cd331-0a80-41ff-8a45-cfb2ff6b6f8f",
   "metadata": {},
   "source": [
    "4. Separate the perfect squares of the array\n",
    "```python\n",
    "a=np.array([4,5,7,49,34,36,21,16,101,121,169,100,82,33,81,64])\n",
    "```"
   ]
  },
  {
   "cell_type": "code",
   "execution_count": 2,
   "id": "5d6dbf96-df74-46ed-8031-2a3a4cc1f64d",
   "metadata": {},
   "outputs": [],
   "source": [
    "import numpy as np"
   ]
  },
  {
   "cell_type": "code",
   "execution_count": 22,
   "id": "3485462e-d964-421f-90af-fa6f9e54f053",
   "metadata": {},
   "outputs": [],
   "source": [
    "a=np.array([4,5,7,49,34,36,21,16,101,121,169,100,82,33,81,64])\n",
    "mask = ((a**0.5) % 1 == 0) | (a%2==0)"
   ]
  },
  {
   "cell_type": "code",
   "execution_count": 23,
   "id": "e477ca0b-76d3-4aff-bdee-4aa5f340fbe6",
   "metadata": {},
   "outputs": [
    {
     "data": {
      "text/plain": [
       "array([  4,  49,  34,  36,  16, 121, 169, 100,  82,  81,  64])"
      ]
     },
     "execution_count": 23,
     "metadata": {},
     "output_type": "execute_result"
    }
   ],
   "source": [
    "a[mask]"
   ]
  },
  {
   "cell_type": "code",
   "execution_count": 24,
   "id": "05f5c493-8f99-4a0a-b9b4-884a143bd746",
   "metadata": {},
   "outputs": [
    {
     "data": {
      "text/plain": [
       "array([ 2.,  2.,  2.,  7.,  5.,  6.,  4.,  4., 10., 11., 13., 10.,  9.,\n",
       "        5.,  9.,  8.])"
      ]
     },
     "execution_count": 24,
     "metadata": {},
     "output_type": "execute_result"
    }
   ],
   "source": [
    "np.floor(a**0.5)"
   ]
  },
  {
   "cell_type": "code",
   "execution_count": null,
   "id": "16a83217-ff9e-40c4-8182-930613870861",
   "metadata": {},
   "outputs": [],
   "source": []
  }
 ],
 "metadata": {
  "kernelspec": {
   "display_name": "Python 3 (ipykernel)",
   "language": "python",
   "name": "python3"
  },
  "language_info": {
   "codemirror_mode": {
    "name": "ipython",
    "version": 3
   },
   "file_extension": ".py",
   "mimetype": "text/x-python",
   "name": "python",
   "nbconvert_exporter": "python",
   "pygments_lexer": "ipython3",
   "version": "3.12.4"
  }
 },
 "nbformat": 4,
 "nbformat_minor": 5
}
